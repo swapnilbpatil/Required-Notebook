{
  "nbformat": 4,
  "nbformat_minor": 0,
  "metadata": {
    "colab": {
      "name": "Car insurance claim.ipynb",
      "provenance": [],
      "authorship_tag": "ABX9TyNLg1D9owt1OlgSEKbSjnbw",
      "include_colab_link": true
    },
    "kernelspec": {
      "name": "python3",
      "display_name": "Python 3"
    },
    "language_info": {
      "name": "python"
    }
  },
  "cells": [
    {
      "cell_type": "markdown",
      "metadata": {
        "id": "view-in-github",
        "colab_type": "text"
      },
      "source": [
        "<a href=\"https://colab.research.google.com/github/swapnilbpatil/Required-Notebook/blob/main/Car_insurance_claim.ipynb\" target=\"_parent\"><img src=\"https://colab.research.google.com/assets/colab-badge.svg\" alt=\"Open In Colab\"/></a>"
      ]
    },
    {
      "cell_type": "markdown",
      "metadata": {
        "id": "xFRMx3c4KkGA"
      },
      "source": [
        "# **Task-1:Data loading and cleaning**"
      ]
    },
    {
      "cell_type": "code",
      "metadata": {
        "id": "GkNbnCQlESF4"
      },
      "source": [
        "import numpy as np\n",
        "import pandas as pd\n",
        "import seaborn as sns\n",
        "import matplotlib.pyplot as plt\n",
        "from sklearn.model_selection import train_test_split"
      ],
      "execution_count": 1,
      "outputs": []
    },
    {
      "cell_type": "code",
      "metadata": {
        "id": "d0b1x6ntFEJ3"
      },
      "source": [
        "df = pd.read_csv(\"pah.csv\")"
      ],
      "execution_count": 2,
      "outputs": []
    },
    {
      "cell_type": "code",
      "metadata": {
        "colab": {
          "base_uri": "https://localhost:8080/",
          "height": 275
        },
        "id": "QABOBn8JFKPl",
        "outputId": "123429aa-757c-4ba3-b40b-206b5a8f6d53"
      },
      "source": [
        "df.head()"
      ],
      "execution_count": 3,
      "outputs": [
        {
          "output_type": "execute_result",
          "data": {
            "text/html": [
              "<div>\n",
              "<style scoped>\n",
              "    .dataframe tbody tr th:only-of-type {\n",
              "        vertical-align: middle;\n",
              "    }\n",
              "\n",
              "    .dataframe tbody tr th {\n",
              "        vertical-align: top;\n",
              "    }\n",
              "\n",
              "    .dataframe thead th {\n",
              "        text-align: right;\n",
              "    }\n",
              "</style>\n",
              "<table border=\"1\" class=\"dataframe\">\n",
              "  <thead>\n",
              "    <tr style=\"text-align: right;\">\n",
              "      <th></th>\n",
              "      <th>ID</th>\n",
              "      <th>KIDSDRIV</th>\n",
              "      <th>AGE</th>\n",
              "      <th>HOMEKIDS</th>\n",
              "      <th>YOJ</th>\n",
              "      <th>INCOME</th>\n",
              "      <th>PARENT1</th>\n",
              "      <th>HOME_VAL</th>\n",
              "      <th>MSTATUS</th>\n",
              "      <th>GENDER</th>\n",
              "      <th>EDUCATION</th>\n",
              "      <th>OCCUPATION</th>\n",
              "      <th>TRAVTIME</th>\n",
              "      <th>CAR_USE</th>\n",
              "      <th>BLUEBOOK</th>\n",
              "      <th>TIF</th>\n",
              "      <th>CAR_TYPE</th>\n",
              "      <th>RED_CAR</th>\n",
              "      <th>OLDCLAIM</th>\n",
              "      <th>CLM_FREQ</th>\n",
              "      <th>REVOKED</th>\n",
              "      <th>MVR_PTS</th>\n",
              "      <th>CLM_AMT</th>\n",
              "      <th>CAR_AGE</th>\n",
              "      <th>CLAIM_FLAG</th>\n",
              "    </tr>\n",
              "  </thead>\n",
              "  <tbody>\n",
              "    <tr>\n",
              "      <th>0</th>\n",
              "      <td>63581743</td>\n",
              "      <td>0</td>\n",
              "      <td>60.0</td>\n",
              "      <td>0</td>\n",
              "      <td>11.0</td>\n",
              "      <td>$67,349</td>\n",
              "      <td>No</td>\n",
              "      <td>$0</td>\n",
              "      <td>z_No</td>\n",
              "      <td>M</td>\n",
              "      <td>PhD</td>\n",
              "      <td>Professional</td>\n",
              "      <td>14</td>\n",
              "      <td>Private</td>\n",
              "      <td>$14,230</td>\n",
              "      <td>11</td>\n",
              "      <td>Minivan</td>\n",
              "      <td>yes</td>\n",
              "      <td>$4,461</td>\n",
              "      <td>2</td>\n",
              "      <td>No</td>\n",
              "      <td>3</td>\n",
              "      <td>$0</td>\n",
              "      <td>18.0</td>\n",
              "      <td>0</td>\n",
              "    </tr>\n",
              "    <tr>\n",
              "      <th>1</th>\n",
              "      <td>132761049</td>\n",
              "      <td>0</td>\n",
              "      <td>43.0</td>\n",
              "      <td>0</td>\n",
              "      <td>11.0</td>\n",
              "      <td>$91,449</td>\n",
              "      <td>No</td>\n",
              "      <td>$257,252</td>\n",
              "      <td>z_No</td>\n",
              "      <td>M</td>\n",
              "      <td>z_High School</td>\n",
              "      <td>z_Blue Collar</td>\n",
              "      <td>22</td>\n",
              "      <td>Commercial</td>\n",
              "      <td>$14,940</td>\n",
              "      <td>1</td>\n",
              "      <td>Minivan</td>\n",
              "      <td>yes</td>\n",
              "      <td>$0</td>\n",
              "      <td>0</td>\n",
              "      <td>No</td>\n",
              "      <td>0</td>\n",
              "      <td>$0</td>\n",
              "      <td>1.0</td>\n",
              "      <td>0</td>\n",
              "    </tr>\n",
              "    <tr>\n",
              "      <th>2</th>\n",
              "      <td>921317019</td>\n",
              "      <td>0</td>\n",
              "      <td>48.0</td>\n",
              "      <td>0</td>\n",
              "      <td>11.0</td>\n",
              "      <td>$52,881</td>\n",
              "      <td>No</td>\n",
              "      <td>$0</td>\n",
              "      <td>z_No</td>\n",
              "      <td>M</td>\n",
              "      <td>Bachelors</td>\n",
              "      <td>Manager</td>\n",
              "      <td>26</td>\n",
              "      <td>Private</td>\n",
              "      <td>$21,970</td>\n",
              "      <td>1</td>\n",
              "      <td>Van</td>\n",
              "      <td>yes</td>\n",
              "      <td>$0</td>\n",
              "      <td>0</td>\n",
              "      <td>No</td>\n",
              "      <td>2</td>\n",
              "      <td>$0</td>\n",
              "      <td>10.0</td>\n",
              "      <td>0</td>\n",
              "    </tr>\n",
              "    <tr>\n",
              "      <th>3</th>\n",
              "      <td>727598473</td>\n",
              "      <td>0</td>\n",
              "      <td>35.0</td>\n",
              "      <td>1</td>\n",
              "      <td>10.0</td>\n",
              "      <td>$16,039</td>\n",
              "      <td>No</td>\n",
              "      <td>$124,191</td>\n",
              "      <td>Yes</td>\n",
              "      <td>z_F</td>\n",
              "      <td>z_High School</td>\n",
              "      <td>Clerical</td>\n",
              "      <td>5</td>\n",
              "      <td>Private</td>\n",
              "      <td>$4,010</td>\n",
              "      <td>4</td>\n",
              "      <td>z_SUV</td>\n",
              "      <td>no</td>\n",
              "      <td>$38,690</td>\n",
              "      <td>2</td>\n",
              "      <td>No</td>\n",
              "      <td>3</td>\n",
              "      <td>$0</td>\n",
              "      <td>10.0</td>\n",
              "      <td>0</td>\n",
              "    </tr>\n",
              "    <tr>\n",
              "      <th>4</th>\n",
              "      <td>450221861</td>\n",
              "      <td>0</td>\n",
              "      <td>51.0</td>\n",
              "      <td>0</td>\n",
              "      <td>14.0</td>\n",
              "      <td>NaN</td>\n",
              "      <td>No</td>\n",
              "      <td>$306,251</td>\n",
              "      <td>Yes</td>\n",
              "      <td>M</td>\n",
              "      <td>&lt;High School</td>\n",
              "      <td>z_Blue Collar</td>\n",
              "      <td>32</td>\n",
              "      <td>Private</td>\n",
              "      <td>$15,440</td>\n",
              "      <td>7</td>\n",
              "      <td>Minivan</td>\n",
              "      <td>yes</td>\n",
              "      <td>$0</td>\n",
              "      <td>0</td>\n",
              "      <td>No</td>\n",
              "      <td>0</td>\n",
              "      <td>$0</td>\n",
              "      <td>6.0</td>\n",
              "      <td>0</td>\n",
              "    </tr>\n",
              "  </tbody>\n",
              "</table>\n",
              "</div>"
            ],
            "text/plain": [
              "          ID  KIDSDRIV   AGE  HOMEKIDS  ...  MVR_PTS CLM_AMT CAR_AGE CLAIM_FLAG\n",
              "0   63581743         0  60.0         0  ...        3      $0    18.0          0\n",
              "1  132761049         0  43.0         0  ...        0      $0     1.0          0\n",
              "2  921317019         0  48.0         0  ...        2      $0    10.0          0\n",
              "3  727598473         0  35.0         1  ...        3      $0    10.0          0\n",
              "4  450221861         0  51.0         0  ...        0      $0     6.0          0\n",
              "\n",
              "[5 rows x 25 columns]"
            ]
          },
          "metadata": {},
          "execution_count": 3
        }
      ]
    },
    {
      "cell_type": "code",
      "metadata": {
        "colab": {
          "base_uri": "https://localhost:8080/"
        },
        "id": "f9csYQ0EIJzz",
        "outputId": "2bc7df61-9754-4463-edaa-1603098ad018"
      },
      "source": [
        "df.info()"
      ],
      "execution_count": 4,
      "outputs": [
        {
          "output_type": "stream",
          "text": [
            "<class 'pandas.core.frame.DataFrame'>\n",
            "RangeIndex: 10302 entries, 0 to 10301\n",
            "Data columns (total 25 columns):\n",
            " #   Column      Non-Null Count  Dtype  \n",
            "---  ------      --------------  -----  \n",
            " 0   ID          10302 non-null  int64  \n",
            " 1   KIDSDRIV    10302 non-null  int64  \n",
            " 2   AGE         10295 non-null  float64\n",
            " 3   HOMEKIDS    10302 non-null  int64  \n",
            " 4   YOJ         9754 non-null   float64\n",
            " 5   INCOME      9732 non-null   object \n",
            " 6   PARENT1     10302 non-null  object \n",
            " 7   HOME_VAL    9727 non-null   object \n",
            " 8   MSTATUS     10302 non-null  object \n",
            " 9   GENDER      10302 non-null  object \n",
            " 10  EDUCATION   10302 non-null  object \n",
            " 11  OCCUPATION  9637 non-null   object \n",
            " 12  TRAVTIME    10302 non-null  int64  \n",
            " 13  CAR_USE     10302 non-null  object \n",
            " 14  BLUEBOOK    10302 non-null  object \n",
            " 15  TIF         10302 non-null  int64  \n",
            " 16  CAR_TYPE    10302 non-null  object \n",
            " 17  RED_CAR     10302 non-null  object \n",
            " 18  OLDCLAIM    10302 non-null  object \n",
            " 19  CLM_FREQ    10302 non-null  int64  \n",
            " 20  REVOKED     10302 non-null  object \n",
            " 21  MVR_PTS     10302 non-null  int64  \n",
            " 22  CLM_AMT     10302 non-null  object \n",
            " 23  CAR_AGE     9663 non-null   float64\n",
            " 24  CLAIM_FLAG  10302 non-null  int64  \n",
            "dtypes: float64(3), int64(8), object(14)\n",
            "memory usage: 2.0+ MB\n"
          ],
          "name": "stdout"
        }
      ]
    },
    {
      "cell_type": "code",
      "metadata": {
        "colab": {
          "base_uri": "https://localhost:8080/"
        },
        "id": "goxr4GqUITzu",
        "outputId": "ad8064d8-0018-4ddb-aeed-43798511da32"
      },
      "source": [
        "df.shape"
      ],
      "execution_count": 5,
      "outputs": [
        {
          "output_type": "execute_result",
          "data": {
            "text/plain": [
              "(10302, 25)"
            ]
          },
          "metadata": {},
          "execution_count": 5
        }
      ]
    },
    {
      "cell_type": "code",
      "metadata": {
        "colab": {
          "base_uri": "https://localhost:8080/"
        },
        "id": "71pJRhnCFZsS",
        "outputId": "bb6e90db-0aff-4458-d95e-c706d62c4669"
      },
      "source": [
        "df.columns"
      ],
      "execution_count": 6,
      "outputs": [
        {
          "output_type": "execute_result",
          "data": {
            "text/plain": [
              "Index(['ID', 'KIDSDRIV', 'AGE', 'HOMEKIDS', 'YOJ', 'INCOME', 'PARENT1',\n",
              "       'HOME_VAL', 'MSTATUS', 'GENDER', 'EDUCATION', 'OCCUPATION', 'TRAVTIME',\n",
              "       'CAR_USE', 'BLUEBOOK', 'TIF', 'CAR_TYPE', 'RED_CAR', 'OLDCLAIM',\n",
              "       'CLM_FREQ', 'REVOKED', 'MVR_PTS', 'CLM_AMT', 'CAR_AGE', 'CLAIM_FLAG'],\n",
              "      dtype='object')"
            ]
          },
          "metadata": {},
          "execution_count": 6
        }
      ]
    },
    {
      "cell_type": "code",
      "metadata": {
        "colab": {
          "base_uri": "https://localhost:8080/",
          "height": 558
        },
        "id": "756M_byZFLia",
        "outputId": "09e16aab-6e17-4e1d-d936-bd8a7532b97b"
      },
      "source": [
        "for col in ['INCOME','HOME_VAL','BLUEBOOK','OLDCLAIM','CLM_AMT']:\n",
        "    df[col] = df[col].str.replace(\"$\", '')\n",
        "    df[col] = df[col].str.replace(\",\", '')\n",
        "df  "
      ],
      "execution_count": 7,
      "outputs": [
        {
          "output_type": "execute_result",
          "data": {
            "text/html": [
              "<div>\n",
              "<style scoped>\n",
              "    .dataframe tbody tr th:only-of-type {\n",
              "        vertical-align: middle;\n",
              "    }\n",
              "\n",
              "    .dataframe tbody tr th {\n",
              "        vertical-align: top;\n",
              "    }\n",
              "\n",
              "    .dataframe thead th {\n",
              "        text-align: right;\n",
              "    }\n",
              "</style>\n",
              "<table border=\"1\" class=\"dataframe\">\n",
              "  <thead>\n",
              "    <tr style=\"text-align: right;\">\n",
              "      <th></th>\n",
              "      <th>ID</th>\n",
              "      <th>KIDSDRIV</th>\n",
              "      <th>AGE</th>\n",
              "      <th>HOMEKIDS</th>\n",
              "      <th>YOJ</th>\n",
              "      <th>INCOME</th>\n",
              "      <th>PARENT1</th>\n",
              "      <th>HOME_VAL</th>\n",
              "      <th>MSTATUS</th>\n",
              "      <th>GENDER</th>\n",
              "      <th>EDUCATION</th>\n",
              "      <th>OCCUPATION</th>\n",
              "      <th>TRAVTIME</th>\n",
              "      <th>CAR_USE</th>\n",
              "      <th>BLUEBOOK</th>\n",
              "      <th>TIF</th>\n",
              "      <th>CAR_TYPE</th>\n",
              "      <th>RED_CAR</th>\n",
              "      <th>OLDCLAIM</th>\n",
              "      <th>CLM_FREQ</th>\n",
              "      <th>REVOKED</th>\n",
              "      <th>MVR_PTS</th>\n",
              "      <th>CLM_AMT</th>\n",
              "      <th>CAR_AGE</th>\n",
              "      <th>CLAIM_FLAG</th>\n",
              "    </tr>\n",
              "  </thead>\n",
              "  <tbody>\n",
              "    <tr>\n",
              "      <th>0</th>\n",
              "      <td>63581743</td>\n",
              "      <td>0</td>\n",
              "      <td>60.0</td>\n",
              "      <td>0</td>\n",
              "      <td>11.0</td>\n",
              "      <td>67349</td>\n",
              "      <td>No</td>\n",
              "      <td>0</td>\n",
              "      <td>z_No</td>\n",
              "      <td>M</td>\n",
              "      <td>PhD</td>\n",
              "      <td>Professional</td>\n",
              "      <td>14</td>\n",
              "      <td>Private</td>\n",
              "      <td>14230</td>\n",
              "      <td>11</td>\n",
              "      <td>Minivan</td>\n",
              "      <td>yes</td>\n",
              "      <td>4461</td>\n",
              "      <td>2</td>\n",
              "      <td>No</td>\n",
              "      <td>3</td>\n",
              "      <td>0</td>\n",
              "      <td>18.0</td>\n",
              "      <td>0</td>\n",
              "    </tr>\n",
              "    <tr>\n",
              "      <th>1</th>\n",
              "      <td>132761049</td>\n",
              "      <td>0</td>\n",
              "      <td>43.0</td>\n",
              "      <td>0</td>\n",
              "      <td>11.0</td>\n",
              "      <td>91449</td>\n",
              "      <td>No</td>\n",
              "      <td>257252</td>\n",
              "      <td>z_No</td>\n",
              "      <td>M</td>\n",
              "      <td>z_High School</td>\n",
              "      <td>z_Blue Collar</td>\n",
              "      <td>22</td>\n",
              "      <td>Commercial</td>\n",
              "      <td>14940</td>\n",
              "      <td>1</td>\n",
              "      <td>Minivan</td>\n",
              "      <td>yes</td>\n",
              "      <td>0</td>\n",
              "      <td>0</td>\n",
              "      <td>No</td>\n",
              "      <td>0</td>\n",
              "      <td>0</td>\n",
              "      <td>1.0</td>\n",
              "      <td>0</td>\n",
              "    </tr>\n",
              "    <tr>\n",
              "      <th>2</th>\n",
              "      <td>921317019</td>\n",
              "      <td>0</td>\n",
              "      <td>48.0</td>\n",
              "      <td>0</td>\n",
              "      <td>11.0</td>\n",
              "      <td>52881</td>\n",
              "      <td>No</td>\n",
              "      <td>0</td>\n",
              "      <td>z_No</td>\n",
              "      <td>M</td>\n",
              "      <td>Bachelors</td>\n",
              "      <td>Manager</td>\n",
              "      <td>26</td>\n",
              "      <td>Private</td>\n",
              "      <td>21970</td>\n",
              "      <td>1</td>\n",
              "      <td>Van</td>\n",
              "      <td>yes</td>\n",
              "      <td>0</td>\n",
              "      <td>0</td>\n",
              "      <td>No</td>\n",
              "      <td>2</td>\n",
              "      <td>0</td>\n",
              "      <td>10.0</td>\n",
              "      <td>0</td>\n",
              "    </tr>\n",
              "    <tr>\n",
              "      <th>3</th>\n",
              "      <td>727598473</td>\n",
              "      <td>0</td>\n",
              "      <td>35.0</td>\n",
              "      <td>1</td>\n",
              "      <td>10.0</td>\n",
              "      <td>16039</td>\n",
              "      <td>No</td>\n",
              "      <td>124191</td>\n",
              "      <td>Yes</td>\n",
              "      <td>z_F</td>\n",
              "      <td>z_High School</td>\n",
              "      <td>Clerical</td>\n",
              "      <td>5</td>\n",
              "      <td>Private</td>\n",
              "      <td>4010</td>\n",
              "      <td>4</td>\n",
              "      <td>z_SUV</td>\n",
              "      <td>no</td>\n",
              "      <td>38690</td>\n",
              "      <td>2</td>\n",
              "      <td>No</td>\n",
              "      <td>3</td>\n",
              "      <td>0</td>\n",
              "      <td>10.0</td>\n",
              "      <td>0</td>\n",
              "    </tr>\n",
              "    <tr>\n",
              "      <th>4</th>\n",
              "      <td>450221861</td>\n",
              "      <td>0</td>\n",
              "      <td>51.0</td>\n",
              "      <td>0</td>\n",
              "      <td>14.0</td>\n",
              "      <td>NaN</td>\n",
              "      <td>No</td>\n",
              "      <td>306251</td>\n",
              "      <td>Yes</td>\n",
              "      <td>M</td>\n",
              "      <td>&lt;High School</td>\n",
              "      <td>z_Blue Collar</td>\n",
              "      <td>32</td>\n",
              "      <td>Private</td>\n",
              "      <td>15440</td>\n",
              "      <td>7</td>\n",
              "      <td>Minivan</td>\n",
              "      <td>yes</td>\n",
              "      <td>0</td>\n",
              "      <td>0</td>\n",
              "      <td>No</td>\n",
              "      <td>0</td>\n",
              "      <td>0</td>\n",
              "      <td>6.0</td>\n",
              "      <td>0</td>\n",
              "    </tr>\n",
              "    <tr>\n",
              "      <th>...</th>\n",
              "      <td>...</td>\n",
              "      <td>...</td>\n",
              "      <td>...</td>\n",
              "      <td>...</td>\n",
              "      <td>...</td>\n",
              "      <td>...</td>\n",
              "      <td>...</td>\n",
              "      <td>...</td>\n",
              "      <td>...</td>\n",
              "      <td>...</td>\n",
              "      <td>...</td>\n",
              "      <td>...</td>\n",
              "      <td>...</td>\n",
              "      <td>...</td>\n",
              "      <td>...</td>\n",
              "      <td>...</td>\n",
              "      <td>...</td>\n",
              "      <td>...</td>\n",
              "      <td>...</td>\n",
              "      <td>...</td>\n",
              "      <td>...</td>\n",
              "      <td>...</td>\n",
              "      <td>...</td>\n",
              "      <td>...</td>\n",
              "      <td>...</td>\n",
              "    </tr>\n",
              "    <tr>\n",
              "      <th>10297</th>\n",
              "      <td>67790126</td>\n",
              "      <td>1</td>\n",
              "      <td>45.0</td>\n",
              "      <td>2</td>\n",
              "      <td>9.0</td>\n",
              "      <td>164669</td>\n",
              "      <td>No</td>\n",
              "      <td>386273</td>\n",
              "      <td>Yes</td>\n",
              "      <td>M</td>\n",
              "      <td>PhD</td>\n",
              "      <td>Manager</td>\n",
              "      <td>21</td>\n",
              "      <td>Private</td>\n",
              "      <td>13270</td>\n",
              "      <td>15</td>\n",
              "      <td>Minivan</td>\n",
              "      <td>no</td>\n",
              "      <td>0</td>\n",
              "      <td>0</td>\n",
              "      <td>No</td>\n",
              "      <td>2</td>\n",
              "      <td>0</td>\n",
              "      <td>17.0</td>\n",
              "      <td>0</td>\n",
              "    </tr>\n",
              "    <tr>\n",
              "      <th>10298</th>\n",
              "      <td>61970712</td>\n",
              "      <td>0</td>\n",
              "      <td>46.0</td>\n",
              "      <td>0</td>\n",
              "      <td>9.0</td>\n",
              "      <td>107204</td>\n",
              "      <td>No</td>\n",
              "      <td>332591</td>\n",
              "      <td>Yes</td>\n",
              "      <td>M</td>\n",
              "      <td>Masters</td>\n",
              "      <td>NaN</td>\n",
              "      <td>36</td>\n",
              "      <td>Commercial</td>\n",
              "      <td>24490</td>\n",
              "      <td>6</td>\n",
              "      <td>Panel Truck</td>\n",
              "      <td>no</td>\n",
              "      <td>0</td>\n",
              "      <td>0</td>\n",
              "      <td>No</td>\n",
              "      <td>0</td>\n",
              "      <td>0</td>\n",
              "      <td>1.0</td>\n",
              "      <td>0</td>\n",
              "    </tr>\n",
              "    <tr>\n",
              "      <th>10299</th>\n",
              "      <td>849208064</td>\n",
              "      <td>0</td>\n",
              "      <td>48.0</td>\n",
              "      <td>0</td>\n",
              "      <td>15.0</td>\n",
              "      <td>39837</td>\n",
              "      <td>No</td>\n",
              "      <td>170611</td>\n",
              "      <td>Yes</td>\n",
              "      <td>z_F</td>\n",
              "      <td>&lt;High School</td>\n",
              "      <td>z_Blue Collar</td>\n",
              "      <td>12</td>\n",
              "      <td>Private</td>\n",
              "      <td>13820</td>\n",
              "      <td>7</td>\n",
              "      <td>z_SUV</td>\n",
              "      <td>no</td>\n",
              "      <td>0</td>\n",
              "      <td>0</td>\n",
              "      <td>No</td>\n",
              "      <td>0</td>\n",
              "      <td>0</td>\n",
              "      <td>1.0</td>\n",
              "      <td>0</td>\n",
              "    </tr>\n",
              "    <tr>\n",
              "      <th>10300</th>\n",
              "      <td>627828331</td>\n",
              "      <td>0</td>\n",
              "      <td>50.0</td>\n",
              "      <td>0</td>\n",
              "      <td>7.0</td>\n",
              "      <td>43445</td>\n",
              "      <td>No</td>\n",
              "      <td>149248</td>\n",
              "      <td>Yes</td>\n",
              "      <td>z_F</td>\n",
              "      <td>Bachelors</td>\n",
              "      <td>Home Maker</td>\n",
              "      <td>36</td>\n",
              "      <td>Private</td>\n",
              "      <td>22550</td>\n",
              "      <td>6</td>\n",
              "      <td>Minivan</td>\n",
              "      <td>no</td>\n",
              "      <td>0</td>\n",
              "      <td>0</td>\n",
              "      <td>No</td>\n",
              "      <td>0</td>\n",
              "      <td>0</td>\n",
              "      <td>11.0</td>\n",
              "      <td>0</td>\n",
              "    </tr>\n",
              "    <tr>\n",
              "      <th>10301</th>\n",
              "      <td>680381960</td>\n",
              "      <td>0</td>\n",
              "      <td>52.0</td>\n",
              "      <td>0</td>\n",
              "      <td>11.0</td>\n",
              "      <td>53235</td>\n",
              "      <td>No</td>\n",
              "      <td>197017</td>\n",
              "      <td>Yes</td>\n",
              "      <td>z_F</td>\n",
              "      <td>z_High School</td>\n",
              "      <td>Clerical</td>\n",
              "      <td>64</td>\n",
              "      <td>Private</td>\n",
              "      <td>19400</td>\n",
              "      <td>6</td>\n",
              "      <td>Minivan</td>\n",
              "      <td>no</td>\n",
              "      <td>0</td>\n",
              "      <td>0</td>\n",
              "      <td>No</td>\n",
              "      <td>0</td>\n",
              "      <td>0</td>\n",
              "      <td>9.0</td>\n",
              "      <td>0</td>\n",
              "    </tr>\n",
              "  </tbody>\n",
              "</table>\n",
              "<p>10302 rows × 25 columns</p>\n",
              "</div>"
            ],
            "text/plain": [
              "              ID  KIDSDRIV   AGE  ...  CLM_AMT  CAR_AGE CLAIM_FLAG\n",
              "0       63581743         0  60.0  ...        0     18.0          0\n",
              "1      132761049         0  43.0  ...        0      1.0          0\n",
              "2      921317019         0  48.0  ...        0     10.0          0\n",
              "3      727598473         0  35.0  ...        0     10.0          0\n",
              "4      450221861         0  51.0  ...        0      6.0          0\n",
              "...          ...       ...   ...  ...      ...      ...        ...\n",
              "10297   67790126         1  45.0  ...        0     17.0          0\n",
              "10298   61970712         0  46.0  ...        0      1.0          0\n",
              "10299  849208064         0  48.0  ...        0      1.0          0\n",
              "10300  627828331         0  50.0  ...        0     11.0          0\n",
              "10301  680381960         0  52.0  ...        0      9.0          0\n",
              "\n",
              "[10302 rows x 25 columns]"
            ]
          },
          "metadata": {},
          "execution_count": 7
        }
      ]
    },
    {
      "cell_type": "code",
      "metadata": {
        "id": "ouX_zdX2FzF-"
      },
      "source": [
        "X = df.iloc[:,:-1]"
      ],
      "execution_count": 8,
      "outputs": []
    },
    {
      "cell_type": "code",
      "metadata": {
        "colab": {
          "base_uri": "https://localhost:8080/",
          "height": 558
        },
        "id": "-GBCsl3QGK7E",
        "outputId": "a149dced-0a78-41b8-ba4b-482deeb61ad6"
      },
      "source": [
        "X"
      ],
      "execution_count": 9,
      "outputs": [
        {
          "output_type": "execute_result",
          "data": {
            "text/html": [
              "<div>\n",
              "<style scoped>\n",
              "    .dataframe tbody tr th:only-of-type {\n",
              "        vertical-align: middle;\n",
              "    }\n",
              "\n",
              "    .dataframe tbody tr th {\n",
              "        vertical-align: top;\n",
              "    }\n",
              "\n",
              "    .dataframe thead th {\n",
              "        text-align: right;\n",
              "    }\n",
              "</style>\n",
              "<table border=\"1\" class=\"dataframe\">\n",
              "  <thead>\n",
              "    <tr style=\"text-align: right;\">\n",
              "      <th></th>\n",
              "      <th>ID</th>\n",
              "      <th>KIDSDRIV</th>\n",
              "      <th>AGE</th>\n",
              "      <th>HOMEKIDS</th>\n",
              "      <th>YOJ</th>\n",
              "      <th>INCOME</th>\n",
              "      <th>PARENT1</th>\n",
              "      <th>HOME_VAL</th>\n",
              "      <th>MSTATUS</th>\n",
              "      <th>GENDER</th>\n",
              "      <th>EDUCATION</th>\n",
              "      <th>OCCUPATION</th>\n",
              "      <th>TRAVTIME</th>\n",
              "      <th>CAR_USE</th>\n",
              "      <th>BLUEBOOK</th>\n",
              "      <th>TIF</th>\n",
              "      <th>CAR_TYPE</th>\n",
              "      <th>RED_CAR</th>\n",
              "      <th>OLDCLAIM</th>\n",
              "      <th>CLM_FREQ</th>\n",
              "      <th>REVOKED</th>\n",
              "      <th>MVR_PTS</th>\n",
              "      <th>CLM_AMT</th>\n",
              "      <th>CAR_AGE</th>\n",
              "    </tr>\n",
              "  </thead>\n",
              "  <tbody>\n",
              "    <tr>\n",
              "      <th>0</th>\n",
              "      <td>63581743</td>\n",
              "      <td>0</td>\n",
              "      <td>60.0</td>\n",
              "      <td>0</td>\n",
              "      <td>11.0</td>\n",
              "      <td>67349</td>\n",
              "      <td>No</td>\n",
              "      <td>0</td>\n",
              "      <td>z_No</td>\n",
              "      <td>M</td>\n",
              "      <td>PhD</td>\n",
              "      <td>Professional</td>\n",
              "      <td>14</td>\n",
              "      <td>Private</td>\n",
              "      <td>14230</td>\n",
              "      <td>11</td>\n",
              "      <td>Minivan</td>\n",
              "      <td>yes</td>\n",
              "      <td>4461</td>\n",
              "      <td>2</td>\n",
              "      <td>No</td>\n",
              "      <td>3</td>\n",
              "      <td>0</td>\n",
              "      <td>18.0</td>\n",
              "    </tr>\n",
              "    <tr>\n",
              "      <th>1</th>\n",
              "      <td>132761049</td>\n",
              "      <td>0</td>\n",
              "      <td>43.0</td>\n",
              "      <td>0</td>\n",
              "      <td>11.0</td>\n",
              "      <td>91449</td>\n",
              "      <td>No</td>\n",
              "      <td>257252</td>\n",
              "      <td>z_No</td>\n",
              "      <td>M</td>\n",
              "      <td>z_High School</td>\n",
              "      <td>z_Blue Collar</td>\n",
              "      <td>22</td>\n",
              "      <td>Commercial</td>\n",
              "      <td>14940</td>\n",
              "      <td>1</td>\n",
              "      <td>Minivan</td>\n",
              "      <td>yes</td>\n",
              "      <td>0</td>\n",
              "      <td>0</td>\n",
              "      <td>No</td>\n",
              "      <td>0</td>\n",
              "      <td>0</td>\n",
              "      <td>1.0</td>\n",
              "    </tr>\n",
              "    <tr>\n",
              "      <th>2</th>\n",
              "      <td>921317019</td>\n",
              "      <td>0</td>\n",
              "      <td>48.0</td>\n",
              "      <td>0</td>\n",
              "      <td>11.0</td>\n",
              "      <td>52881</td>\n",
              "      <td>No</td>\n",
              "      <td>0</td>\n",
              "      <td>z_No</td>\n",
              "      <td>M</td>\n",
              "      <td>Bachelors</td>\n",
              "      <td>Manager</td>\n",
              "      <td>26</td>\n",
              "      <td>Private</td>\n",
              "      <td>21970</td>\n",
              "      <td>1</td>\n",
              "      <td>Van</td>\n",
              "      <td>yes</td>\n",
              "      <td>0</td>\n",
              "      <td>0</td>\n",
              "      <td>No</td>\n",
              "      <td>2</td>\n",
              "      <td>0</td>\n",
              "      <td>10.0</td>\n",
              "    </tr>\n",
              "    <tr>\n",
              "      <th>3</th>\n",
              "      <td>727598473</td>\n",
              "      <td>0</td>\n",
              "      <td>35.0</td>\n",
              "      <td>1</td>\n",
              "      <td>10.0</td>\n",
              "      <td>16039</td>\n",
              "      <td>No</td>\n",
              "      <td>124191</td>\n",
              "      <td>Yes</td>\n",
              "      <td>z_F</td>\n",
              "      <td>z_High School</td>\n",
              "      <td>Clerical</td>\n",
              "      <td>5</td>\n",
              "      <td>Private</td>\n",
              "      <td>4010</td>\n",
              "      <td>4</td>\n",
              "      <td>z_SUV</td>\n",
              "      <td>no</td>\n",
              "      <td>38690</td>\n",
              "      <td>2</td>\n",
              "      <td>No</td>\n",
              "      <td>3</td>\n",
              "      <td>0</td>\n",
              "      <td>10.0</td>\n",
              "    </tr>\n",
              "    <tr>\n",
              "      <th>4</th>\n",
              "      <td>450221861</td>\n",
              "      <td>0</td>\n",
              "      <td>51.0</td>\n",
              "      <td>0</td>\n",
              "      <td>14.0</td>\n",
              "      <td>NaN</td>\n",
              "      <td>No</td>\n",
              "      <td>306251</td>\n",
              "      <td>Yes</td>\n",
              "      <td>M</td>\n",
              "      <td>&lt;High School</td>\n",
              "      <td>z_Blue Collar</td>\n",
              "      <td>32</td>\n",
              "      <td>Private</td>\n",
              "      <td>15440</td>\n",
              "      <td>7</td>\n",
              "      <td>Minivan</td>\n",
              "      <td>yes</td>\n",
              "      <td>0</td>\n",
              "      <td>0</td>\n",
              "      <td>No</td>\n",
              "      <td>0</td>\n",
              "      <td>0</td>\n",
              "      <td>6.0</td>\n",
              "    </tr>\n",
              "    <tr>\n",
              "      <th>...</th>\n",
              "      <td>...</td>\n",
              "      <td>...</td>\n",
              "      <td>...</td>\n",
              "      <td>...</td>\n",
              "      <td>...</td>\n",
              "      <td>...</td>\n",
              "      <td>...</td>\n",
              "      <td>...</td>\n",
              "      <td>...</td>\n",
              "      <td>...</td>\n",
              "      <td>...</td>\n",
              "      <td>...</td>\n",
              "      <td>...</td>\n",
              "      <td>...</td>\n",
              "      <td>...</td>\n",
              "      <td>...</td>\n",
              "      <td>...</td>\n",
              "      <td>...</td>\n",
              "      <td>...</td>\n",
              "      <td>...</td>\n",
              "      <td>...</td>\n",
              "      <td>...</td>\n",
              "      <td>...</td>\n",
              "      <td>...</td>\n",
              "    </tr>\n",
              "    <tr>\n",
              "      <th>10297</th>\n",
              "      <td>67790126</td>\n",
              "      <td>1</td>\n",
              "      <td>45.0</td>\n",
              "      <td>2</td>\n",
              "      <td>9.0</td>\n",
              "      <td>164669</td>\n",
              "      <td>No</td>\n",
              "      <td>386273</td>\n",
              "      <td>Yes</td>\n",
              "      <td>M</td>\n",
              "      <td>PhD</td>\n",
              "      <td>Manager</td>\n",
              "      <td>21</td>\n",
              "      <td>Private</td>\n",
              "      <td>13270</td>\n",
              "      <td>15</td>\n",
              "      <td>Minivan</td>\n",
              "      <td>no</td>\n",
              "      <td>0</td>\n",
              "      <td>0</td>\n",
              "      <td>No</td>\n",
              "      <td>2</td>\n",
              "      <td>0</td>\n",
              "      <td>17.0</td>\n",
              "    </tr>\n",
              "    <tr>\n",
              "      <th>10298</th>\n",
              "      <td>61970712</td>\n",
              "      <td>0</td>\n",
              "      <td>46.0</td>\n",
              "      <td>0</td>\n",
              "      <td>9.0</td>\n",
              "      <td>107204</td>\n",
              "      <td>No</td>\n",
              "      <td>332591</td>\n",
              "      <td>Yes</td>\n",
              "      <td>M</td>\n",
              "      <td>Masters</td>\n",
              "      <td>NaN</td>\n",
              "      <td>36</td>\n",
              "      <td>Commercial</td>\n",
              "      <td>24490</td>\n",
              "      <td>6</td>\n",
              "      <td>Panel Truck</td>\n",
              "      <td>no</td>\n",
              "      <td>0</td>\n",
              "      <td>0</td>\n",
              "      <td>No</td>\n",
              "      <td>0</td>\n",
              "      <td>0</td>\n",
              "      <td>1.0</td>\n",
              "    </tr>\n",
              "    <tr>\n",
              "      <th>10299</th>\n",
              "      <td>849208064</td>\n",
              "      <td>0</td>\n",
              "      <td>48.0</td>\n",
              "      <td>0</td>\n",
              "      <td>15.0</td>\n",
              "      <td>39837</td>\n",
              "      <td>No</td>\n",
              "      <td>170611</td>\n",
              "      <td>Yes</td>\n",
              "      <td>z_F</td>\n",
              "      <td>&lt;High School</td>\n",
              "      <td>z_Blue Collar</td>\n",
              "      <td>12</td>\n",
              "      <td>Private</td>\n",
              "      <td>13820</td>\n",
              "      <td>7</td>\n",
              "      <td>z_SUV</td>\n",
              "      <td>no</td>\n",
              "      <td>0</td>\n",
              "      <td>0</td>\n",
              "      <td>No</td>\n",
              "      <td>0</td>\n",
              "      <td>0</td>\n",
              "      <td>1.0</td>\n",
              "    </tr>\n",
              "    <tr>\n",
              "      <th>10300</th>\n",
              "      <td>627828331</td>\n",
              "      <td>0</td>\n",
              "      <td>50.0</td>\n",
              "      <td>0</td>\n",
              "      <td>7.0</td>\n",
              "      <td>43445</td>\n",
              "      <td>No</td>\n",
              "      <td>149248</td>\n",
              "      <td>Yes</td>\n",
              "      <td>z_F</td>\n",
              "      <td>Bachelors</td>\n",
              "      <td>Home Maker</td>\n",
              "      <td>36</td>\n",
              "      <td>Private</td>\n",
              "      <td>22550</td>\n",
              "      <td>6</td>\n",
              "      <td>Minivan</td>\n",
              "      <td>no</td>\n",
              "      <td>0</td>\n",
              "      <td>0</td>\n",
              "      <td>No</td>\n",
              "      <td>0</td>\n",
              "      <td>0</td>\n",
              "      <td>11.0</td>\n",
              "    </tr>\n",
              "    <tr>\n",
              "      <th>10301</th>\n",
              "      <td>680381960</td>\n",
              "      <td>0</td>\n",
              "      <td>52.0</td>\n",
              "      <td>0</td>\n",
              "      <td>11.0</td>\n",
              "      <td>53235</td>\n",
              "      <td>No</td>\n",
              "      <td>197017</td>\n",
              "      <td>Yes</td>\n",
              "      <td>z_F</td>\n",
              "      <td>z_High School</td>\n",
              "      <td>Clerical</td>\n",
              "      <td>64</td>\n",
              "      <td>Private</td>\n",
              "      <td>19400</td>\n",
              "      <td>6</td>\n",
              "      <td>Minivan</td>\n",
              "      <td>no</td>\n",
              "      <td>0</td>\n",
              "      <td>0</td>\n",
              "      <td>No</td>\n",
              "      <td>0</td>\n",
              "      <td>0</td>\n",
              "      <td>9.0</td>\n",
              "    </tr>\n",
              "  </tbody>\n",
              "</table>\n",
              "<p>10302 rows × 24 columns</p>\n",
              "</div>"
            ],
            "text/plain": [
              "              ID  KIDSDRIV   AGE  HOMEKIDS  ...  REVOKED MVR_PTS CLM_AMT CAR_AGE\n",
              "0       63581743         0  60.0         0  ...       No       3       0    18.0\n",
              "1      132761049         0  43.0         0  ...       No       0       0     1.0\n",
              "2      921317019         0  48.0         0  ...       No       2       0    10.0\n",
              "3      727598473         0  35.0         1  ...       No       3       0    10.0\n",
              "4      450221861         0  51.0         0  ...       No       0       0     6.0\n",
              "...          ...       ...   ...       ...  ...      ...     ...     ...     ...\n",
              "10297   67790126         1  45.0         2  ...       No       2       0    17.0\n",
              "10298   61970712         0  46.0         0  ...       No       0       0     1.0\n",
              "10299  849208064         0  48.0         0  ...       No       0       0     1.0\n",
              "10300  627828331         0  50.0         0  ...       No       0       0    11.0\n",
              "10301  680381960         0  52.0         0  ...       No       0       0     9.0\n",
              "\n",
              "[10302 rows x 24 columns]"
            ]
          },
          "metadata": {},
          "execution_count": 9
        }
      ]
    },
    {
      "cell_type": "code",
      "metadata": {
        "id": "Rf0OhCNlGpIj"
      },
      "source": [
        "y=df.iloc[:,-1]"
      ],
      "execution_count": 10,
      "outputs": []
    },
    {
      "cell_type": "code",
      "metadata": {
        "colab": {
          "base_uri": "https://localhost:8080/"
        },
        "id": "3oYKl4qGJIiO",
        "outputId": "d1458ac2-7eb8-4ef2-8da9-74675a4918f5"
      },
      "source": [
        "y"
      ],
      "execution_count": 11,
      "outputs": [
        {
          "output_type": "execute_result",
          "data": {
            "text/plain": [
              "0        0\n",
              "1        0\n",
              "2        0\n",
              "3        0\n",
              "4        0\n",
              "        ..\n",
              "10297    0\n",
              "10298    0\n",
              "10299    0\n",
              "10300    0\n",
              "10301    0\n",
              "Name: CLAIM_FLAG, Length: 10302, dtype: int64"
            ]
          },
          "metadata": {},
          "execution_count": 11
        }
      ]
    },
    {
      "cell_type": "code",
      "metadata": {
        "id": "cnHE7oHsJJVa"
      },
      "source": [
        "count = y.value_counts()"
      ],
      "execution_count": 12,
      "outputs": []
    },
    {
      "cell_type": "code",
      "metadata": {
        "colab": {
          "base_uri": "https://localhost:8080/"
        },
        "id": "UV8DeASyJU1g",
        "outputId": "29e15f5e-7e21-4789-8b75-4e45c33338e7"
      },
      "source": [
        "count"
      ],
      "execution_count": 13,
      "outputs": [
        {
          "output_type": "execute_result",
          "data": {
            "text/plain": [
              "0    7556\n",
              "1    2746\n",
              "Name: CLAIM_FLAG, dtype: int64"
            ]
          },
          "metadata": {},
          "execution_count": 13
        }
      ]
    },
    {
      "cell_type": "code",
      "metadata": {
        "id": "ujMkdvwSJata"
      },
      "source": [
        "X_train,X_test,y_train,y_test = train_test_split(X,y,test_size=0.3,random_state=6)"
      ],
      "execution_count": 14,
      "outputs": []
    },
    {
      "cell_type": "code",
      "metadata": {
        "colab": {
          "base_uri": "https://localhost:8080/",
          "height": 558
        },
        "id": "QViTp15BJs2L",
        "outputId": "ebf2b5f0-fb67-4a3f-acf7-e3efbe8ef8d4"
      },
      "source": [
        "X_train"
      ],
      "execution_count": 15,
      "outputs": [
        {
          "output_type": "execute_result",
          "data": {
            "text/html": [
              "<div>\n",
              "<style scoped>\n",
              "    .dataframe tbody tr th:only-of-type {\n",
              "        vertical-align: middle;\n",
              "    }\n",
              "\n",
              "    .dataframe tbody tr th {\n",
              "        vertical-align: top;\n",
              "    }\n",
              "\n",
              "    .dataframe thead th {\n",
              "        text-align: right;\n",
              "    }\n",
              "</style>\n",
              "<table border=\"1\" class=\"dataframe\">\n",
              "  <thead>\n",
              "    <tr style=\"text-align: right;\">\n",
              "      <th></th>\n",
              "      <th>ID</th>\n",
              "      <th>KIDSDRIV</th>\n",
              "      <th>AGE</th>\n",
              "      <th>HOMEKIDS</th>\n",
              "      <th>YOJ</th>\n",
              "      <th>INCOME</th>\n",
              "      <th>PARENT1</th>\n",
              "      <th>HOME_VAL</th>\n",
              "      <th>MSTATUS</th>\n",
              "      <th>GENDER</th>\n",
              "      <th>EDUCATION</th>\n",
              "      <th>OCCUPATION</th>\n",
              "      <th>TRAVTIME</th>\n",
              "      <th>CAR_USE</th>\n",
              "      <th>BLUEBOOK</th>\n",
              "      <th>TIF</th>\n",
              "      <th>CAR_TYPE</th>\n",
              "      <th>RED_CAR</th>\n",
              "      <th>OLDCLAIM</th>\n",
              "      <th>CLM_FREQ</th>\n",
              "      <th>REVOKED</th>\n",
              "      <th>MVR_PTS</th>\n",
              "      <th>CLM_AMT</th>\n",
              "      <th>CAR_AGE</th>\n",
              "    </tr>\n",
              "  </thead>\n",
              "  <tbody>\n",
              "    <tr>\n",
              "      <th>7660</th>\n",
              "      <td>915078478</td>\n",
              "      <td>0</td>\n",
              "      <td>46.0</td>\n",
              "      <td>0</td>\n",
              "      <td>12.0</td>\n",
              "      <td>49657</td>\n",
              "      <td>No</td>\n",
              "      <td>139287</td>\n",
              "      <td>Yes</td>\n",
              "      <td>z_F</td>\n",
              "      <td>Bachelors</td>\n",
              "      <td>Home Maker</td>\n",
              "      <td>38</td>\n",
              "      <td>Private</td>\n",
              "      <td>13420</td>\n",
              "      <td>1</td>\n",
              "      <td>z_SUV</td>\n",
              "      <td>no</td>\n",
              "      <td>12775</td>\n",
              "      <td>1</td>\n",
              "      <td>No</td>\n",
              "      <td>4</td>\n",
              "      <td>0</td>\n",
              "      <td>NaN</td>\n",
              "    </tr>\n",
              "    <tr>\n",
              "      <th>3581</th>\n",
              "      <td>144269185</td>\n",
              "      <td>0</td>\n",
              "      <td>56.0</td>\n",
              "      <td>0</td>\n",
              "      <td>14.0</td>\n",
              "      <td>58247</td>\n",
              "      <td>No</td>\n",
              "      <td>190172</td>\n",
              "      <td>Yes</td>\n",
              "      <td>M</td>\n",
              "      <td>z_High School</td>\n",
              "      <td>Clerical</td>\n",
              "      <td>42</td>\n",
              "      <td>Private</td>\n",
              "      <td>18150</td>\n",
              "      <td>1</td>\n",
              "      <td>Van</td>\n",
              "      <td>no</td>\n",
              "      <td>1380</td>\n",
              "      <td>3</td>\n",
              "      <td>No</td>\n",
              "      <td>1</td>\n",
              "      <td>4281</td>\n",
              "      <td>10.0</td>\n",
              "    </tr>\n",
              "    <tr>\n",
              "      <th>5174</th>\n",
              "      <td>631762912</td>\n",
              "      <td>0</td>\n",
              "      <td>50.0</td>\n",
              "      <td>0</td>\n",
              "      <td>12.0</td>\n",
              "      <td>89157</td>\n",
              "      <td>No</td>\n",
              "      <td>257091</td>\n",
              "      <td>Yes</td>\n",
              "      <td>z_F</td>\n",
              "      <td>Masters</td>\n",
              "      <td>Lawyer</td>\n",
              "      <td>52</td>\n",
              "      <td>Private</td>\n",
              "      <td>19700</td>\n",
              "      <td>1</td>\n",
              "      <td>z_SUV</td>\n",
              "      <td>no</td>\n",
              "      <td>3175</td>\n",
              "      <td>1</td>\n",
              "      <td>No</td>\n",
              "      <td>0</td>\n",
              "      <td>0</td>\n",
              "      <td>7.0</td>\n",
              "    </tr>\n",
              "    <tr>\n",
              "      <th>1012</th>\n",
              "      <td>509427828</td>\n",
              "      <td>1</td>\n",
              "      <td>42.0</td>\n",
              "      <td>2</td>\n",
              "      <td>9.0</td>\n",
              "      <td>44661</td>\n",
              "      <td>No</td>\n",
              "      <td>NaN</td>\n",
              "      <td>Yes</td>\n",
              "      <td>z_F</td>\n",
              "      <td>Masters</td>\n",
              "      <td>Lawyer</td>\n",
              "      <td>51</td>\n",
              "      <td>Private</td>\n",
              "      <td>25750</td>\n",
              "      <td>1</td>\n",
              "      <td>z_SUV</td>\n",
              "      <td>no</td>\n",
              "      <td>7637</td>\n",
              "      <td>2</td>\n",
              "      <td>No</td>\n",
              "      <td>3</td>\n",
              "      <td>3753</td>\n",
              "      <td>9.0</td>\n",
              "    </tr>\n",
              "    <tr>\n",
              "      <th>7546</th>\n",
              "      <td>243463686</td>\n",
              "      <td>0</td>\n",
              "      <td>53.0</td>\n",
              "      <td>0</td>\n",
              "      <td>0.0</td>\n",
              "      <td>0</td>\n",
              "      <td>No</td>\n",
              "      <td>NaN</td>\n",
              "      <td>Yes</td>\n",
              "      <td>M</td>\n",
              "      <td>z_High School</td>\n",
              "      <td>Student</td>\n",
              "      <td>42</td>\n",
              "      <td>Commercial</td>\n",
              "      <td>21470</td>\n",
              "      <td>6</td>\n",
              "      <td>Minivan</td>\n",
              "      <td>no</td>\n",
              "      <td>4372</td>\n",
              "      <td>3</td>\n",
              "      <td>No</td>\n",
              "      <td>2</td>\n",
              "      <td>1441</td>\n",
              "      <td>5.0</td>\n",
              "    </tr>\n",
              "    <tr>\n",
              "      <th>...</th>\n",
              "      <td>...</td>\n",
              "      <td>...</td>\n",
              "      <td>...</td>\n",
              "      <td>...</td>\n",
              "      <td>...</td>\n",
              "      <td>...</td>\n",
              "      <td>...</td>\n",
              "      <td>...</td>\n",
              "      <td>...</td>\n",
              "      <td>...</td>\n",
              "      <td>...</td>\n",
              "      <td>...</td>\n",
              "      <td>...</td>\n",
              "      <td>...</td>\n",
              "      <td>...</td>\n",
              "      <td>...</td>\n",
              "      <td>...</td>\n",
              "      <td>...</td>\n",
              "      <td>...</td>\n",
              "      <td>...</td>\n",
              "      <td>...</td>\n",
              "      <td>...</td>\n",
              "      <td>...</td>\n",
              "      <td>...</td>\n",
              "    </tr>\n",
              "    <tr>\n",
              "      <th>8527</th>\n",
              "      <td>43102423</td>\n",
              "      <td>0</td>\n",
              "      <td>57.0</td>\n",
              "      <td>0</td>\n",
              "      <td>11.0</td>\n",
              "      <td>113403</td>\n",
              "      <td>No</td>\n",
              "      <td>320542</td>\n",
              "      <td>z_No</td>\n",
              "      <td>M</td>\n",
              "      <td>PhD</td>\n",
              "      <td>Manager</td>\n",
              "      <td>52</td>\n",
              "      <td>Commercial</td>\n",
              "      <td>24370</td>\n",
              "      <td>6</td>\n",
              "      <td>Panel Truck</td>\n",
              "      <td>no</td>\n",
              "      <td>10457</td>\n",
              "      <td>2</td>\n",
              "      <td>No</td>\n",
              "      <td>0</td>\n",
              "      <td>34640</td>\n",
              "      <td>11.0</td>\n",
              "    </tr>\n",
              "    <tr>\n",
              "      <th>4714</th>\n",
              "      <td>314541945</td>\n",
              "      <td>0</td>\n",
              "      <td>37.0</td>\n",
              "      <td>0</td>\n",
              "      <td>9.0</td>\n",
              "      <td>26816</td>\n",
              "      <td>No</td>\n",
              "      <td>0</td>\n",
              "      <td>z_No</td>\n",
              "      <td>M</td>\n",
              "      <td>PhD</td>\n",
              "      <td>Lawyer</td>\n",
              "      <td>11</td>\n",
              "      <td>Private</td>\n",
              "      <td>15090</td>\n",
              "      <td>1</td>\n",
              "      <td>Minivan</td>\n",
              "      <td>yes</td>\n",
              "      <td>30605</td>\n",
              "      <td>4</td>\n",
              "      <td>Yes</td>\n",
              "      <td>4</td>\n",
              "      <td>0</td>\n",
              "      <td>9.0</td>\n",
              "    </tr>\n",
              "    <tr>\n",
              "      <th>10196</th>\n",
              "      <td>283591503</td>\n",
              "      <td>0</td>\n",
              "      <td>16.0</td>\n",
              "      <td>1</td>\n",
              "      <td>NaN</td>\n",
              "      <td>0</td>\n",
              "      <td>Yes</td>\n",
              "      <td>NaN</td>\n",
              "      <td>z_No</td>\n",
              "      <td>z_F</td>\n",
              "      <td>&lt;High School</td>\n",
              "      <td>Home Maker</td>\n",
              "      <td>5</td>\n",
              "      <td>Private</td>\n",
              "      <td>13950</td>\n",
              "      <td>6</td>\n",
              "      <td>Sports Car</td>\n",
              "      <td>no</td>\n",
              "      <td>0</td>\n",
              "      <td>0</td>\n",
              "      <td>No</td>\n",
              "      <td>2</td>\n",
              "      <td>0</td>\n",
              "      <td>7.0</td>\n",
              "    </tr>\n",
              "    <tr>\n",
              "      <th>8419</th>\n",
              "      <td>601094820</td>\n",
              "      <td>0</td>\n",
              "      <td>40.0</td>\n",
              "      <td>0</td>\n",
              "      <td>7.0</td>\n",
              "      <td>14848</td>\n",
              "      <td>No</td>\n",
              "      <td>90755</td>\n",
              "      <td>Yes</td>\n",
              "      <td>z_F</td>\n",
              "      <td>&lt;High School</td>\n",
              "      <td>Clerical</td>\n",
              "      <td>26</td>\n",
              "      <td>Private</td>\n",
              "      <td>12060</td>\n",
              "      <td>1</td>\n",
              "      <td>z_SUV</td>\n",
              "      <td>no</td>\n",
              "      <td>0</td>\n",
              "      <td>0</td>\n",
              "      <td>No</td>\n",
              "      <td>0</td>\n",
              "      <td>0</td>\n",
              "      <td>4.0</td>\n",
              "    </tr>\n",
              "    <tr>\n",
              "      <th>2761</th>\n",
              "      <td>927532604</td>\n",
              "      <td>0</td>\n",
              "      <td>58.0</td>\n",
              "      <td>0</td>\n",
              "      <td>9.0</td>\n",
              "      <td>27917</td>\n",
              "      <td>No</td>\n",
              "      <td>171659</td>\n",
              "      <td>Yes</td>\n",
              "      <td>M</td>\n",
              "      <td>z_High School</td>\n",
              "      <td>Clerical</td>\n",
              "      <td>52</td>\n",
              "      <td>Private</td>\n",
              "      <td>20410</td>\n",
              "      <td>1</td>\n",
              "      <td>Minivan</td>\n",
              "      <td>yes</td>\n",
              "      <td>0</td>\n",
              "      <td>0</td>\n",
              "      <td>Yes</td>\n",
              "      <td>3</td>\n",
              "      <td>3776</td>\n",
              "      <td>8.0</td>\n",
              "    </tr>\n",
              "  </tbody>\n",
              "</table>\n",
              "<p>7211 rows × 24 columns</p>\n",
              "</div>"
            ],
            "text/plain": [
              "              ID  KIDSDRIV   AGE  HOMEKIDS  ...  REVOKED MVR_PTS CLM_AMT CAR_AGE\n",
              "7660   915078478         0  46.0         0  ...       No       4       0     NaN\n",
              "3581   144269185         0  56.0         0  ...       No       1    4281    10.0\n",
              "5174   631762912         0  50.0         0  ...       No       0       0     7.0\n",
              "1012   509427828         1  42.0         2  ...       No       3    3753     9.0\n",
              "7546   243463686         0  53.0         0  ...       No       2    1441     5.0\n",
              "...          ...       ...   ...       ...  ...      ...     ...     ...     ...\n",
              "8527    43102423         0  57.0         0  ...       No       0   34640    11.0\n",
              "4714   314541945         0  37.0         0  ...      Yes       4       0     9.0\n",
              "10196  283591503         0  16.0         1  ...       No       2       0     7.0\n",
              "8419   601094820         0  40.0         0  ...       No       0       0     4.0\n",
              "2761   927532604         0  58.0         0  ...      Yes       3    3776     8.0\n",
              "\n",
              "[7211 rows x 24 columns]"
            ]
          },
          "metadata": {},
          "execution_count": 15
        }
      ]
    },
    {
      "cell_type": "markdown",
      "metadata": {
        "id": "YjfNVG9983JZ"
      },
      "source": [
        "# **Task-2:Convert Datatypes**"
      ]
    },
    {
      "cell_type": "code",
      "metadata": {
        "colab": {
          "base_uri": "https://localhost:8080/"
        },
        "id": "-PetSza5N4G_",
        "outputId": "e78a595c-d9bc-44d2-d5f2-c0ccddd4bbc6"
      },
      "source": [
        "for col in ['INCOME','HOME_VAL','BLUEBOOK','OLDCLAIM','CLM_AMT']:\n",
        "    X_train[col] = X_train[col].astype('float')\n",
        "    X_test[col] = X_test[col].astype('float')"
      ],
      "execution_count": 16,
      "outputs": [
        {
          "output_type": "stream",
          "text": [
            "/usr/local/lib/python3.7/dist-packages/ipykernel_launcher.py:2: SettingWithCopyWarning: \n",
            "A value is trying to be set on a copy of a slice from a DataFrame.\n",
            "Try using .loc[row_indexer,col_indexer] = value instead\n",
            "\n",
            "See the caveats in the documentation: https://pandas.pydata.org/pandas-docs/stable/user_guide/indexing.html#returning-a-view-versus-a-copy\n",
            "  \n",
            "/usr/local/lib/python3.7/dist-packages/ipykernel_launcher.py:3: SettingWithCopyWarning: \n",
            "A value is trying to be set on a copy of a slice from a DataFrame.\n",
            "Try using .loc[row_indexer,col_indexer] = value instead\n",
            "\n",
            "See the caveats in the documentation: https://pandas.pydata.org/pandas-docs/stable/user_guide/indexing.html#returning-a-view-versus-a-copy\n",
            "  This is separate from the ipykernel package so we can avoid doing imports until\n"
          ],
          "name": "stderr"
        }
      ]
    },
    {
      "cell_type": "code",
      "metadata": {
        "colab": {
          "base_uri": "https://localhost:8080/"
        },
        "id": "b_T-U0dzOG-p",
        "outputId": "efb6d7a6-90f7-4b97-afce-2de7acdfe79f"
      },
      "source": [
        "X_train.info()"
      ],
      "execution_count": 17,
      "outputs": [
        {
          "output_type": "stream",
          "text": [
            "<class 'pandas.core.frame.DataFrame'>\n",
            "Int64Index: 7211 entries, 7660 to 2761\n",
            "Data columns (total 24 columns):\n",
            " #   Column      Non-Null Count  Dtype  \n",
            "---  ------      --------------  -----  \n",
            " 0   ID          7211 non-null   int64  \n",
            " 1   KIDSDRIV    7211 non-null   int64  \n",
            " 2   AGE         7207 non-null   float64\n",
            " 3   HOMEKIDS    7211 non-null   int64  \n",
            " 4   YOJ         6820 non-null   float64\n",
            " 5   INCOME      6819 non-null   float64\n",
            " 6   PARENT1     7211 non-null   object \n",
            " 7   HOME_VAL    6812 non-null   float64\n",
            " 8   MSTATUS     7211 non-null   object \n",
            " 9   GENDER      7211 non-null   object \n",
            " 10  EDUCATION   7211 non-null   object \n",
            " 11  OCCUPATION  6746 non-null   object \n",
            " 12  TRAVTIME    7211 non-null   int64  \n",
            " 13  CAR_USE     7211 non-null   object \n",
            " 14  BLUEBOOK    7211 non-null   float64\n",
            " 15  TIF         7211 non-null   int64  \n",
            " 16  CAR_TYPE    7211 non-null   object \n",
            " 17  RED_CAR     7211 non-null   object \n",
            " 18  OLDCLAIM    7211 non-null   float64\n",
            " 19  CLM_FREQ    7211 non-null   int64  \n",
            " 20  REVOKED     7211 non-null   object \n",
            " 21  MVR_PTS     7211 non-null   int64  \n",
            " 22  CLM_AMT     7211 non-null   float64\n",
            " 23  CAR_AGE     6773 non-null   float64\n",
            "dtypes: float64(8), int64(7), object(9)\n",
            "memory usage: 1.4+ MB\n"
          ],
          "name": "stdout"
        }
      ]
    },
    {
      "cell_type": "code",
      "metadata": {
        "colab": {
          "base_uri": "https://localhost:8080/"
        },
        "id": "vQZY4uhFOO7X",
        "outputId": "19cc7a8a-f76e-42bb-e4f0-00d721eae1b1"
      },
      "source": [
        "X_test.info()"
      ],
      "execution_count": 18,
      "outputs": [
        {
          "output_type": "stream",
          "text": [
            "<class 'pandas.core.frame.DataFrame'>\n",
            "Int64Index: 3091 entries, 8307 to 7208\n",
            "Data columns (total 24 columns):\n",
            " #   Column      Non-Null Count  Dtype  \n",
            "---  ------      --------------  -----  \n",
            " 0   ID          3091 non-null   int64  \n",
            " 1   KIDSDRIV    3091 non-null   int64  \n",
            " 2   AGE         3088 non-null   float64\n",
            " 3   HOMEKIDS    3091 non-null   int64  \n",
            " 4   YOJ         2934 non-null   float64\n",
            " 5   INCOME      2913 non-null   float64\n",
            " 6   PARENT1     3091 non-null   object \n",
            " 7   HOME_VAL    2915 non-null   float64\n",
            " 8   MSTATUS     3091 non-null   object \n",
            " 9   GENDER      3091 non-null   object \n",
            " 10  EDUCATION   3091 non-null   object \n",
            " 11  OCCUPATION  2891 non-null   object \n",
            " 12  TRAVTIME    3091 non-null   int64  \n",
            " 13  CAR_USE     3091 non-null   object \n",
            " 14  BLUEBOOK    3091 non-null   float64\n",
            " 15  TIF         3091 non-null   int64  \n",
            " 16  CAR_TYPE    3091 non-null   object \n",
            " 17  RED_CAR     3091 non-null   object \n",
            " 18  OLDCLAIM    3091 non-null   float64\n",
            " 19  CLM_FREQ    3091 non-null   int64  \n",
            " 20  REVOKED     3091 non-null   object \n",
            " 21  MVR_PTS     3091 non-null   int64  \n",
            " 22  CLM_AMT     3091 non-null   float64\n",
            " 23  CAR_AGE     2890 non-null   float64\n",
            "dtypes: float64(8), int64(7), object(9)\n",
            "memory usage: 603.7+ KB\n"
          ],
          "name": "stdout"
        }
      ]
    },
    {
      "cell_type": "code",
      "metadata": {
        "colab": {
          "base_uri": "https://localhost:8080/"
        },
        "id": "G6d-84OZOSt4",
        "outputId": "72aec1f1-39f3-498a-eb35-2e716dbba800"
      },
      "source": [
        "X_test.isnull().sum()"
      ],
      "execution_count": 20,
      "outputs": [
        {
          "output_type": "execute_result",
          "data": {
            "text/plain": [
              "ID              0\n",
              "KIDSDRIV        0\n",
              "AGE             3\n",
              "HOMEKIDS        0\n",
              "YOJ           157\n",
              "INCOME        178\n",
              "PARENT1         0\n",
              "HOME_VAL      176\n",
              "MSTATUS         0\n",
              "GENDER          0\n",
              "EDUCATION       0\n",
              "OCCUPATION    200\n",
              "TRAVTIME        0\n",
              "CAR_USE         0\n",
              "BLUEBOOK        0\n",
              "TIF             0\n",
              "CAR_TYPE        0\n",
              "RED_CAR         0\n",
              "OLDCLAIM        0\n",
              "CLM_FREQ        0\n",
              "REVOKED         0\n",
              "MVR_PTS         0\n",
              "CLM_AMT         0\n",
              "CAR_AGE       201\n",
              "dtype: int64"
            ]
          },
          "metadata": {},
          "execution_count": 20
        }
      ]
    },
    {
      "cell_type": "markdown",
      "metadata": {
        "id": "Oo5K6AegT98M"
      },
      "source": [
        "# **Task-3:Dealing with missing values**"
      ]
    },
    {
      "cell_type": "code",
      "metadata": {
        "colab": {
          "base_uri": "https://localhost:8080/",
          "height": 419
        },
        "id": "xruZ_osnT9Cb",
        "outputId": "0352847d-d9a4-47ca-c5fc-096226e60f8e"
      },
      "source": [
        "df[['YOJ','OCCUPATION']]"
      ],
      "execution_count": 22,
      "outputs": [
        {
          "output_type": "execute_result",
          "data": {
            "text/html": [
              "<div>\n",
              "<style scoped>\n",
              "    .dataframe tbody tr th:only-of-type {\n",
              "        vertical-align: middle;\n",
              "    }\n",
              "\n",
              "    .dataframe tbody tr th {\n",
              "        vertical-align: top;\n",
              "    }\n",
              "\n",
              "    .dataframe thead th {\n",
              "        text-align: right;\n",
              "    }\n",
              "</style>\n",
              "<table border=\"1\" class=\"dataframe\">\n",
              "  <thead>\n",
              "    <tr style=\"text-align: right;\">\n",
              "      <th></th>\n",
              "      <th>YOJ</th>\n",
              "      <th>OCCUPATION</th>\n",
              "    </tr>\n",
              "  </thead>\n",
              "  <tbody>\n",
              "    <tr>\n",
              "      <th>0</th>\n",
              "      <td>11.0</td>\n",
              "      <td>Professional</td>\n",
              "    </tr>\n",
              "    <tr>\n",
              "      <th>1</th>\n",
              "      <td>11.0</td>\n",
              "      <td>z_Blue Collar</td>\n",
              "    </tr>\n",
              "    <tr>\n",
              "      <th>2</th>\n",
              "      <td>11.0</td>\n",
              "      <td>Manager</td>\n",
              "    </tr>\n",
              "    <tr>\n",
              "      <th>3</th>\n",
              "      <td>10.0</td>\n",
              "      <td>Clerical</td>\n",
              "    </tr>\n",
              "    <tr>\n",
              "      <th>4</th>\n",
              "      <td>14.0</td>\n",
              "      <td>z_Blue Collar</td>\n",
              "    </tr>\n",
              "    <tr>\n",
              "      <th>...</th>\n",
              "      <td>...</td>\n",
              "      <td>...</td>\n",
              "    </tr>\n",
              "    <tr>\n",
              "      <th>10297</th>\n",
              "      <td>9.0</td>\n",
              "      <td>Manager</td>\n",
              "    </tr>\n",
              "    <tr>\n",
              "      <th>10298</th>\n",
              "      <td>9.0</td>\n",
              "      <td>NaN</td>\n",
              "    </tr>\n",
              "    <tr>\n",
              "      <th>10299</th>\n",
              "      <td>15.0</td>\n",
              "      <td>z_Blue Collar</td>\n",
              "    </tr>\n",
              "    <tr>\n",
              "      <th>10300</th>\n",
              "      <td>7.0</td>\n",
              "      <td>Home Maker</td>\n",
              "    </tr>\n",
              "    <tr>\n",
              "      <th>10301</th>\n",
              "      <td>11.0</td>\n",
              "      <td>Clerical</td>\n",
              "    </tr>\n",
              "  </tbody>\n",
              "</table>\n",
              "<p>10302 rows × 2 columns</p>\n",
              "</div>"
            ],
            "text/plain": [
              "        YOJ     OCCUPATION\n",
              "0      11.0   Professional\n",
              "1      11.0  z_Blue Collar\n",
              "2      11.0        Manager\n",
              "3      10.0       Clerical\n",
              "4      14.0  z_Blue Collar\n",
              "...     ...            ...\n",
              "10297   9.0        Manager\n",
              "10298   9.0            NaN\n",
              "10299  15.0  z_Blue Collar\n",
              "10300   7.0     Home Maker\n",
              "10301  11.0       Clerical\n",
              "\n",
              "[10302 rows x 2 columns]"
            ]
          },
          "metadata": {},
          "execution_count": 22
        }
      ]
    },
    {
      "cell_type": "code",
      "metadata": {
        "colab": {
          "base_uri": "https://localhost:8080/"
        },
        "id": "Dk3CWA2dVodG",
        "outputId": "c742378b-b9cc-43cc-d319-46292d1cafbf"
      },
      "source": [
        "X_train.info()"
      ],
      "execution_count": 31,
      "outputs": [
        {
          "output_type": "stream",
          "text": [
            "<class 'pandas.core.frame.DataFrame'>\n",
            "Int64Index: 6381 entries, 7660 to 2761\n",
            "Data columns (total 24 columns):\n",
            " #   Column      Non-Null Count  Dtype  \n",
            "---  ------      --------------  -----  \n",
            " 0   ID          6381 non-null   int64  \n",
            " 1   KIDSDRIV    6381 non-null   int64  \n",
            " 2   AGE         6377 non-null   float64\n",
            " 3   HOMEKIDS    6381 non-null   int64  \n",
            " 4   YOJ         6381 non-null   float64\n",
            " 5   INCOME      6038 non-null   float64\n",
            " 6   PARENT1     6381 non-null   object \n",
            " 7   HOME_VAL    6038 non-null   float64\n",
            " 8   MSTATUS     6381 non-null   object \n",
            " 9   GENDER      6381 non-null   object \n",
            " 10  EDUCATION   6381 non-null   object \n",
            " 11  OCCUPATION  6381 non-null   object \n",
            " 12  TRAVTIME    6381 non-null   int64  \n",
            " 13  CAR_USE     6381 non-null   object \n",
            " 14  BLUEBOOK    6381 non-null   float64\n",
            " 15  TIF         6381 non-null   int64  \n",
            " 16  CAR_TYPE    6381 non-null   object \n",
            " 17  RED_CAR     6381 non-null   object \n",
            " 18  OLDCLAIM    6381 non-null   float64\n",
            " 19  CLM_FREQ    6381 non-null   int64  \n",
            " 20  REVOKED     6381 non-null   object \n",
            " 21  MVR_PTS     6381 non-null   int64  \n",
            " 22  CLM_AMT     6381 non-null   float64\n",
            " 23  CAR_AGE     5989 non-null   float64\n",
            "dtypes: float64(8), int64(7), object(9)\n",
            "memory usage: 1.2+ MB\n"
          ],
          "name": "stdout"
        }
      ]
    },
    {
      "cell_type": "code",
      "metadata": {
        "colab": {
          "base_uri": "https://localhost:8080/"
        },
        "id": "E8i1wSgjTXd2",
        "outputId": "7e83f682-8be0-4c90-8cf8-a67e3b529c9a"
      },
      "source": [
        "X_train.dropna(subset=['YOJ','OCCUPATION'], inplace=True)"
      ],
      "execution_count": 24,
      "outputs": [
        {
          "output_type": "stream",
          "text": [
            "/usr/local/lib/python3.7/dist-packages/ipykernel_launcher.py:1: SettingWithCopyWarning: \n",
            "A value is trying to be set on a copy of a slice from a DataFrame\n",
            "\n",
            "See the caveats in the documentation: https://pandas.pydata.org/pandas-docs/stable/user_guide/indexing.html#returning-a-view-versus-a-copy\n",
            "  \"\"\"Entry point for launching an IPython kernel.\n"
          ],
          "name": "stderr"
        }
      ]
    },
    {
      "cell_type": "code",
      "metadata": {
        "colab": {
          "base_uri": "https://localhost:8080/"
        },
        "id": "DGBuEi6iVgDg",
        "outputId": "f8c6f19a-f8a0-4f27-dc4e-1852b9539998"
      },
      "source": [
        "X_train.info()"
      ],
      "execution_count": 30,
      "outputs": [
        {
          "output_type": "stream",
          "text": [
            "<class 'pandas.core.frame.DataFrame'>\n",
            "Int64Index: 6381 entries, 7660 to 2761\n",
            "Data columns (total 24 columns):\n",
            " #   Column      Non-Null Count  Dtype  \n",
            "---  ------      --------------  -----  \n",
            " 0   ID          6381 non-null   int64  \n",
            " 1   KIDSDRIV    6381 non-null   int64  \n",
            " 2   AGE         6377 non-null   float64\n",
            " 3   HOMEKIDS    6381 non-null   int64  \n",
            " 4   YOJ         6381 non-null   float64\n",
            " 5   INCOME      6038 non-null   float64\n",
            " 6   PARENT1     6381 non-null   object \n",
            " 7   HOME_VAL    6038 non-null   float64\n",
            " 8   MSTATUS     6381 non-null   object \n",
            " 9   GENDER      6381 non-null   object \n",
            " 10  EDUCATION   6381 non-null   object \n",
            " 11  OCCUPATION  6381 non-null   object \n",
            " 12  TRAVTIME    6381 non-null   int64  \n",
            " 13  CAR_USE     6381 non-null   object \n",
            " 14  BLUEBOOK    6381 non-null   float64\n",
            " 15  TIF         6381 non-null   int64  \n",
            " 16  CAR_TYPE    6381 non-null   object \n",
            " 17  RED_CAR     6381 non-null   object \n",
            " 18  OLDCLAIM    6381 non-null   float64\n",
            " 19  CLM_FREQ    6381 non-null   int64  \n",
            " 20  REVOKED     6381 non-null   object \n",
            " 21  MVR_PTS     6381 non-null   int64  \n",
            " 22  CLM_AMT     6381 non-null   float64\n",
            " 23  CAR_AGE     5989 non-null   float64\n",
            "dtypes: float64(8), int64(7), object(9)\n",
            "memory usage: 1.2+ MB\n"
          ],
          "name": "stdout"
        }
      ]
    },
    {
      "cell_type": "code",
      "metadata": {
        "colab": {
          "base_uri": "https://localhost:8080/"
        },
        "id": "d_wSOMXWU66V",
        "outputId": "4051f68a-7fd9-49fd-9a14-69205404ba14"
      },
      "source": [
        "X_test.dropna(subset=['YOJ','OCCUPATION'], inplace=True)"
      ],
      "execution_count": 27,
      "outputs": [
        {
          "output_type": "stream",
          "text": [
            "/usr/local/lib/python3.7/dist-packages/ipykernel_launcher.py:1: SettingWithCopyWarning: \n",
            "A value is trying to be set on a copy of a slice from a DataFrame\n",
            "\n",
            "See the caveats in the documentation: https://pandas.pydata.org/pandas-docs/stable/user_guide/indexing.html#returning-a-view-versus-a-copy\n",
            "  \"\"\"Entry point for launching an IPython kernel.\n"
          ],
          "name": "stderr"
        }
      ]
    },
    {
      "cell_type": "code",
      "metadata": {
        "colab": {
          "base_uri": "https://localhost:8080/"
        },
        "id": "QaZdm0k0dwlj",
        "outputId": "57145509-f24b-46e0-f26b-1a80125a5247"
      },
      "source": [
        "y_train.shape"
      ],
      "execution_count": 33,
      "outputs": [
        {
          "output_type": "execute_result",
          "data": {
            "text/plain": [
              "(6381,)"
            ]
          },
          "metadata": {},
          "execution_count": 33
        }
      ]
    },
    {
      "cell_type": "code",
      "metadata": {
        "id": "UhqsBrpRU_px"
      },
      "source": [
        "y_train = y_train[X_train.index]"
      ],
      "execution_count": 28,
      "outputs": []
    },
    {
      "cell_type": "code",
      "metadata": {
        "colab": {
          "base_uri": "https://localhost:8080/"
        },
        "id": "yHlUc0w4VPjJ",
        "outputId": "b93fe535-9dd9-4b42-a523-924e897cd7f6"
      },
      "source": [
        "y_train.shape"
      ],
      "execution_count": 32,
      "outputs": [
        {
          "output_type": "execute_result",
          "data": {
            "text/plain": [
              "(6381,)"
            ]
          },
          "metadata": {},
          "execution_count": 32
        }
      ]
    },
    {
      "cell_type": "code",
      "metadata": {
        "id": "vOGoHiSzdnNY"
      },
      "source": [
        "y_test = y_test[X_test.index]"
      ],
      "execution_count": 34,
      "outputs": []
    },
    {
      "cell_type": "code",
      "metadata": {
        "colab": {
          "base_uri": "https://localhost:8080/"
        },
        "id": "pXahVUHDd2a-",
        "outputId": "258f97fe-9a81-4f0b-d1a8-496d97d074ed"
      },
      "source": [
        "y_test.shape"
      ],
      "execution_count": 35,
      "outputs": [
        {
          "output_type": "execute_result",
          "data": {
            "text/plain": [
              "(2744,)"
            ]
          },
          "metadata": {},
          "execution_count": 35
        }
      ]
    },
    {
      "cell_type": "code",
      "metadata": {
        "colab": {
          "base_uri": "https://localhost:8080/"
        },
        "id": "zvn5VFdiVRKi",
        "outputId": "1351916e-0284-4d8f-91e6-afbefe75eac6"
      },
      "source": [
        "#fill the missing values for columns\n",
        "for col in ['AGE','CAR_AGE','INCOME','HOME_VAL']:\n",
        "  X_train[col].fillna(X_train[col].mean(),inplace=True)\n",
        "  X_test[col].fillna(X_train[col].mean(),inplace=True)"
      ],
      "execution_count": 36,
      "outputs": [
        {
          "output_type": "stream",
          "text": [
            "/usr/local/lib/python3.7/dist-packages/pandas/core/series.py:4536: SettingWithCopyWarning: \n",
            "A value is trying to be set on a copy of a slice from a DataFrame\n",
            "\n",
            "See the caveats in the documentation: https://pandas.pydata.org/pandas-docs/stable/user_guide/indexing.html#returning-a-view-versus-a-copy\n",
            "  downcast=downcast,\n"
          ],
          "name": "stderr"
        }
      ]
    },
    {
      "cell_type": "markdown",
      "metadata": {
        "id": "hgX9cPjoiNCw"
      },
      "source": [
        "# **Task:4-Convert the categorical values to numeric value**"
      ]
    },
    {
      "cell_type": "code",
      "metadata": {
        "id": "UIV9cPAviWx8"
      },
      "source": [
        "from sklearn.preprocessing import LabelEncoder\n",
        "columns = [\"PARENT1\",\"MSTATUS\",\"GENDER\",\"EDUCATION\",\"OCCUPATION\",\"CAR_USE\",\"CAR_TYPE\",\"RED_CAR\",\"REVOKED\"]\n"
      ],
      "execution_count": 38,
      "outputs": []
    },
    {
      "cell_type": "code",
      "metadata": {
        "colab": {
          "base_uri": "https://localhost:8080/"
        },
        "id": "gTdUkFWoeeJr",
        "outputId": "2534f9ef-a1b9-4221-a73a-8cd3c506cf2f"
      },
      "source": [
        "for col in columns:\n",
        "    le = LabelEncoder()\n",
        "    X_train[col]=le.fit_transform(X_train[col].astype(str))\n",
        "    X_test[col]=le.fit_transform(X_test[col].astype(str))"
      ],
      "execution_count": 39,
      "outputs": [
        {
          "output_type": "stream",
          "text": [
            "/usr/local/lib/python3.7/dist-packages/ipykernel_launcher.py:3: SettingWithCopyWarning: \n",
            "A value is trying to be set on a copy of a slice from a DataFrame.\n",
            "Try using .loc[row_indexer,col_indexer] = value instead\n",
            "\n",
            "See the caveats in the documentation: https://pandas.pydata.org/pandas-docs/stable/user_guide/indexing.html#returning-a-view-versus-a-copy\n",
            "  This is separate from the ipykernel package so we can avoid doing imports until\n",
            "/usr/local/lib/python3.7/dist-packages/ipykernel_launcher.py:4: SettingWithCopyWarning: \n",
            "A value is trying to be set on a copy of a slice from a DataFrame.\n",
            "Try using .loc[row_indexer,col_indexer] = value instead\n",
            "\n",
            "See the caveats in the documentation: https://pandas.pydata.org/pandas-docs/stable/user_guide/indexing.html#returning-a-view-versus-a-copy\n",
            "  after removing the cwd from sys.path.\n"
          ],
          "name": "stderr"
        }
      ]
    },
    {
      "cell_type": "markdown",
      "metadata": {
        "id": "KbEpo7ngmC2v"
      },
      "source": [
        "# **Task-5:Prediction check**"
      ]
    },
    {
      "cell_type": "code",
      "metadata": {
        "id": "2ahSNEvgiUF6"
      },
      "source": [
        "from sklearn.metrics import precision_score \n",
        "from sklearn.metrics import accuracy_score\n",
        "from sklearn.linear_model import LogisticRegression"
      ],
      "execution_count": 40,
      "outputs": []
    },
    {
      "cell_type": "code",
      "metadata": {
        "id": "6tW7Z6jZmUvo"
      },
      "source": [
        "model = LogisticRegression(random_state = 6)"
      ],
      "execution_count": 41,
      "outputs": []
    },
    {
      "cell_type": "code",
      "metadata": {
        "colab": {
          "base_uri": "https://localhost:8080/"
        },
        "id": "tK71hSz4mUqW",
        "outputId": "3bdf3ba9-02e5-41fb-db61-d33970640ba8"
      },
      "source": [
        "model.fit(X_train,y_train)"
      ],
      "execution_count": 42,
      "outputs": [
        {
          "output_type": "execute_result",
          "data": {
            "text/plain": [
              "LogisticRegression(C=1.0, class_weight=None, dual=False, fit_intercept=True,\n",
              "                   intercept_scaling=1, l1_ratio=None, max_iter=100,\n",
              "                   multi_class='auto', n_jobs=None, penalty='l2',\n",
              "                   random_state=6, solver='lbfgs', tol=0.0001, verbose=0,\n",
              "                   warm_start=False)"
            ]
          },
          "metadata": {},
          "execution_count": 42
        }
      ]
    },
    {
      "cell_type": "code",
      "metadata": {
        "id": "zBx4vYoImUgu"
      },
      "source": [
        "y_pred = model.predict(X_test)"
      ],
      "execution_count": 43,
      "outputs": []
    },
    {
      "cell_type": "code",
      "metadata": {
        "colab": {
          "base_uri": "https://localhost:8080/"
        },
        "id": "OgX4jl34mYi1",
        "outputId": "30b48c75-e41c-4485-c615-9ade8dfc79d8"
      },
      "source": [
        "score = accuracy_score(y_test,y_pred)\n",
        "print('The accuracy_score:',score)"
      ],
      "execution_count": 45,
      "outputs": [
        {
          "output_type": "stream",
          "text": [
            "The accuracy_score: 0.7408892128279884\n"
          ],
          "name": "stdout"
        }
      ]
    },
    {
      "cell_type": "markdown",
      "metadata": {
        "id": "znQmWA4Pmf4E"
      },
      "source": [
        "# **Task-6:Dealing with Imbalnced data**"
      ]
    },
    {
      "cell_type": "code",
      "metadata": {
        "colab": {
          "base_uri": "https://localhost:8080/"
        },
        "id": "K4Vxshf6meVo",
        "outputId": "653a803b-2b56-4cba-ade9-a4f50a724f38"
      },
      "source": [
        "from sklearn.preprocessing import StandardScaler\n",
        "from imblearn.over_sampling import SMOTE"
      ],
      "execution_count": 46,
      "outputs": [
        {
          "output_type": "stream",
          "text": [
            "/usr/local/lib/python3.7/dist-packages/sklearn/externals/six.py:31: FutureWarning: The module is deprecated in version 0.21 and will be removed in version 0.23 since we've dropped support for Python 2.7. Please rely on the official version of six (https://pypi.org/project/six/).\n",
            "  \"(https://pypi.org/project/six/).\", FutureWarning)\n",
            "/usr/local/lib/python3.7/dist-packages/sklearn/utils/deprecation.py:144: FutureWarning: The sklearn.neighbors.base module is  deprecated in version 0.22 and will be removed in version 0.24. The corresponding classes / functions should instead be imported from sklearn.neighbors. Anything that cannot be imported from sklearn.neighbors is now part of the private API.\n",
            "  warnings.warn(message, FutureWarning)\n"
          ],
          "name": "stderr"
        }
      ]
    },
    {
      "cell_type": "code",
      "metadata": {
        "id": "FO7DYxUi9TGX"
      },
      "source": [
        "smote = SMOTE(random_state = 9)"
      ],
      "execution_count": 47,
      "outputs": []
    },
    {
      "cell_type": "code",
      "metadata": {
        "colab": {
          "base_uri": "https://localhost:8080/"
        },
        "id": "XH8pbBAN9S_-",
        "outputId": "481b5762-e899-454b-d6e4-b2fed252a88d"
      },
      "source": [
        "X_train,y_train = smote.fit_sample(X_train,y_train)"
      ],
      "execution_count": 48,
      "outputs": [
        {
          "output_type": "stream",
          "text": [
            "/usr/local/lib/python3.7/dist-packages/sklearn/utils/deprecation.py:87: FutureWarning: Function safe_indexing is deprecated; safe_indexing is deprecated in version 0.22 and will be removed in version 0.24.\n",
            "  warnings.warn(msg, category=FutureWarning)\n"
          ],
          "name": "stderr"
        }
      ]
    },
    {
      "cell_type": "code",
      "metadata": {
        "id": "sDzgwbEn9S21"
      },
      "source": [
        "scaler = StandardScaler()"
      ],
      "execution_count": 49,
      "outputs": []
    },
    {
      "cell_type": "code",
      "metadata": {
        "id": "riB4hJ-m9Y4j"
      },
      "source": [
        "X_train=scaler.fit_transform(X_train)\n",
        "X_test=scaler.transform(X_test)"
      ],
      "execution_count": 51,
      "outputs": []
    },
    {
      "cell_type": "code",
      "metadata": {
        "id": "0UazHRpenuFX"
      },
      "source": [
        ""
      ],
      "execution_count": 51,
      "outputs": []
    },
    {
      "cell_type": "markdown",
      "metadata": {
        "id": "yhZ-NPn89hS8"
      },
      "source": [
        "# Task-7:Prediction Check after dealing with imbalanced data"
      ]
    },
    {
      "cell_type": "code",
      "metadata": {
        "colab": {
          "base_uri": "https://localhost:8080/"
        },
        "id": "RWsg4__a9cRG",
        "outputId": "9aa0897e-f9db-4cc8-cd93-0f16c11cbc4d"
      },
      "source": [
        "model = LogisticRegression()\n",
        "model.fit(X_train,y_train)\n",
        "y_pred=model.predict(X_test)\n",
        "score = accuracy_score(y_test,y_pred)\n",
        "print(' The Accuracy Score:',score)"
      ],
      "execution_count": 52,
      "outputs": [
        {
          "output_type": "stream",
          "text": [
            " The Accuracy Score: 0.9905247813411079\n"
          ],
          "name": "stdout"
        }
      ]
    },
    {
      "cell_type": "code",
      "metadata": {
        "id": "5qTLG3Og9rTc"
      },
      "source": [
        ""
      ],
      "execution_count": null,
      "outputs": []
    }
  ]
}