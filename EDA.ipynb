{
  "nbformat": 4,
  "nbformat_minor": 0,
  "metadata": {
    "colab": {
      "name": "EDA.ipynb",
      "provenance": [],
      "collapsed_sections": [],
      "include_colab_link": true
    },
    "kernelspec": {
      "name": "python3",
      "display_name": "Python 3"
    },
    "language_info": {
      "name": "python"
    }
  },
  "cells": [
    {
      "cell_type": "markdown",
      "metadata": {
        "id": "view-in-github",
        "colab_type": "text"
      },
      "source": [
        "<a href=\"https://colab.research.google.com/github/swapnilbpatil/Required-Notebook/blob/main/EDA.ipynb\" target=\"_parent\"><img src=\"https://colab.research.google.com/assets/colab-badge.svg\" alt=\"Open In Colab\"/></a>"
      ]
    },
    {
      "cell_type": "code",
      "metadata": {
        "id": "UmpB09IRegnv"
      },
      
      "source": [
        "import pandas as pd\n",
        "import numpy as np\n",
        "from sklearn.model_selection import train_test_split\n",
        "import matplotlib.pyplot as plt\n",
        "import seaborn as sns\n",
        "\n"
      ],
      "execution_count": null,
      "outputs": []
    },
    {
      "cell_type": "code",
      "metadata": {
        "id": "p3oLE8SJhzK-"
      },
      "source": [
        "df = pd.read_csv('path.csv')"
      ],
      "execution_count": null,
      "outputs": []
    },
    {
      "cell_type": "code",
      "metadata": {
        "colab": {
          "base_uri": "https://localhost:8080/",
          "height": 204
        },
        "id": "zQJCISmkh4z1",
        "outputId": "a6815000-fe89-4400-fd0e-5daaefdc92e2"
      },
      "source": [
        "df.head()\n"
      ],
      "execution_count": null,
      "outputs": [
        {
          "output_type": "execute_result",
          "data": {
            "text/html": [
              "<div>\n",
              "<style scoped>\n",
              "    .dataframe tbody tr th:only-of-type {\n",
              "        vertical-align: middle;\n",
              "    }\n",
              "\n",
              "    .dataframe tbody tr th {\n",
              "        vertical-align: top;\n",
              "    }\n",
              "\n",
              "    .dataframe thead th {\n",
              "        text-align: right;\n",
              "    }\n",
              "</style>\n",
              "<table border=\"1\" class=\"dataframe\">\n",
              "  <thead>\n",
              "    <tr style=\"text-align: right;\">\n",
              "      <th></th>\n",
              "      <th>LotFrontage</th>\n",
              "      <th>PoolQC</th>\n",
              "      <th>TotalBsmtSF</th>\n",
              "      <th>GrLivArea</th>\n",
              "      <th>LotArea</th>\n",
              "      <th>SaleCondition</th>\n",
              "      <th>GarageType</th>\n",
              "      <th>SalePrice</th>\n",
              "    </tr>\n",
              "  </thead>\n",
              "  <tbody>\n",
              "    <tr>\n",
              "      <th>0</th>\n",
              "      <td>65.0</td>\n",
              "      <td>NaN</td>\n",
              "      <td>856</td>\n",
              "      <td>1710</td>\n",
              "      <td>8450</td>\n",
              "      <td>Normal</td>\n",
              "      <td>Attchd</td>\n",
              "      <td>208500</td>\n",
              "    </tr>\n",
              "    <tr>\n",
              "      <th>1</th>\n",
              "      <td>80.0</td>\n",
              "      <td>NaN</td>\n",
              "      <td>1262</td>\n",
              "      <td>1262</td>\n",
              "      <td>9600</td>\n",
              "      <td>Normal</td>\n",
              "      <td>Attchd</td>\n",
              "      <td>181500</td>\n",
              "    </tr>\n",
              "    <tr>\n",
              "      <th>2</th>\n",
              "      <td>68.0</td>\n",
              "      <td>NaN</td>\n",
              "      <td>920</td>\n",
              "      <td>1786</td>\n",
              "      <td>11250</td>\n",
              "      <td>Normal</td>\n",
              "      <td>Attchd</td>\n",
              "      <td>223500</td>\n",
              "    </tr>\n",
              "    <tr>\n",
              "      <th>3</th>\n",
              "      <td>60.0</td>\n",
              "      <td>NaN</td>\n",
              "      <td>756</td>\n",
              "      <td>1717</td>\n",
              "      <td>9550</td>\n",
              "      <td>Abnorml</td>\n",
              "      <td>Detchd</td>\n",
              "      <td>140000</td>\n",
              "    </tr>\n",
              "    <tr>\n",
              "      <th>4</th>\n",
              "      <td>84.0</td>\n",
              "      <td>NaN</td>\n",
              "      <td>1145</td>\n",
              "      <td>2198</td>\n",
              "      <td>14260</td>\n",
              "      <td>Normal</td>\n",
              "      <td>Attchd</td>\n",
              "      <td>250000</td>\n",
              "    </tr>\n",
              "  </tbody>\n",
              "</table>\n",
              "</div>"
            ],
            "text/plain": [
              "   LotFrontage PoolQC  TotalBsmtSF  ...  SaleCondition  GarageType SalePrice\n",
              "0         65.0    NaN          856  ...         Normal      Attchd    208500\n",
              "1         80.0    NaN         1262  ...         Normal      Attchd    181500\n",
              "2         68.0    NaN          920  ...         Normal      Attchd    223500\n",
              "3         60.0    NaN          756  ...        Abnorml      Detchd    140000\n",
              "4         84.0    NaN         1145  ...         Normal      Attchd    250000\n",
              "\n",
              "[5 rows x 8 columns]"
            ]
          },
          "metadata": {
            "tags": []
          },
          "execution_count": 3
        }
      ]
    },
    {
      "cell_type": "code",
      "metadata": {
        "colab": {
          "base_uri": "https://localhost:8080/"
        },
        "id": "ROeGYEgVh54W",
        "outputId": "ea306047-95f7-4b4a-ff77-d3ed6265033c"
      },
      "source": [
        "df.shape"
      ],
      "execution_count": null,
      "outputs": [
        {
          "output_type": "execute_result",
          "data": {
            "text/plain": [
              "(1460, 8)"
            ]
          },
          "metadata": {
            "tags": []
          },
          "execution_count": 4
        }
      ]
    },
    {
      "cell_type": "markdown",
      "metadata": {
        "id": "c_BlLCJajdXo"
      },
      "source": [
        "# **Task 1 :- Why preprocess and explore data?**"
      ]
    },
    {
      "cell_type": "code",
      "metadata": {
        "id": "kybSvjhbh_nP"
      },
      "source": [
        "X = df.iloc[:,:7]"
      ],
      "execution_count": null,
      "outputs": []
    },
    {
      "cell_type": "code",
      "metadata": {
        "colab": {
          "base_uri": "https://localhost:8080/",
          "height": 419
        },
        "id": "vDTLz4KZiLXr",
        "outputId": "fae5f9c2-1a7b-4ebf-fbb7-77106817e3e8"
      },
      "source": [
        "X"
      ],
      "execution_count": null,
      "outputs": [
        {
          "output_type": "execute_result",
          "data": {
            "text/html": [
              "<div>\n",
              "<style scoped>\n",
              "    .dataframe tbody tr th:only-of-type {\n",
              "        vertical-align: middle;\n",
              "    }\n",
              "\n",
              "    .dataframe tbody tr th {\n",
              "        vertical-align: top;\n",
              "    }\n",
              "\n",
              "    .dataframe thead th {\n",
              "        text-align: right;\n",
              "    }\n",
              "</style>\n",
              "<table border=\"1\" class=\"dataframe\">\n",
              "  <thead>\n",
              "    <tr style=\"text-align: right;\">\n",
              "      <th></th>\n",
              "      <th>LotFrontage</th>\n",
              "      <th>PoolQC</th>\n",
              "      <th>TotalBsmtSF</th>\n",
              "      <th>GrLivArea</th>\n",
              "      <th>LotArea</th>\n",
              "      <th>SaleCondition</th>\n",
              "      <th>GarageType</th>\n",
              "    </tr>\n",
              "  </thead>\n",
              "  <tbody>\n",
              "    <tr>\n",
              "      <th>0</th>\n",
              "      <td>65.0</td>\n",
              "      <td>NaN</td>\n",
              "      <td>856</td>\n",
              "      <td>1710</td>\n",
              "      <td>8450</td>\n",
              "      <td>Normal</td>\n",
              "      <td>Attchd</td>\n",
              "    </tr>\n",
              "    <tr>\n",
              "      <th>1</th>\n",
              "      <td>80.0</td>\n",
              "      <td>NaN</td>\n",
              "      <td>1262</td>\n",
              "      <td>1262</td>\n",
              "      <td>9600</td>\n",
              "      <td>Normal</td>\n",
              "      <td>Attchd</td>\n",
              "    </tr>\n",
              "    <tr>\n",
              "      <th>2</th>\n",
              "      <td>68.0</td>\n",
              "      <td>NaN</td>\n",
              "      <td>920</td>\n",
              "      <td>1786</td>\n",
              "      <td>11250</td>\n",
              "      <td>Normal</td>\n",
              "      <td>Attchd</td>\n",
              "    </tr>\n",
              "    <tr>\n",
              "      <th>3</th>\n",
              "      <td>60.0</td>\n",
              "      <td>NaN</td>\n",
              "      <td>756</td>\n",
              "      <td>1717</td>\n",
              "      <td>9550</td>\n",
              "      <td>Abnorml</td>\n",
              "      <td>Detchd</td>\n",
              "    </tr>\n",
              "    <tr>\n",
              "      <th>4</th>\n",
              "      <td>84.0</td>\n",
              "      <td>NaN</td>\n",
              "      <td>1145</td>\n",
              "      <td>2198</td>\n",
              "      <td>14260</td>\n",
              "      <td>Normal</td>\n",
              "      <td>Attchd</td>\n",
              "    </tr>\n",
              "    <tr>\n",
              "      <th>...</th>\n",
              "      <td>...</td>\n",
              "      <td>...</td>\n",
              "      <td>...</td>\n",
              "      <td>...</td>\n",
              "      <td>...</td>\n",
              "      <td>...</td>\n",
              "      <td>...</td>\n",
              "    </tr>\n",
              "    <tr>\n",
              "      <th>1455</th>\n",
              "      <td>62.0</td>\n",
              "      <td>NaN</td>\n",
              "      <td>953</td>\n",
              "      <td>1647</td>\n",
              "      <td>7917</td>\n",
              "      <td>Normal</td>\n",
              "      <td>Attchd</td>\n",
              "    </tr>\n",
              "    <tr>\n",
              "      <th>1456</th>\n",
              "      <td>85.0</td>\n",
              "      <td>NaN</td>\n",
              "      <td>1542</td>\n",
              "      <td>2073</td>\n",
              "      <td>13175</td>\n",
              "      <td>Normal</td>\n",
              "      <td>Attchd</td>\n",
              "    </tr>\n",
              "    <tr>\n",
              "      <th>1457</th>\n",
              "      <td>66.0</td>\n",
              "      <td>NaN</td>\n",
              "      <td>1152</td>\n",
              "      <td>2340</td>\n",
              "      <td>9042</td>\n",
              "      <td>Normal</td>\n",
              "      <td>Attchd</td>\n",
              "    </tr>\n",
              "    <tr>\n",
              "      <th>1458</th>\n",
              "      <td>68.0</td>\n",
              "      <td>NaN</td>\n",
              "      <td>1078</td>\n",
              "      <td>1078</td>\n",
              "      <td>9717</td>\n",
              "      <td>Normal</td>\n",
              "      <td>Attchd</td>\n",
              "    </tr>\n",
              "    <tr>\n",
              "      <th>1459</th>\n",
              "      <td>75.0</td>\n",
              "      <td>NaN</td>\n",
              "      <td>1256</td>\n",
              "      <td>1256</td>\n",
              "      <td>9937</td>\n",
              "      <td>Normal</td>\n",
              "      <td>Attchd</td>\n",
              "    </tr>\n",
              "  </tbody>\n",
              "</table>\n",
              "<p>1460 rows × 7 columns</p>\n",
              "</div>"
            ],
            "text/plain": [
              "      LotFrontage PoolQC  TotalBsmtSF  ...  LotArea  SaleCondition GarageType\n",
              "0            65.0    NaN          856  ...     8450         Normal     Attchd\n",
              "1            80.0    NaN         1262  ...     9600         Normal     Attchd\n",
              "2            68.0    NaN          920  ...    11250         Normal     Attchd\n",
              "3            60.0    NaN          756  ...     9550        Abnorml     Detchd\n",
              "4            84.0    NaN         1145  ...    14260         Normal     Attchd\n",
              "...           ...    ...          ...  ...      ...            ...        ...\n",
              "1455         62.0    NaN          953  ...     7917         Normal     Attchd\n",
              "1456         85.0    NaN         1542  ...    13175         Normal     Attchd\n",
              "1457         66.0    NaN         1152  ...     9042         Normal     Attchd\n",
              "1458         68.0    NaN         1078  ...     9717         Normal     Attchd\n",
              "1459         75.0    NaN         1256  ...     9937         Normal     Attchd\n",
              "\n",
              "[1460 rows x 7 columns]"
            ]
          },
          "metadata": {
            "tags": []
          },
          "execution_count": 6
        }
      ]
    },
    {
      "cell_type": "code",
      "metadata": {
        "id": "iKwv_h3GiM4H"
      },
      "source": [
        "y = df.iloc[:,7]"
      ],
      "execution_count": null,
      "outputs": []
    },
    {
      "cell_type": "code",
      "metadata": {
        "colab": {
          "base_uri": "https://localhost:8080/"
        },
        "id": "PQOC-Teribia",
        "outputId": "8d899757-1a5b-4da5-fc5a-f3fcccc1995b"
      },
      "source": [
        "y"
      ],
      "execution_count": null,
      "outputs": [
        {
          "output_type": "execute_result",
          "data": {
            "text/plain": [
              "0       208500\n",
              "1       181500\n",
              "2       223500\n",
              "3       140000\n",
              "4       250000\n",
              "         ...  \n",
              "1455    175000\n",
              "1456    210000\n",
              "1457    266500\n",
              "1458    142125\n",
              "1459    147500\n",
              "Name: SalePrice, Length: 1460, dtype: int64"
            ]
          },
          "metadata": {
            "tags": []
          },
          "execution_count": 8
        }
      ]
    },
    {
      "cell_type": "code",
      "metadata": {
        "id": "rUE5NB2bicUH"
      },
      "source": [
        "X_train,X_test,y_train,y_test = train_test_split(X,y,test_size = 0.2, random_state=2)"
      ],
      "execution_count": null,
      "outputs": []
    },
    {
      "cell_type": "code",
      "metadata": {
        "colab": {
          "base_uri": "https://localhost:8080/"
        },
        "id": "xEiLGk6EjK17",
        "outputId": "85fc933d-1ce1-479c-b6cf-a76bb352e24b"
      },
      "source": [
        "X_train,X_test"
      ],
      "execution_count": null,
      "outputs": [
        {
          "output_type": "execute_result",
          "data": {
            "text/plain": [
              "(      LotFrontage PoolQC  TotalBsmtSF  ...  LotArea  SaleCondition GarageType\n",
              " 455          80.0    NaN         1242  ...     9600         Normal     Attchd\n",
              " 863          70.0    NaN         1148  ...     7931         Normal     Attchd\n",
              " 504          24.0    NaN          855  ...     2308         Normal     Attchd\n",
              " 1413         88.0    NaN         1844  ...    10994        Abnorml     Attchd\n",
              " 1389         60.0    NaN          735  ...     6000         Normal     Detchd\n",
              " ...           ...    ...          ...  ...      ...            ...        ...\n",
              " 466          85.0    NaN         1277  ...    10628         Normal     Attchd\n",
              " 299          80.0    NaN         1092  ...    14000         Family     Attchd\n",
              " 493          70.0    NaN         1269  ...     7931         Normal     Detchd\n",
              " 527          67.0    NaN         1452  ...    14948        Partial     Attchd\n",
              " 1192         60.0    NaN          702  ...     9600         Normal     Detchd\n",
              " \n",
              " [1168 rows x 7 columns],\n",
              "       LotFrontage PoolQC  TotalBsmtSF  ...  LotArea  SaleCondition GarageType\n",
              " 503         100.0    NaN         1501  ...    15602         Normal     Attchd\n",
              " 101          77.0    NaN          741  ...     9206         Normal     Attchd\n",
              " 608          78.0    NaN          965  ...    12168         Alloca    Basment\n",
              " 1089         37.0    NaN         1247  ...     3316         Normal     Attchd\n",
              " 819          44.0    NaN         1358  ...     6371        Partial     Attchd\n",
              " ...           ...    ...          ...  ...      ...            ...        ...\n",
              " 816           NaN    NaN         1008  ...    11425         Normal     Attchd\n",
              " 1273        124.0    NaN         1019  ...    11512         Normal    Basment\n",
              " 285          35.0    NaN          625  ...     4251        Partial     Detchd\n",
              " 194          60.0    NaN          864  ...     7180         Normal     Detchd\n",
              " 318          90.0    NaN         1347  ...     9900         Normal     Attchd\n",
              " \n",
              " [292 rows x 7 columns])"
            ]
          },
          "metadata": {
            "tags": []
          },
          "execution_count": 10
        }
      ]
    },
    {
      "cell_type": "markdown",
      "metadata": {
        "id": "9V1KcYvclAAF"
      },
      "source": [
        "# **Task 2 :- Outlier Detection**"
      ]
    },
    {
      "cell_type": "code",
      "metadata": {
        "colab": {
          "base_uri": "https://localhost:8080/"
        },
        "id": "xOUuAeFslAey",
        "outputId": "3118dc29-e64f-4c14-a86d-0768192426b0"
      },
      "source": [
        "df.columns"
      ],
      "execution_count": null,
      "outputs": [
        {
          "output_type": "execute_result",
          "data": {
            "text/plain": [
              "Index(['LotFrontage', 'PoolQC', 'TotalBsmtSF', 'GrLivArea', 'LotArea',\n",
              "       'SaleCondition', 'GarageType', 'SalePrice'],\n",
              "      dtype='object')"
            ]
          },
          "metadata": {
            "tags": []
          },
          "execution_count": 11
        }
      ]
    },
    {
      "cell_type": "code",
      "metadata": {
        "colab": {
          "base_uri": "https://localhost:8080/",
          "height": 329
        },
        "id": "ehmfxBGMmJVK",
        "outputId": "8e54d43d-3257-4420-eb61-aedfe1f26d61"
      },
      "source": [
        "plt.figure(figsize=(10,5))\n",
        "\n",
        "fig, ((ax_1,ax_2),(ax_3,ax_4)) = plt.subplots(2,2)\n",
        "\n",
        "# For SalePrice vs LotFrontage\n",
        "ax_1.scatter(X_train['LotFrontage'],y_train,color = 'red')\n",
        "ax_1.set_title('SalePrice vs LotFrontage')\n",
        "ax_1.set_xlabel('LotFrontage')\n",
        "ax_1.set_ylabel('SalePrice')\n",
        "\n",
        "# For SalePrice vs TotalBsmtSF\n",
        "ax_2.scatter(X_train['TotalBsmtSF'],y_train,color = 'blue')\n",
        "ax_2.set_title('SalePrice vs TotalBsmtSF')\n",
        "ax_2.set_xlabel('TotalBsmtSF')\n",
        "ax_2.set_ylabel('SalePrice')\n",
        "\n",
        "# For SalePrice vs GrLivArea\n",
        "ax_3.scatter(X_train['GrLivArea'],y_train,color = 'green')\n",
        "ax_3.set_title('SalePrice vs GrLivArea')\n",
        "ax_3.set_xlabel('GrLivArea')\n",
        "ax_3.set_ylabel('SalePrice')\n",
        "\n",
        "# For SalePrice vs LotArea\n",
        "ax_4.scatter(X_train['LotArea'],y_train,color = 'black')\n",
        "ax_4.set_title('SalePrice vs LotArea')\n",
        "ax_4.set_xlabel('LotArea')\n",
        "ax_4.set_ylabel('SalePrice')"
      ],
      "execution_count": null,
      "outputs": [
        {
          "output_type": "execute_result",
          "data": {
            "text/plain": [
              "Text(0, 0.5, 'SalePrice')"
            ]
          },
          "metadata": {
            "tags": []
          },
          "execution_count": 12
        },
        {
          "output_type": "display_data",
          "data": {
            "text/plain": [
              "<Figure size 720x360 with 0 Axes>"
            ]
          },
          "metadata": {
            "tags": []
          }
        },
        {
          "output_type": "display_data",
          "data": {
            "image/png": "[encoded data removed]",
            "text/plain": [
              "<Figure size 432x288 with 4 Axes>"
            ]
          },
          "metadata": {
            "tags": [],
            "needs_background": "light"
          }
        }
      ]
    },
    {
      "cell_type": "markdown",
      "metadata": {
        "id": "6n8ddig7wKSI"
      },
      "source": [
        "# **Task 3 :- Treatment of outliers**"
      ]
    },
    {
      "cell_type": "code",
      "metadata": {
        "colab": {
          "base_uri": "https://localhost:8080/",
          "height": 439
        },
        "id": "YQn8YRKjwX96",
        "outputId": "f3da6acd-73d9-4114-eeaf-4ab6f7882a0d"
      },
      "source": [
        "# we see our data is normale Distribution or not with the help of distplot graph \n",
        "\n",
        "plt.figure(figsize=(10,5))\n",
        "plt.subplot(1,2,1)\n",
        "sns.distplot(X_train['LotFrontage'])\n",
        "\n",
        "plt.subplot(1,2,2)\n",
        "sns.distplot(X_train['TotalBsmtSF'])\n",
        "\n"
      ],
      "execution_count": null,
      "outputs": [
        {
          "output_type": "stream",
          "text": [
            "/usr/local/lib/python3.7/dist-packages/seaborn/distributions.py:2557: FutureWarning: `distplot` is a deprecated function and will be removed in a future version. Please adapt your code to use either `displot` (a figure-level function with similar flexibility) or `histplot` (an axes-level function for histograms).\n",
            "  warnings.warn(msg, FutureWarning)\n",
            "/usr/local/lib/python3.7/dist-packages/seaborn/distributions.py:2557: FutureWarning: `distplot` is a deprecated function and will be removed in a future version. Please adapt your code to use either `displot` (a figure-level function with similar flexibility) or `histplot` (an axes-level function for histograms).\n",
            "  warnings.warn(msg, FutureWarning)\n"
          ],
          "name": "stderr"
        },
        {
          "output_type": "execute_result",
          "data": {
            "text/plain": [
              "<matplotlib.axes._subplots.AxesSubplot at 0x7f9552977590>"
            ]
          },
          "metadata": {
            "tags": []
          },
          "execution_count": 13
        },
        {
          "output_type": "display_data",
          "data": {
            "image/png": "[encoded data removed]",
            "text/plain": [
              "<Figure size 720x360 with 2 Axes>"
            ]
          },
          "metadata": {
            "tags": [],
            "needs_background": "light"
          }
        }
      ]
    },
    {
      "cell_type": "code",
      "metadata": {
        "colab": {
          "base_uri": "https://localhost:8080/",
          "height": 439
        },
        "id": "DbwRx19vw_nQ",
        "outputId": "25b22012-c6e2-4b27-97b6-5a09b1f0e138"
      },
      "source": [
        "plt.figure(figsize=(10,5))\n",
        "plt.subplot(1,2,1)\n",
        "sns.distplot(X_train['GrLivArea'])\n",
        "\n",
        "plt.subplot(1,2,2)\n",
        "sns.distplot(X_train['LotArea'])"
      ],
      "execution_count": null,
      "outputs": [
        {
          "output_type": "stream",
          "text": [
            "/usr/local/lib/python3.7/dist-packages/seaborn/distributions.py:2557: FutureWarning: `distplot` is a deprecated function and will be removed in a future version. Please adapt your code to use either `displot` (a figure-level function with similar flexibility) or `histplot` (an axes-level function for histograms).\n",
            "  warnings.warn(msg, FutureWarning)\n",
            "/usr/local/lib/python3.7/dist-packages/seaborn/distributions.py:2557: FutureWarning: `distplot` is a deprecated function and will be removed in a future version. Please adapt your code to use either `displot` (a figure-level function with similar flexibility) or `histplot` (an axes-level function for histograms).\n",
            "  warnings.warn(msg, FutureWarning)\n"
          ],
          "name": "stderr"
        },
        {
          "output_type": "execute_result",
          "data": {
            "text/plain": [
              "<matplotlib.axes._subplots.AxesSubplot at 0x7f954fd9dd90>"
            ]
          },
          "metadata": {
            "tags": []
          },
          "execution_count": 14
        },
        {
          "output_type": "display_data",
          "data": {
            "image/png": "[encoded data removed]",
            "text/plain": [
              "<Figure size 720x360 with 2 Axes>"
            ]
          },
          "metadata": {
            "tags": [],
            "needs_background": "light"
          }
        }
      ]
    },
    {
      "cell_type": "code",
      "metadata": {
        "colab": {
          "base_uri": "https://localhost:8080/",
          "height": 416
        },
        "id": "NbpfRWGQxjet",
        "outputId": "6564451e-9cc8-4e4b-df0f-267ac9a2d038"
      },
      "source": [
        "plt.figure(figsize=(10,5))\n",
        "plt.subplot(1,2,1)\n",
        "sns.distplot(y_train,hist = False)"
      ],
      "execution_count": null,
      "outputs": [
        {
          "output_type": "stream",
          "text": [
            "/usr/local/lib/python3.7/dist-packages/seaborn/distributions.py:2557: FutureWarning: `distplot` is a deprecated function and will be removed in a future version. Please adapt your code to use either `displot` (a figure-level function with similar flexibility) or `kdeplot` (an axes-level function for kernel density plots).\n",
            "  warnings.warn(msg, FutureWarning)\n"
          ],
          "name": "stderr"
        },
        {
          "output_type": "execute_result",
          "data": {
            "text/plain": [
              "<matplotlib.axes._subplots.AxesSubplot at 0x7f954fbfa910>"
            ]
          },
          "metadata": {
            "tags": []
          },
          "execution_count": 15
        },
        {
          "output_type": "display_data",
          "data": {
            "image/png": "[encoded data removed]",
            "text/plain": [
              "<Figure size 720x360 with 1 Axes>"
            ]
          },
          "metadata": {
            "tags": [],
            "needs_background": "light"
          }
        }
      ]
    },
    {
      "cell_type": "code",
      "metadata": {
        "id": "a1GQnBUPx-s-"
      },
      "source": [
        "# we see our data is not Normal Distribution then we used Boxplot or IQR Method"
      ],
      "execution_count": null,
      "outputs": []
    },
    {
      "cell_type": "code",
      "metadata": {
        "id": "JpLOcSFKVE8_"
      },
      "source": [
        "train = pd.concat([X_train, y_train], axis=1)"
      ],
      "execution_count": null,
      "outputs": []
    },
    {
      "cell_type": "code",
      "metadata": {
        "colab": {
          "base_uri": "https://localhost:8080/",
          "height": 419
        },
        "id": "0Bu2FqpzV9l7",
        "outputId": "62504421-3b3b-4e43-ffa7-cd6d06dcdd3f"
      },
      "source": [
        "train"
      ],
      "execution_count": null,
      "outputs": [
        {
          "output_type": "execute_result",
          "data": {
            "text/html": [
              "<div>\n",
              "<style scoped>\n",
              "    .dataframe tbody tr th:only-of-type {\n",
              "        vertical-align: middle;\n",
              "    }\n",
              "\n",
              "    .dataframe tbody tr th {\n",
              "        vertical-align: top;\n",
              "    }\n",
              "\n",
              "    .dataframe thead th {\n",
              "        text-align: right;\n",
              "    }\n",
              "</style>\n",
              "<table border=\"1\" class=\"dataframe\">\n",
              "  <thead>\n",
              "    <tr style=\"text-align: right;\">\n",
              "      <th></th>\n",
              "      <th>LotFrontage</th>\n",
              "      <th>PoolQC</th>\n",
              "      <th>TotalBsmtSF</th>\n",
              "      <th>GrLivArea</th>\n",
              "      <th>LotArea</th>\n",
              "      <th>SaleCondition</th>\n",
              "      <th>GarageType</th>\n",
              "      <th>SalePrice</th>\n",
              "    </tr>\n",
              "  </thead>\n",
              "  <tbody>\n",
              "    <tr>\n",
              "      <th>455</th>\n",
              "      <td>80.0</td>\n",
              "      <td>NaN</td>\n",
              "      <td>1242</td>\n",
              "      <td>1242</td>\n",
              "      <td>9600</td>\n",
              "      <td>Normal</td>\n",
              "      <td>Attchd</td>\n",
              "      <td>175500</td>\n",
              "    </tr>\n",
              "    <tr>\n",
              "      <th>863</th>\n",
              "      <td>70.0</td>\n",
              "      <td>NaN</td>\n",
              "      <td>1148</td>\n",
              "      <td>1148</td>\n",
              "      <td>7931</td>\n",
              "      <td>Normal</td>\n",
              "      <td>Attchd</td>\n",
              "      <td>132500</td>\n",
              "    </tr>\n",
              "    <tr>\n",
              "      <th>504</th>\n",
              "      <td>24.0</td>\n",
              "      <td>NaN</td>\n",
              "      <td>855</td>\n",
              "      <td>1322</td>\n",
              "      <td>2308</td>\n",
              "      <td>Normal</td>\n",
              "      <td>Attchd</td>\n",
              "      <td>147000</td>\n",
              "    </tr>\n",
              "    <tr>\n",
              "      <th>1413</th>\n",
              "      <td>88.0</td>\n",
              "      <td>NaN</td>\n",
              "      <td>1844</td>\n",
              "      <td>1844</td>\n",
              "      <td>10994</td>\n",
              "      <td>Abnorml</td>\n",
              "      <td>Attchd</td>\n",
              "      <td>257000</td>\n",
              "    </tr>\n",
              "    <tr>\n",
              "      <th>1389</th>\n",
              "      <td>60.0</td>\n",
              "      <td>NaN</td>\n",
              "      <td>735</td>\n",
              "      <td>1218</td>\n",
              "      <td>6000</td>\n",
              "      <td>Normal</td>\n",
              "      <td>Detchd</td>\n",
              "      <td>131000</td>\n",
              "    </tr>\n",
              "    <tr>\n",
              "      <th>...</th>\n",
              "      <td>...</td>\n",
              "      <td>...</td>\n",
              "      <td>...</td>\n",
              "      <td>...</td>\n",
              "      <td>...</td>\n",
              "      <td>...</td>\n",
              "      <td>...</td>\n",
              "      <td>...</td>\n",
              "    </tr>\n",
              "    <tr>\n",
              "      <th>466</th>\n",
              "      <td>85.0</td>\n",
              "      <td>NaN</td>\n",
              "      <td>1277</td>\n",
              "      <td>1277</td>\n",
              "      <td>10628</td>\n",
              "      <td>Normal</td>\n",
              "      <td>Attchd</td>\n",
              "      <td>167000</td>\n",
              "    </tr>\n",
              "    <tr>\n",
              "      <th>299</th>\n",
              "      <td>80.0</td>\n",
              "      <td>NaN</td>\n",
              "      <td>1092</td>\n",
              "      <td>1152</td>\n",
              "      <td>14000</td>\n",
              "      <td>Family</td>\n",
              "      <td>Attchd</td>\n",
              "      <td>158500</td>\n",
              "    </tr>\n",
              "    <tr>\n",
              "      <th>493</th>\n",
              "      <td>70.0</td>\n",
              "      <td>NaN</td>\n",
              "      <td>1269</td>\n",
              "      <td>1269</td>\n",
              "      <td>7931</td>\n",
              "      <td>Normal</td>\n",
              "      <td>Detchd</td>\n",
              "      <td>155000</td>\n",
              "    </tr>\n",
              "    <tr>\n",
              "      <th>527</th>\n",
              "      <td>67.0</td>\n",
              "      <td>NaN</td>\n",
              "      <td>1452</td>\n",
              "      <td>2713</td>\n",
              "      <td>14948</td>\n",
              "      <td>Partial</td>\n",
              "      <td>Attchd</td>\n",
              "      <td>446261</td>\n",
              "    </tr>\n",
              "    <tr>\n",
              "      <th>1192</th>\n",
              "      <td>60.0</td>\n",
              "      <td>NaN</td>\n",
              "      <td>702</td>\n",
              "      <td>1472</td>\n",
              "      <td>9600</td>\n",
              "      <td>Normal</td>\n",
              "      <td>Detchd</td>\n",
              "      <td>125000</td>\n",
              "    </tr>\n",
              "  </tbody>\n",
              "</table>\n",
              "<p>1168 rows × 8 columns</p>\n",
              "</div>"
            ],
            "text/plain": [
              "      LotFrontage PoolQC  TotalBsmtSF  ...  SaleCondition  GarageType SalePrice\n",
              "455          80.0    NaN         1242  ...         Normal      Attchd    175500\n",
              "863          70.0    NaN         1148  ...         Normal      Attchd    132500\n",
              "504          24.0    NaN          855  ...         Normal      Attchd    147000\n",
              "1413         88.0    NaN         1844  ...        Abnorml      Attchd    257000\n",
              "1389         60.0    NaN          735  ...         Normal      Detchd    131000\n",
              "...           ...    ...          ...  ...            ...         ...       ...\n",
              "466          85.0    NaN         1277  ...         Normal      Attchd    167000\n",
              "299          80.0    NaN         1092  ...         Family      Attchd    158500\n",
              "493          70.0    NaN         1269  ...         Normal      Detchd    155000\n",
              "527          67.0    NaN         1452  ...        Partial      Attchd    446261\n",
              "1192         60.0    NaN          702  ...         Normal      Detchd    125000\n",
              "\n",
              "[1168 rows x 8 columns]"
            ]
          },
          "metadata": {
            "tags": []
          },
          "execution_count": 18
        }
      ]
    },
    {
      "cell_type": "code",
      "metadata": {
        "colab": {
          "base_uri": "https://localhost:8080/"
        },
        "id": "ELzxF9N6WMde",
        "outputId": "d63e0a9f-3bab-42b8-8205-98090ef3d06e"
      },
      "source": [
        "mask1 =  train['LotFrontage'] < 300\n",
        "mask1"
      ],
      "execution_count": null,
      "outputs": [
        {
          "output_type": "execute_result",
          "data": {
            "text/plain": [
              "455     True\n",
              "863     True\n",
              "504     True\n",
              "1413    True\n",
              "1389    True\n",
              "        ... \n",
              "466     True\n",
              "299     True\n",
              "493     True\n",
              "527     True\n",
              "1192    True\n",
              "Name: LotFrontage, Length: 1168, dtype: bool"
            ]
          },
          "metadata": {
            "tags": []
          },
          "execution_count": 19
        }
      ]
    },
    {
      "cell_type": "code",
      "metadata": {
        "colab": {
          "base_uri": "https://localhost:8080/"
        },
        "id": "dPeXIspjXHN5",
        "outputId": "d6326447-b64d-4c81-ceea-a73747d0eb56"
      },
      "source": [
        "mask2 =  train['TotalBsmtSF'] < 5000\n",
        "mask2"
      ],
      "execution_count": null,
      "outputs": [
        {
          "output_type": "execute_result",
          "data": {
            "text/plain": [
              "455     True\n",
              "863     True\n",
              "504     True\n",
              "1413    True\n",
              "1389    True\n",
              "        ... \n",
              "466     True\n",
              "299     True\n",
              "493     True\n",
              "527     True\n",
              "1192    True\n",
              "Name: TotalBsmtSF, Length: 1168, dtype: bool"
            ]
          },
          "metadata": {
            "tags": []
          },
          "execution_count": 20
        }
      ]
    },
    {
      "cell_type": "code",
      "metadata": {
        "colab": {
          "base_uri": "https://localhost:8080/"
        },
        "id": "tEPnslnWXkgc",
        "outputId": "dbf4147f-1436-49ac-c11a-49ff35d4149f"
      },
      "source": [
        "mask3 =  train['GrLivArea'] < 4500\n",
        "mask3"
      ],
      "execution_count": null,
      "outputs": [
        {
          "output_type": "execute_result",
          "data": {
            "text/plain": [
              "455     True\n",
              "863     True\n",
              "504     True\n",
              "1413    True\n",
              "1389    True\n",
              "        ... \n",
              "466     True\n",
              "299     True\n",
              "493     True\n",
              "527     True\n",
              "1192    True\n",
              "Name: GrLivArea, Length: 1168, dtype: bool"
            ]
          },
          "metadata": {
            "tags": []
          },
          "execution_count": 21
        }
      ]
    },
    {
      "cell_type": "code",
      "metadata": {
        "colab": {
          "base_uri": "https://localhost:8080/"
        },
        "id": "OrtwBrALXkoL",
        "outputId": "4f96b7a2-dc51-4929-c188-d57ca59d8f80"
      },
      "source": [
        "mask4 =  train['LotArea'] < 100000\n",
        "mask4"
      ],
      "execution_count": null,
      "outputs": [
        {
          "output_type": "execute_result",
          "data": {
            "text/plain": [
              "455     True\n",
              "863     True\n",
              "504     True\n",
              "1413    True\n",
              "1389    True\n",
              "        ... \n",
              "466     True\n",
              "299     True\n",
              "493     True\n",
              "527     True\n",
              "1192    True\n",
              "Name: LotArea, Length: 1168, dtype: bool"
            ]
          },
          "metadata": {
            "tags": []
          },
          "execution_count": 22
        }
      ]
    },
    {
      "cell_type": "code",
      "metadata": {
        "id": "2OQoh4ZnXksj"
      },
      "source": [
        "train = train[mask1 & mask2 & mask3 & mask4]"
      ],
      "execution_count": null,
      "outputs": []
    },
    {
      "cell_type": "code",
      "metadata": {
        "colab": {
          "base_uri": "https://localhost:8080/",
          "height": 419
        },
        "id": "lBp3jAU5XkwM",
        "outputId": "7c2e81cb-de60-490f-945e-08d080ca154d"
      },
      "source": [
        "train"
      ],
      "execution_count": null,
      "outputs": [
        {
          "output_type": "execute_result",
          "data": {
            "text/html": [
              "<div>\n",
              "<style scoped>\n",
              "    .dataframe tbody tr th:only-of-type {\n",
              "        vertical-align: middle;\n",
              "    }\n",
              "\n",
              "    .dataframe tbody tr th {\n",
              "        vertical-align: top;\n",
              "    }\n",
              "\n",
              "    .dataframe thead th {\n",
              "        text-align: right;\n",
              "    }\n",
              "</style>\n",
              "<table border=\"1\" class=\"dataframe\">\n",
              "  <thead>\n",
              "    <tr style=\"text-align: right;\">\n",
              "      <th></th>\n",
              "      <th>LotFrontage</th>\n",
              "      <th>PoolQC</th>\n",
              "      <th>TotalBsmtSF</th>\n",
              "      <th>GrLivArea</th>\n",
              "      <th>LotArea</th>\n",
              "      <th>SaleCondition</th>\n",
              "      <th>GarageType</th>\n",
              "      <th>SalePrice</th>\n",
              "    </tr>\n",
              "  </thead>\n",
              "  <tbody>\n",
              "    <tr>\n",
              "      <th>455</th>\n",
              "      <td>80.0</td>\n",
              "      <td>NaN</td>\n",
              "      <td>1242</td>\n",
              "      <td>1242</td>\n",
              "      <td>9600</td>\n",
              "      <td>Normal</td>\n",
              "      <td>Attchd</td>\n",
              "      <td>175500</td>\n",
              "    </tr>\n",
              "    <tr>\n",
              "      <th>863</th>\n",
              "      <td>70.0</td>\n",
              "      <td>NaN</td>\n",
              "      <td>1148</td>\n",
              "      <td>1148</td>\n",
              "      <td>7931</td>\n",
              "      <td>Normal</td>\n",
              "      <td>Attchd</td>\n",
              "      <td>132500</td>\n",
              "    </tr>\n",
              "    <tr>\n",
              "      <th>504</th>\n",
              "      <td>24.0</td>\n",
              "      <td>NaN</td>\n",
              "      <td>855</td>\n",
              "      <td>1322</td>\n",
              "      <td>2308</td>\n",
              "      <td>Normal</td>\n",
              "      <td>Attchd</td>\n",
              "      <td>147000</td>\n",
              "    </tr>\n",
              "    <tr>\n",
              "      <th>1413</th>\n",
              "      <td>88.0</td>\n",
              "      <td>NaN</td>\n",
              "      <td>1844</td>\n",
              "      <td>1844</td>\n",
              "      <td>10994</td>\n",
              "      <td>Abnorml</td>\n",
              "      <td>Attchd</td>\n",
              "      <td>257000</td>\n",
              "    </tr>\n",
              "    <tr>\n",
              "      <th>1389</th>\n",
              "      <td>60.0</td>\n",
              "      <td>NaN</td>\n",
              "      <td>735</td>\n",
              "      <td>1218</td>\n",
              "      <td>6000</td>\n",
              "      <td>Normal</td>\n",
              "      <td>Detchd</td>\n",
              "      <td>131000</td>\n",
              "    </tr>\n",
              "    <tr>\n",
              "      <th>...</th>\n",
              "      <td>...</td>\n",
              "      <td>...</td>\n",
              "      <td>...</td>\n",
              "      <td>...</td>\n",
              "      <td>...</td>\n",
              "      <td>...</td>\n",
              "      <td>...</td>\n",
              "      <td>...</td>\n",
              "    </tr>\n",
              "    <tr>\n",
              "      <th>466</th>\n",
              "      <td>85.0</td>\n",
              "      <td>NaN</td>\n",
              "      <td>1277</td>\n",
              "      <td>1277</td>\n",
              "      <td>10628</td>\n",
              "      <td>Normal</td>\n",
              "      <td>Attchd</td>\n",
              "      <td>167000</td>\n",
              "    </tr>\n",
              "    <tr>\n",
              "      <th>299</th>\n",
              "      <td>80.0</td>\n",
              "      <td>NaN</td>\n",
              "      <td>1092</td>\n",
              "      <td>1152</td>\n",
              "      <td>14000</td>\n",
              "      <td>Family</td>\n",
              "      <td>Attchd</td>\n",
              "      <td>158500</td>\n",
              "    </tr>\n",
              "    <tr>\n",
              "      <th>493</th>\n",
              "      <td>70.0</td>\n",
              "      <td>NaN</td>\n",
              "      <td>1269</td>\n",
              "      <td>1269</td>\n",
              "      <td>7931</td>\n",
              "      <td>Normal</td>\n",
              "      <td>Detchd</td>\n",
              "      <td>155000</td>\n",
              "    </tr>\n",
              "    <tr>\n",
              "      <th>527</th>\n",
              "      <td>67.0</td>\n",
              "      <td>NaN</td>\n",
              "      <td>1452</td>\n",
              "      <td>2713</td>\n",
              "      <td>14948</td>\n",
              "      <td>Partial</td>\n",
              "      <td>Attchd</td>\n",
              "      <td>446261</td>\n",
              "    </tr>\n",
              "    <tr>\n",
              "      <th>1192</th>\n",
              "      <td>60.0</td>\n",
              "      <td>NaN</td>\n",
              "      <td>702</td>\n",
              "      <td>1472</td>\n",
              "      <td>9600</td>\n",
              "      <td>Normal</td>\n",
              "      <td>Detchd</td>\n",
              "      <td>125000</td>\n",
              "    </tr>\n",
              "  </tbody>\n",
              "</table>\n",
              "<p>963 rows × 8 columns</p>\n",
              "</div>"
            ],
            "text/plain": [
              "      LotFrontage PoolQC  TotalBsmtSF  ...  SaleCondition  GarageType SalePrice\n",
              "455          80.0    NaN         1242  ...         Normal      Attchd    175500\n",
              "863          70.0    NaN         1148  ...         Normal      Attchd    132500\n",
              "504          24.0    NaN          855  ...         Normal      Attchd    147000\n",
              "1413         88.0    NaN         1844  ...        Abnorml      Attchd    257000\n",
              "1389         60.0    NaN          735  ...         Normal      Detchd    131000\n",
              "...           ...    ...          ...  ...            ...         ...       ...\n",
              "466          85.0    NaN         1277  ...         Normal      Attchd    167000\n",
              "299          80.0    NaN         1092  ...         Family      Attchd    158500\n",
              "493          70.0    NaN         1269  ...         Normal      Detchd    155000\n",
              "527          67.0    NaN         1452  ...        Partial      Attchd    446261\n",
              "1192         60.0    NaN          702  ...         Normal      Detchd    125000\n",
              "\n",
              "[963 rows x 8 columns]"
            ]
          },
          "metadata": {
            "tags": []
          },
          "execution_count": 24
        }
      ]
    },
    {
      "cell_type": "markdown",
      "metadata": {
        "id": "far7bkiZb5eO"
      },
      "source": [
        "# **Task 4 :- Detecting missing data**"
      ]
    },
    {
      "cell_type": "code",
      "metadata": {
        "id": "WRg_5t9dd_Pf"
      },
      "source": [
        "# Split into feature and target\n",
        "X_train, y_train = train.iloc[:,:7], train[['SalePrice']]"
      ],
      "execution_count": null,
      "outputs": []
    },
    {
      "cell_type": "code",
      "metadata": {
        "id": "YPfeQid5Xkzh"
      },
      "source": [
        "missing_columns = (X_train.isnull().sum()*100)/len(X_train)"
      ],
      "execution_count": null,
      "outputs": []
    },
    {
      "cell_type": "code",
      "metadata": {
        "colab": {
          "base_uri": "https://localhost:8080/"
        },
        "id": "-Eow5S-CegC6",
        "outputId": "6710630b-e4fd-4407-f1df-3d90a7727b9c"
      },
      "source": [
        "missing_columns"
      ],
      "execution_count": null,
      "outputs": [
        {
          "output_type": "execute_result",
          "data": {
            "text/plain": [
              "LotFrontage       0.000000\n",
              "PoolQC           99.584631\n",
              "TotalBsmtSF       0.000000\n",
              "GrLivArea         0.000000\n",
              "LotArea           0.000000\n",
              "SaleCondition     0.000000\n",
              "GarageType        6.334372\n",
              "dtype: float64"
            ]
          },
          "metadata": {
            "tags": []
          },
          "execution_count": 27
        }
      ]
    },
    {
      "cell_type": "code",
      "metadata": {
        "colab": {
          "base_uri": "https://localhost:8080/"
        },
        "id": "zh8WOx3KeE_4",
        "outputId": "80f58718-2010-4f65-9c75-3a30d8660ec6"
      },
      "source": [
        "mask = missing_columns > 50\n",
        "mask"
      ],
      "execution_count": null,
      "outputs": [
        {
          "output_type": "execute_result",
          "data": {
            "text/plain": [
              "LotFrontage      False\n",
              "PoolQC            True\n",
              "TotalBsmtSF      False\n",
              "GrLivArea        False\n",
              "LotArea          False\n",
              "SaleCondition    False\n",
              "GarageType       False\n",
              "dtype: bool"
            ]
          },
          "metadata": {
            "tags": []
          },
          "execution_count": 28
        }
      ]
    },
    {
      "cell_type": "code",
      "metadata": {
        "colab": {
          "base_uri": "https://localhost:8080/"
        },
        "id": "sYyFiUY_Xk3S",
        "outputId": "e4c3175b-387e-4f92-9464-52efe58b8172"
      },
      "source": [
        "columns = missing_columns[mask].index.tolist()\n",
        "columns"
      ],
      "execution_count": null,
      "outputs": [
        {
          "output_type": "execute_result",
          "data": {
            "text/plain": [
              "['PoolQC']"
            ]
          },
          "metadata": {
            "tags": []
          },
          "execution_count": 29
        }
      ]
    },
    {
      "cell_type": "code",
      "metadata": {
        "colab": {
          "base_uri": "https://localhost:8080/"
        },
        "id": "1ngcIsJcerh8",
        "outputId": "5f362f79-5901-4557-bf93-01e6dd05cb37"
      },
      "source": [
        "rows_percentage = (1 - (len(X_train.dropna(thresh=5)) / len(X_train)))*100\n",
        "rows_percentage"
      ],
      "execution_count": null,
      "outputs": [
        {
          "output_type": "execute_result",
          "data": {
            "text/plain": [
              "0.0"
            ]
          },
          "metadata": {
            "tags": []
          },
          "execution_count": 30
        }
      ]
    },
    {
      "cell_type": "markdown",
      "metadata": {
        "id": "xOQNO8O8fjYf"
      },
      "source": [
        "# **Task 5 :- Handling missing data**"
      ]
    },
    {
      "cell_type": "code",
      "metadata": {
        "colab": {
          "base_uri": "https://localhost:8080/",
          "height": 419
        },
        "id": "Ju2v7s39fYct",
        "outputId": "1f8908f1-267f-4c4c-b4e8-bb705f5fa579"
      },
      "source": [
        "df_1 = df\n",
        "df_1"
      ],
      "execution_count": null,
      "outputs": [
        {
          "output_type": "execute_result",
          "data": {
            "text/html": [
              "<div>\n",
              "<style scoped>\n",
              "    .dataframe tbody tr th:only-of-type {\n",
              "        vertical-align: middle;\n",
              "    }\n",
              "\n",
              "    .dataframe tbody tr th {\n",
              "        vertical-align: top;\n",
              "    }\n",
              "\n",
              "    .dataframe thead th {\n",
              "        text-align: right;\n",
              "    }\n",
              "</style>\n",
              "<table border=\"1\" class=\"dataframe\">\n",
              "  <thead>\n",
              "    <tr style=\"text-align: right;\">\n",
              "      <th></th>\n",
              "      <th>LotFrontage</th>\n",
              "      <th>PoolQC</th>\n",
              "      <th>TotalBsmtSF</th>\n",
              "      <th>GrLivArea</th>\n",
              "      <th>LotArea</th>\n",
              "      <th>SaleCondition</th>\n",
              "      <th>GarageType</th>\n",
              "      <th>SalePrice</th>\n",
              "    </tr>\n",
              "  </thead>\n",
              "  <tbody>\n",
              "    <tr>\n",
              "      <th>0</th>\n",
              "      <td>65.0</td>\n",
              "      <td>NaN</td>\n",
              "      <td>856</td>\n",
              "      <td>1710</td>\n",
              "      <td>8450</td>\n",
              "      <td>Normal</td>\n",
              "      <td>Attchd</td>\n",
              "      <td>208500</td>\n",
              "    </tr>\n",
              "    <tr>\n",
              "      <th>1</th>\n",
              "      <td>80.0</td>\n",
              "      <td>NaN</td>\n",
              "      <td>1262</td>\n",
              "      <td>1262</td>\n",
              "      <td>9600</td>\n",
              "      <td>Normal</td>\n",
              "      <td>Attchd</td>\n",
              "      <td>181500</td>\n",
              "    </tr>\n",
              "    <tr>\n",
              "      <th>2</th>\n",
              "      <td>68.0</td>\n",
              "      <td>NaN</td>\n",
              "      <td>920</td>\n",
              "      <td>1786</td>\n",
              "      <td>11250</td>\n",
              "      <td>Normal</td>\n",
              "      <td>Attchd</td>\n",
              "      <td>223500</td>\n",
              "    </tr>\n",
              "    <tr>\n",
              "      <th>3</th>\n",
              "      <td>60.0</td>\n",
              "      <td>NaN</td>\n",
              "      <td>756</td>\n",
              "      <td>1717</td>\n",
              "      <td>9550</td>\n",
              "      <td>Abnorml</td>\n",
              "      <td>Detchd</td>\n",
              "      <td>140000</td>\n",
              "    </tr>\n",
              "    <tr>\n",
              "      <th>4</th>\n",
              "      <td>84.0</td>\n",
              "      <td>NaN</td>\n",
              "      <td>1145</td>\n",
              "      <td>2198</td>\n",
              "      <td>14260</td>\n",
              "      <td>Normal</td>\n",
              "      <td>Attchd</td>\n",
              "      <td>250000</td>\n",
              "    </tr>\n",
              "    <tr>\n",
              "      <th>...</th>\n",
              "      <td>...</td>\n",
              "      <td>...</td>\n",
              "      <td>...</td>\n",
              "      <td>...</td>\n",
              "      <td>...</td>\n",
              "      <td>...</td>\n",
              "      <td>...</td>\n",
              "      <td>...</td>\n",
              "    </tr>\n",
              "    <tr>\n",
              "      <th>1455</th>\n",
              "      <td>62.0</td>\n",
              "      <td>NaN</td>\n",
              "      <td>953</td>\n",
              "      <td>1647</td>\n",
              "      <td>7917</td>\n",
              "      <td>Normal</td>\n",
              "      <td>Attchd</td>\n",
              "      <td>175000</td>\n",
              "    </tr>\n",
              "    <tr>\n",
              "      <th>1456</th>\n",
              "      <td>85.0</td>\n",
              "      <td>NaN</td>\n",
              "      <td>1542</td>\n",
              "      <td>2073</td>\n",
              "      <td>13175</td>\n",
              "      <td>Normal</td>\n",
              "      <td>Attchd</td>\n",
              "      <td>210000</td>\n",
              "    </tr>\n",
              "    <tr>\n",
              "      <th>1457</th>\n",
              "      <td>66.0</td>\n",
              "      <td>NaN</td>\n",
              "      <td>1152</td>\n",
              "      <td>2340</td>\n",
              "      <td>9042</td>\n",
              "      <td>Normal</td>\n",
              "      <td>Attchd</td>\n",
              "      <td>266500</td>\n",
              "    </tr>\n",
              "    <tr>\n",
              "      <th>1458</th>\n",
              "      <td>68.0</td>\n",
              "      <td>NaN</td>\n",
              "      <td>1078</td>\n",
              "      <td>1078</td>\n",
              "      <td>9717</td>\n",
              "      <td>Normal</td>\n",
              "      <td>Attchd</td>\n",
              "      <td>142125</td>\n",
              "    </tr>\n",
              "    <tr>\n",
              "      <th>1459</th>\n",
              "      <td>75.0</td>\n",
              "      <td>NaN</td>\n",
              "      <td>1256</td>\n",
              "      <td>1256</td>\n",
              "      <td>9937</td>\n",
              "      <td>Normal</td>\n",
              "      <td>Attchd</td>\n",
              "      <td>147500</td>\n",
              "    </tr>\n",
              "  </tbody>\n",
              "</table>\n",
              "<p>1460 rows × 8 columns</p>\n",
              "</div>"
            ],
            "text/plain": [
              "      LotFrontage PoolQC  TotalBsmtSF  ...  SaleCondition  GarageType SalePrice\n",
              "0            65.0    NaN          856  ...         Normal      Attchd    208500\n",
              "1            80.0    NaN         1262  ...         Normal      Attchd    181500\n",
              "2            68.0    NaN          920  ...         Normal      Attchd    223500\n",
              "3            60.0    NaN          756  ...        Abnorml      Detchd    140000\n",
              "4            84.0    NaN         1145  ...         Normal      Attchd    250000\n",
              "...           ...    ...          ...  ...            ...         ...       ...\n",
              "1455         62.0    NaN          953  ...         Normal      Attchd    175000\n",
              "1456         85.0    NaN         1542  ...         Normal      Attchd    210000\n",
              "1457         66.0    NaN         1152  ...         Normal      Attchd    266500\n",
              "1458         68.0    NaN         1078  ...         Normal      Attchd    142125\n",
              "1459         75.0    NaN         1256  ...         Normal      Attchd    147500\n",
              "\n",
              "[1460 rows x 8 columns]"
            ]
          },
          "metadata": {
            "tags": []
          },
          "execution_count": 31
        }
      ]
    },
    {
      "cell_type": "code",
      "metadata": {
        "id": "j080GQJjfd7q"
      },
      "source": [
        "X = df_1.iloc[:,:7]\n",
        "y = df_1.iloc[:,7]"
      ],
      "execution_count": null,
      "outputs": []
    },
    {
      "cell_type": "code",
      "metadata": {
        "id": "PAVOwDcFkTAS"
      },
      "source": [
        "X_train,X_test,y_train,y_test = train_test_split(X,y,test_size = 0.20 , random_state=2)"
      ],
      "execution_count": null,
      "outputs": []
    },
    {
      "cell_type": "code",
      "metadata": {
        "colab": {
          "base_uri": "https://localhost:8080/"
        },
        "id": "V14NU43Sj0ea",
        "outputId": "33ab52df-c2bc-48c2-dea5-7395380cad59"
      },
      "source": [
        "# Import packages\n",
        "\n",
        "dict_new = {'Attchd':0,'Detchd':1,'BuiltIn':2,'2Types':3,'CarPort':4,'Basment':5}\n",
        "X_train['GarageType'] = X_train['GarageType'].map(dict_new)\n",
        "X_test['GarageType'] = X_test['GarageType'].map(dict_new)\n",
        "\n"
      ],
      "execution_count": null,
      "outputs": [
        {
          "output_type": "stream",
          "text": [
            "/usr/local/lib/python3.7/dist-packages/ipykernel_launcher.py:4: SettingWithCopyWarning: \n",
            "A value is trying to be set on a copy of a slice from a DataFrame.\n",
            "Try using .loc[row_indexer,col_indexer] = value instead\n",
            "\n",
            "See the caveats in the documentation: https://pandas.pydata.org/pandas-docs/stable/user_guide/indexing.html#returning-a-view-versus-a-copy\n",
            "  after removing the cwd from sys.path.\n",
            "/usr/local/lib/python3.7/dist-packages/ipykernel_launcher.py:5: SettingWithCopyWarning: \n",
            "A value is trying to be set on a copy of a slice from a DataFrame.\n",
            "Try using .loc[row_indexer,col_indexer] = value instead\n",
            "\n",
            "See the caveats in the documentation: https://pandas.pydata.org/pandas-docs/stable/user_guide/indexing.html#returning-a-view-versus-a-copy\n",
            "  \"\"\"\n"
          ],
          "name": "stderr"
        }
      ]
    },
    {
      "cell_type": "code",
      "metadata": {
        "id": "UyKIK6nhkyBH"
      },
      "source": [
        "from sklearn.impute import SimpleImputer"
      ],
      "execution_count": null,
      "outputs": []
    },
    {
      "cell_type": "code",
      "metadata": {
        "id": "YpM4x952k_8C"
      },
      "source": [
        "# Custom imputers\n",
        "mean_imputer = SimpleImputer(strategy='mean')\n",
        "mode_imputer = SimpleImputer(strategy='most_frequent')"
      ],
      "execution_count": null,
      "outputs": []
    },
    {
      "cell_type": "code",
      "metadata": {
        "colab": {
          "base_uri": "https://localhost:8080/"
        },
        "id": "qDQrY1mHlglP",
        "outputId": "2f842189-3726-4163-ec08-3ddaaba34c9d"
      },
      "source": [
        "#Drop the column PoolQC from X_train and X_test\n",
        "\n",
        "X_train.drop('PoolQC',axis=1,inplace=True)\n",
        "X_test.drop('PoolQC',axis=1,inplace=True)"
      ],
      "execution_count": null,
      "outputs": [
        {
          "output_type": "stream",
          "text": [
            "/usr/local/lib/python3.7/dist-packages/pandas/core/frame.py:4174: SettingWithCopyWarning: \n",
            "A value is trying to be set on a copy of a slice from a DataFrame\n",
            "\n",
            "See the caveats in the documentation: https://pandas.pydata.org/pandas-docs/stable/user_guide/indexing.html#returning-a-view-versus-a-copy\n",
            "  errors=errors,\n"
          ],
          "name": "stderr"
        }
      ]
    },
    {
      "cell_type": "code",
      "metadata": {
        "colab": {
          "base_uri": "https://localhost:8080/"
        },
        "id": "Fi4Tb44JlqmK",
        "outputId": "8ff3216a-c1e2-4346-c475-d3dd03875339"
      },
      "source": [
        "\n",
        "mode_imputer=mode_imputer.fit(X_train[['GarageType']])\n",
        "X_train['GarageType'] = mode_imputer.transform(X_train[['GarageType']])\n",
        "X_test['GarageType'] = mode_imputer.transform(X_test[['GarageType']])"
      ],
      "execution_count": null,
      "outputs": [
        {
          "output_type": "stream",
          "text": [
            "/usr/local/lib/python3.7/dist-packages/ipykernel_launcher.py:3: SettingWithCopyWarning: \n",
            "A value is trying to be set on a copy of a slice from a DataFrame.\n",
            "Try using .loc[row_indexer,col_indexer] = value instead\n",
            "\n",
            "See the caveats in the documentation: https://pandas.pydata.org/pandas-docs/stable/user_guide/indexing.html#returning-a-view-versus-a-copy\n",
            "  This is separate from the ipykernel package so we can avoid doing imports until\n",
            "/usr/local/lib/python3.7/dist-packages/ipykernel_launcher.py:4: SettingWithCopyWarning: \n",
            "A value is trying to be set on a copy of a slice from a DataFrame.\n",
            "Try using .loc[row_indexer,col_indexer] = value instead\n",
            "\n",
            "See the caveats in the documentation: https://pandas.pydata.org/pandas-docs/stable/user_guide/indexing.html#returning-a-view-versus-a-copy\n",
            "  after removing the cwd from sys.path.\n"
          ],
          "name": "stderr"
        }
      ]
    },
    {
      "cell_type": "code",
      "metadata": {
        "colab": {
          "base_uri": "https://localhost:8080/"
        },
        "id": "Syk1XnC3l2bI",
        "outputId": "3e3fe3a3-3962-4e82-c6fb-761f5dc5c5db"
      },
      "source": [
        "mode_imputer=mean_imputer.fit(X_train[['LotFrontage']])\n",
        "X_train['LotFrontage'] = mean_imputer.transform(X_train[['LotFrontage']])\n",
        "X_test['LotFrontage'] = mean_imputer.transform(X_test[['LotFrontage']])"
      ],
      "execution_count": null,
      "outputs": [
        {
          "output_type": "stream",
          "text": [
            "/usr/local/lib/python3.7/dist-packages/ipykernel_launcher.py:2: SettingWithCopyWarning: \n",
            "A value is trying to be set on a copy of a slice from a DataFrame.\n",
            "Try using .loc[row_indexer,col_indexer] = value instead\n",
            "\n",
            "See the caveats in the documentation: https://pandas.pydata.org/pandas-docs/stable/user_guide/indexing.html#returning-a-view-versus-a-copy\n",
            "  \n",
            "/usr/local/lib/python3.7/dist-packages/ipykernel_launcher.py:3: SettingWithCopyWarning: \n",
            "A value is trying to be set on a copy of a slice from a DataFrame.\n",
            "Try using .loc[row_indexer,col_indexer] = value instead\n",
            "\n",
            "See the caveats in the documentation: https://pandas.pydata.org/pandas-docs/stable/user_guide/indexing.html#returning-a-view-versus-a-copy\n",
            "  This is separate from the ipykernel package so we can avoid doing imports until\n"
          ],
          "name": "stderr"
        }
      ]
    },
    {
      "cell_type": "markdown",
      "metadata": {
        "id": "hQyrdmmqo1ZV"
      },
      "source": [
        "# **Task 6 :- Transformation to reduce skewness**"
      ]
    },
    {
      "cell_type": "code",
      "metadata": {
        "id": "V76iuUrNmRp_",
        "colab": {
          "base_uri": "https://localhost:8080/",
          "height": 350
        },
        "outputId": "91241abd-724e-4efa-fbae-918d70ff6697"
      },
      "source": [
        "# import packages\n",
        "import seaborn as sns\n",
        "\n",
        "# Code starts here\n",
        "y_train = np.log(y_train)\n",
        "sns.distplot(y_train)\n",
        "\n"
      ],
      "execution_count": null,
      "outputs": [
        {
          "output_type": "stream",
          "text": [
            "/usr/local/lib/python3.7/dist-packages/seaborn/distributions.py:2557: FutureWarning: `distplot` is a deprecated function and will be removed in a future version. Please adapt your code to use either `displot` (a figure-level function with similar flexibility) or `histplot` (an axes-level function for histograms).\n",
            "  warnings.warn(msg, FutureWarning)\n"
          ],
          "name": "stderr"
        },
        {
          "output_type": "execute_result",
          "data": {
            "text/plain": [
              "<matplotlib.axes._subplots.AxesSubplot at 0x7f95538c8e90>"
            ]
          },
          "metadata": {
            "tags": []
          },
          "execution_count": 40
        },
        {
          "output_type": "display_data",
          "data": {
            "image/png": "[encoded data removed]",
            "text/plain": [
              "<Figure size 432x288 with 1 Axes>"
            ]
          },
          "metadata": {
            "tags": [],
            "needs_background": "light"
          }
        }
      ]
    },
    {
      "cell_type": "markdown",
      "metadata": {
        "id": "DdPVL6O3yszi"
      },
      "source": [
        "# **Task 7 :- Standardizing and normalizing continuous variables**"
      ]
    },
    {
      "cell_type": "code",
      "metadata": {
        "id": "JVHwVfJaoZFh"
      },
      "source": [
        "num_columns = ['LotFrontage', 'TotalBsmtSF', 'GrLivArea', 'LotArea']"
      ],
      "execution_count": null,
      "outputs": []
    },
    {
      "cell_type": "code",
      "metadata": {
        "id": "ammbQLUc55y3"
      },
      "source": [
        "# Import packages\n",
        "from sklearn.preprocessing import MinMaxScaler"
      ],
      "execution_count": null,
      "outputs": []
    },
    {
      "cell_type": "code",
      "metadata": {
        "id": "XQIeOgHe6BfG"
      },
      "source": [
        "normalizer = MinMaxScaler()"
      ],
      "execution_count": null,
      "outputs": []
    },
    {
      "cell_type": "code",
      "metadata": {
        "colab": {
          "base_uri": "https://localhost:8080/"
        },
        "id": "_Qe9DWnZ6FeO",
        "outputId": "78384327-0fe2-4c73-b9c1-72c118b2a515"
      },
      "source": [
        "normalizer.fit(X_train[num_columns])"
      ],
      "execution_count": null,
      "outputs": [
        {
          "output_type": "execute_result",
          "data": {
            "text/plain": [
              "MinMaxScaler(copy=True, feature_range=(0, 1))"
            ]
          },
          "metadata": {
            "tags": []
          },
          "execution_count": 44
        }
      ]
    },
    {
      "cell_type": "code",
      "metadata": {
        "colab": {
          "base_uri": "https://localhost:8080/"
        },
        "id": "2w0WAJ6S6H21",
        "outputId": "1a5ed8a8-03a7-4020-8d38-22fffa42ce09"
      },
      "source": [
        "X_train[num_columns] = normalizer.transform(X_train[num_columns])\n",
        "X_test[num_columns] = normalizer.transform(X_test[num_columns])"
      ],
      "execution_count": null,
      "outputs": [
        {
          "output_type": "stream",
          "text": [
            "/usr/local/lib/python3.7/dist-packages/ipykernel_launcher.py:1: SettingWithCopyWarning: \n",
            "A value is trying to be set on a copy of a slice from a DataFrame.\n",
            "Try using .loc[row_indexer,col_indexer] = value instead\n",
            "\n",
            "See the caveats in the documentation: https://pandas.pydata.org/pandas-docs/stable/user_guide/indexing.html#returning-a-view-versus-a-copy\n",
            "  \"\"\"Entry point for launching an IPython kernel.\n",
            "/usr/local/lib/python3.7/dist-packages/pandas/core/indexing.py:1734: SettingWithCopyWarning: \n",
            "A value is trying to be set on a copy of a slice from a DataFrame.\n",
            "Try using .loc[row_indexer,col_indexer] = value instead\n",
            "\n",
            "See the caveats in the documentation: https://pandas.pydata.org/pandas-docs/stable/user_guide/indexing.html#returning-a-view-versus-a-copy\n",
            "  isetter(loc, value[:, i].tolist())\n",
            "/usr/local/lib/python3.7/dist-packages/ipykernel_launcher.py:2: SettingWithCopyWarning: \n",
            "A value is trying to be set on a copy of a slice from a DataFrame.\n",
            "Try using .loc[row_indexer,col_indexer] = value instead\n",
            "\n",
            "See the caveats in the documentation: https://pandas.pydata.org/pandas-docs/stable/user_guide/indexing.html#returning-a-view-versus-a-copy\n",
            "  \n",
            "/usr/local/lib/python3.7/dist-packages/pandas/core/indexing.py:1734: SettingWithCopyWarning: \n",
            "A value is trying to be set on a copy of a slice from a DataFrame.\n",
            "Try using .loc[row_indexer,col_indexer] = value instead\n",
            "\n",
            "See the caveats in the documentation: https://pandas.pydata.org/pandas-docs/stable/user_guide/indexing.html#returning-a-view-versus-a-copy\n",
            "  isetter(loc, value[:, i].tolist())\n"
          ],
          "name": "stderr"
        }
      ]
    },
    {
      "cell_type": "code",
      "metadata": {
        "colab": {
          "base_uri": "https://localhost:8080/",
          "height": 204
        },
        "id": "yVyK6VFl6Ky_",
        "outputId": "d764d024-86a3-4f0b-9799-911d19432924"
      },
      "source": [
        "X_train.head()"
      ],
      "execution_count": null,
      "outputs": [
        {
          "output_type": "execute_result",
          "data": {
            "text/html": [
              "<div>\n",
              "<style scoped>\n",
              "    .dataframe tbody tr th:only-of-type {\n",
              "        vertical-align: middle;\n",
              "    }\n",
              "\n",
              "    .dataframe tbody tr th {\n",
              "        vertical-align: top;\n",
              "    }\n",
              "\n",
              "    .dataframe thead th {\n",
              "        text-align: right;\n",
              "    }\n",
              "</style>\n",
              "<table border=\"1\" class=\"dataframe\">\n",
              "  <thead>\n",
              "    <tr style=\"text-align: right;\">\n",
              "      <th></th>\n",
              "      <th>LotFrontage</th>\n",
              "      <th>TotalBsmtSF</th>\n",
              "      <th>GrLivArea</th>\n",
              "      <th>LotArea</th>\n",
              "      <th>SaleCondition</th>\n",
              "      <th>GarageType</th>\n",
              "    </tr>\n",
              "  </thead>\n",
              "  <tbody>\n",
              "    <tr>\n",
              "      <th>455</th>\n",
              "      <td>0.202055</td>\n",
              "      <td>0.203273</td>\n",
              "      <td>0.171063</td>\n",
              "      <td>0.037999</td>\n",
              "      <td>Normal</td>\n",
              "      <td>0.0</td>\n",
              "    </tr>\n",
              "    <tr>\n",
              "      <th>863</th>\n",
              "      <td>0.167808</td>\n",
              "      <td>0.187889</td>\n",
              "      <td>0.153353</td>\n",
              "      <td>0.030192</td>\n",
              "      <td>Normal</td>\n",
              "      <td>0.0</td>\n",
              "    </tr>\n",
              "    <tr>\n",
              "      <th>504</th>\n",
              "      <td>0.010274</td>\n",
              "      <td>0.139935</td>\n",
              "      <td>0.186134</td>\n",
              "      <td>0.003887</td>\n",
              "      <td>Normal</td>\n",
              "      <td>0.0</td>\n",
              "    </tr>\n",
              "    <tr>\n",
              "      <th>1413</th>\n",
              "      <td>0.229452</td>\n",
              "      <td>0.301800</td>\n",
              "      <td>0.284476</td>\n",
              "      <td>0.044520</td>\n",
              "      <td>Abnorml</td>\n",
              "      <td>0.0</td>\n",
              "    </tr>\n",
              "    <tr>\n",
              "      <th>1389</th>\n",
              "      <td>0.133562</td>\n",
              "      <td>0.120295</td>\n",
              "      <td>0.166541</td>\n",
              "      <td>0.021158</td>\n",
              "      <td>Normal</td>\n",
              "      <td>1.0</td>\n",
              "    </tr>\n",
              "  </tbody>\n",
              "</table>\n",
              "</div>"
            ],
            "text/plain": [
              "      LotFrontage  TotalBsmtSF  GrLivArea   LotArea SaleCondition  GarageType\n",
              "455      0.202055     0.203273   0.171063  0.037999        Normal         0.0\n",
              "863      0.167808     0.187889   0.153353  0.030192        Normal         0.0\n",
              "504      0.010274     0.139935   0.186134  0.003887        Normal         0.0\n",
              "1413     0.229452     0.301800   0.284476  0.044520       Abnorml         0.0\n",
              "1389     0.133562     0.120295   0.166541  0.021158        Normal         1.0"
            ]
          },
          "metadata": {
            "tags": []
          },
          "execution_count": 46
        }
      ]
    },
    {
      "cell_type": "code",
      "metadata": {
        "colab": {
          "base_uri": "https://localhost:8080/",
          "height": 204
        },
        "id": "ZIn-5G4m6QSY",
        "outputId": "030701bb-2a1b-4514-a338-e58af7194dd6"
      },
      "source": [
        "X_test.head()"
      ],
      "execution_count": null,
      "outputs": [
        {
          "output_type": "execute_result",
          "data": {
            "text/html": [
              "<div>\n",
              "<style scoped>\n",
              "    .dataframe tbody tr th:only-of-type {\n",
              "        vertical-align: middle;\n",
              "    }\n",
              "\n",
              "    .dataframe tbody tr th {\n",
              "        vertical-align: top;\n",
              "    }\n",
              "\n",
              "    .dataframe thead th {\n",
              "        text-align: right;\n",
              "    }\n",
              "</style>\n",
              "<table border=\"1\" class=\"dataframe\">\n",
              "  <thead>\n",
              "    <tr style=\"text-align: right;\">\n",
              "      <th></th>\n",
              "      <th>LotFrontage</th>\n",
              "      <th>TotalBsmtSF</th>\n",
              "      <th>GrLivArea</th>\n",
              "      <th>LotArea</th>\n",
              "      <th>SaleCondition</th>\n",
              "      <th>GarageType</th>\n",
              "    </tr>\n",
              "  </thead>\n",
              "  <tbody>\n",
              "    <tr>\n",
              "      <th>503</th>\n",
              "      <td>0.270548</td>\n",
              "      <td>0.245663</td>\n",
              "      <td>0.276375</td>\n",
              "      <td>0.066076</td>\n",
              "      <td>Normal</td>\n",
              "      <td>0.0</td>\n",
              "    </tr>\n",
              "    <tr>\n",
              "      <th>101</th>\n",
              "      <td>0.191781</td>\n",
              "      <td>0.121277</td>\n",
              "      <td>0.263376</td>\n",
              "      <td>0.036156</td>\n",
              "      <td>Normal</td>\n",
              "      <td>0.0</td>\n",
              "    </tr>\n",
              "    <tr>\n",
              "      <th>608</th>\n",
              "      <td>0.195205</td>\n",
              "      <td>0.157938</td>\n",
              "      <td>0.538809</td>\n",
              "      <td>0.050012</td>\n",
              "      <td>Alloca</td>\n",
              "      <td>5.0</td>\n",
              "    </tr>\n",
              "    <tr>\n",
              "      <th>1089</th>\n",
              "      <td>0.054795</td>\n",
              "      <td>0.204092</td>\n",
              "      <td>0.172005</td>\n",
              "      <td>0.008603</td>\n",
              "      <td>Normal</td>\n",
              "      <td>0.0</td>\n",
              "    </tr>\n",
              "    <tr>\n",
              "      <th>819</th>\n",
              "      <td>0.078767</td>\n",
              "      <td>0.222259</td>\n",
              "      <td>0.192916</td>\n",
              "      <td>0.022894</td>\n",
              "      <td>Partial</td>\n",
              "      <td>0.0</td>\n",
              "    </tr>\n",
              "  </tbody>\n",
              "</table>\n",
              "</div>"
            ],
            "text/plain": [
              "      LotFrontage  TotalBsmtSF  GrLivArea   LotArea SaleCondition  GarageType\n",
              "503      0.270548     0.245663   0.276375  0.066076        Normal         0.0\n",
              "101      0.191781     0.121277   0.263376  0.036156        Normal         0.0\n",
              "608      0.195205     0.157938   0.538809  0.050012        Alloca         5.0\n",
              "1089     0.054795     0.204092   0.172005  0.008603        Normal         0.0\n",
              "819      0.078767     0.222259   0.192916  0.022894       Partial         0.0"
            ]
          },
          "metadata": {
            "tags": []
          },
          "execution_count": 47
        }
      ]
    },
    {
      "cell_type": "markdown",
      "metadata": {
        "id": "Un5yQuEl7DQv"
      },
      "source": [
        "# **Task 8 :- Encoding categorical data**"
      ]
    },
    {
      "cell_type": "code",
      "metadata": {
        "id": "WgzYwsAM6S4K"
      },
      "source": [
        "from sklearn.preprocessing import LabelEncoder"
      ],
      "execution_count": null,
      "outputs": []
    },
    {
      "cell_type": "code",
      "metadata": {
        "id": "XOwqz8bcHXzE"
      },
      "source": [
        "label_encoder = LabelEncoder()\n"
      ],
      "execution_count": null,
      "outputs": []
    },
    {
      "cell_type": "code",
      "metadata": {
        "colab": {
          "base_uri": "https://localhost:8080/"
        },
        "id": "r6500fekHa3-",
        "outputId": "5cb71109-5d9b-48bd-dc82-818da6b80060"
      },
      "source": [
        "label_encoder.fit_transform(X_train['SaleCondition'])\n"
      ],
      "execution_count": null,
      "outputs": [
        {
          "output_type": "execute_result",
          "data": {
            "text/plain": [
              "array([4, 4, 4, ..., 4, 5, 4])"
            ]
          },
          "metadata": {
            "tags": []
          },
          "execution_count": 50
        }
      ]
    },
    {
      "cell_type": "code",
      "metadata": {
        "colab": {
          "base_uri": "https://localhost:8080/"
        },
        "id": "VDzqnkuyHeMV",
        "outputId": "cb261249-e86c-4e5c-b011-d62263917a8b"
      },
      "source": [
        "label_encoder.fit_transform(X_test['SaleCondition'])"
      ],
      "execution_count": null,
      "outputs": [
        {
          "output_type": "execute_result",
          "data": {
            "text/plain": [
              "array([3, 3, 1, 3, 4, 3, 3, 3, 0, 3, 3, 3, 3, 3, 2, 3, 3, 3, 3, 3, 3, 3,\n",
              "       0, 3, 4, 3, 3, 3, 3, 4, 3, 3, 0, 3, 3, 3, 3, 3, 3, 4, 3, 3, 3, 3,\n",
              "       3, 3, 3, 3, 3, 3, 3, 3, 4, 3, 3, 3, 3, 3, 4, 3, 3, 2, 3, 3, 3, 3,\n",
              "       4, 3, 3, 3, 3, 0, 3, 3, 3, 3, 0, 4, 0, 2, 3, 3, 3, 3, 1, 3, 3, 3,\n",
              "       3, 3, 3, 3, 3, 3, 3, 3, 3, 3, 3, 3, 3, 3, 3, 3, 0, 3, 3, 3, 0, 3,\n",
              "       3, 2, 3, 3, 4, 3, 3, 4, 3, 3, 3, 4, 4, 0, 4, 3, 3, 3, 3, 3, 3, 3,\n",
              "       1, 3, 3, 3, 3, 1, 3, 3, 3, 3, 3, 3, 0, 3, 3, 3, 3, 3, 2, 4, 3, 3,\n",
              "       4, 0, 0, 3, 3, 3, 3, 3, 3, 2, 0, 3, 3, 3, 3, 3, 3, 3, 3, 4, 3, 3,\n",
              "       3, 3, 3, 3, 3, 3, 3, 3, 4, 3, 3, 3, 0, 3, 3, 3, 3, 3, 3, 3, 0, 3,\n",
              "       3, 3, 3, 0, 0, 1, 3, 3, 3, 4, 3, 3, 3, 3, 3, 3, 3, 3, 0, 3, 3, 3,\n",
              "       3, 4, 3, 3, 3, 3, 3, 3, 0, 3, 3, 3, 3, 3, 3, 4, 3, 3, 4, 3, 3, 3,\n",
              "       4, 3, 3, 3, 3, 4, 3, 3, 3, 3, 4, 3, 3, 0, 3, 3, 3, 3, 3, 3, 3, 3,\n",
              "       3, 3, 3, 3, 3, 0, 3, 3, 3, 3, 1, 3, 4, 3, 3, 3, 3, 3, 3, 3, 3, 3,\n",
              "       3, 3, 3, 4, 3, 3])"
            ]
          },
          "metadata": {
            "tags": []
          },
          "execution_count": 51
        }
      ]
    },
    {
      "cell_type": "code",
      "metadata": {
        "colab": {
          "base_uri": "https://localhost:8080/",
          "height": 204
        },
        "id": "BvejnLaxHvV_",
        "outputId": "dcf5acd7-bd16-4b13-f9c0-894cfa690647"
      },
      "source": [
        "x_train = pd.get_dummies(X_train['GarageType'])\n",
        "X_train.head()"
      ],
      "execution_count": null,
      "outputs": [
        {
          "output_type": "execute_result",
          "data": {
            "text/html": [
              "<div>\n",
              "<style scoped>\n",
              "    .dataframe tbody tr th:only-of-type {\n",
              "        vertical-align: middle;\n",
              "    }\n",
              "\n",
              "    .dataframe tbody tr th {\n",
              "        vertical-align: top;\n",
              "    }\n",
              "\n",
              "    .dataframe thead th {\n",
              "        text-align: right;\n",
              "    }\n",
              "</style>\n",
              "<table border=\"1\" class=\"dataframe\">\n",
              "  <thead>\n",
              "    <tr style=\"text-align: right;\">\n",
              "      <th></th>\n",
              "      <th>LotFrontage</th>\n",
              "      <th>TotalBsmtSF</th>\n",
              "      <th>GrLivArea</th>\n",
              "      <th>LotArea</th>\n",
              "      <th>SaleCondition</th>\n",
              "      <th>GarageType</th>\n",
              "    </tr>\n",
              "  </thead>\n",
              "  <tbody>\n",
              "    <tr>\n",
              "      <th>455</th>\n",
              "      <td>0.202055</td>\n",
              "      <td>0.203273</td>\n",
              "      <td>0.171063</td>\n",
              "      <td>0.037999</td>\n",
              "      <td>Normal</td>\n",
              "      <td>0.0</td>\n",
              "    </tr>\n",
              "    <tr>\n",
              "      <th>863</th>\n",
              "      <td>0.167808</td>\n",
              "      <td>0.187889</td>\n",
              "      <td>0.153353</td>\n",
              "      <td>0.030192</td>\n",
              "      <td>Normal</td>\n",
              "      <td>0.0</td>\n",
              "    </tr>\n",
              "    <tr>\n",
              "      <th>504</th>\n",
              "      <td>0.010274</td>\n",
              "      <td>0.139935</td>\n",
              "      <td>0.186134</td>\n",
              "      <td>0.003887</td>\n",
              "      <td>Normal</td>\n",
              "      <td>0.0</td>\n",
              "    </tr>\n",
              "    <tr>\n",
              "      <th>1413</th>\n",
              "      <td>0.229452</td>\n",
              "      <td>0.301800</td>\n",
              "      <td>0.284476</td>\n",
              "      <td>0.044520</td>\n",
              "      <td>Abnorml</td>\n",
              "      <td>0.0</td>\n",
              "    </tr>\n",
              "    <tr>\n",
              "      <th>1389</th>\n",
              "      <td>0.133562</td>\n",
              "      <td>0.120295</td>\n",
              "      <td>0.166541</td>\n",
              "      <td>0.021158</td>\n",
              "      <td>Normal</td>\n",
              "      <td>1.0</td>\n",
              "    </tr>\n",
              "  </tbody>\n",
              "</table>\n",
              "</div>"
            ],
            "text/plain": [
              "      LotFrontage  TotalBsmtSF  GrLivArea   LotArea SaleCondition  GarageType\n",
              "455      0.202055     0.203273   0.171063  0.037999        Normal         0.0\n",
              "863      0.167808     0.187889   0.153353  0.030192        Normal         0.0\n",
              "504      0.010274     0.139935   0.186134  0.003887        Normal         0.0\n",
              "1413     0.229452     0.301800   0.284476  0.044520       Abnorml         0.0\n",
              "1389     0.133562     0.120295   0.166541  0.021158        Normal         1.0"
            ]
          },
          "metadata": {
            "tags": []
          },
          "execution_count": 52
        }
      ]
    },
    {
      "cell_type": "code",
      "metadata": {
        "colab": {
          "base_uri": "https://localhost:8080/",
          "height": 204
        },
        "id": "fehuVOhIHvZ6",
        "outputId": "21538684-9642-4453-8b43-06f515abc6fe"
      },
      "source": [
        "x_test = pd.get_dummies(X_test['GarageType'])\n",
        "x_test.head()"
      ],
      "execution_count": null,
      "outputs": [
        {
          "output_type": "execute_result",
          "data": {
            "text/html": [
              "<div>\n",
              "<style scoped>\n",
              "    .dataframe tbody tr th:only-of-type {\n",
              "        vertical-align: middle;\n",
              "    }\n",
              "\n",
              "    .dataframe tbody tr th {\n",
              "        vertical-align: top;\n",
              "    }\n",
              "\n",
              "    .dataframe thead th {\n",
              "        text-align: right;\n",
              "    }\n",
              "</style>\n",
              "<table border=\"1\" class=\"dataframe\">\n",
              "  <thead>\n",
              "    <tr style=\"text-align: right;\">\n",
              "      <th></th>\n",
              "      <th>0.0</th>\n",
              "      <th>1.0</th>\n",
              "      <th>2.0</th>\n",
              "      <th>3.0</th>\n",
              "      <th>4.0</th>\n",
              "      <th>5.0</th>\n",
              "    </tr>\n",
              "  </thead>\n",
              "  <tbody>\n",
              "    <tr>\n",
              "      <th>503</th>\n",
              "      <td>1</td>\n",
              "      <td>0</td>\n",
              "      <td>0</td>\n",
              "      <td>0</td>\n",
              "      <td>0</td>\n",
              "      <td>0</td>\n",
              "    </tr>\n",
              "    <tr>\n",
              "      <th>101</th>\n",
              "      <td>1</td>\n",
              "      <td>0</td>\n",
              "      <td>0</td>\n",
              "      <td>0</td>\n",
              "      <td>0</td>\n",
              "      <td>0</td>\n",
              "    </tr>\n",
              "    <tr>\n",
              "      <th>608</th>\n",
              "      <td>0</td>\n",
              "      <td>0</td>\n",
              "      <td>0</td>\n",
              "      <td>0</td>\n",
              "      <td>0</td>\n",
              "      <td>1</td>\n",
              "    </tr>\n",
              "    <tr>\n",
              "      <th>1089</th>\n",
              "      <td>1</td>\n",
              "      <td>0</td>\n",
              "      <td>0</td>\n",
              "      <td>0</td>\n",
              "      <td>0</td>\n",
              "      <td>0</td>\n",
              "    </tr>\n",
              "    <tr>\n",
              "      <th>819</th>\n",
              "      <td>1</td>\n",
              "      <td>0</td>\n",
              "      <td>0</td>\n",
              "      <td>0</td>\n",
              "      <td>0</td>\n",
              "      <td>0</td>\n",
              "    </tr>\n",
              "  </tbody>\n",
              "</table>\n",
              "</div>"
            ],
            "text/plain": [
              "      0.0  1.0  2.0  3.0  4.0  5.0\n",
              "503     1    0    0    0    0    0\n",
              "101     1    0    0    0    0    0\n",
              "608     0    0    0    0    0    1\n",
              "1089    1    0    0    0    0    0\n",
              "819     1    0    0    0    0    0"
            ]
          },
          "metadata": {
            "tags": []
          },
          "execution_count": 53
        }
      ]
    },
    {
      "cell_type": "code",
      "metadata": {
        "id": "6FNRwaibHpbV"
      },
      "source": [
        "\n"
      ],
      "execution_count": null,
      "outputs": []
    }
  ]
}
