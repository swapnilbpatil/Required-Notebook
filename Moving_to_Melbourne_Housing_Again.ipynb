{
  "nbformat": 4,
  "nbformat_minor": 0,
  "metadata": {
    "colab": {
      "name": "Moving to Melbourne - Housing Again.ipynb",
      "provenance": [],
      "collapsed_sections": [],
      "authorship_tag": "ABX9TyMGKcz45lGQlGjio/YD2EhB",
      "include_colab_link": true
    },
    "kernelspec": {
      "name": "python3",
      "display_name": "Python 3"
    },
    "language_info": {
      "name": "python"
    }
  },
  "cells": [
    {
      "cell_type": "markdown",
      "metadata": {
        "id": "view-in-github",
        "colab_type": "text"
      },
      "source": [
        "<a href=\"https://colab.research.google.com/github/swapnilbpatil/Required-Notebook/blob/main/Moving_to_Melbourne_Housing_Again.ipynb\" target=\"_parent\"><img src=\"https://colab.research.google.com/assets/colab-badge.svg\" alt=\"Open In Colab\"/></a>"
      ]
    },
    {
      "cell_type": "code",
      "metadata": {
        "id": "WYd3Q4Da54XP"
      },
      "source": [
        "import pandas as pd\n",
        "import numpy as np\n",
        "import matplotlib.pyplot as plt\n",
        "from sklearn.linear_model import LinearRegression\n",
        "from sklearn.linear_model import Lasso\n",
        "from sklearn.linear_model import Ridge\n",
        "from sklearn.model_selection import train_test_split\n",
        "from sklearn.model_selection import cross_val_score\n",
        "from sklearn.metrics import mean_squared_error\n",
        "from sklearn.metrics import r2_score\n",
        "from sklearn.preprocessing import PolynomialFeatures\n",
        "from sklearn.pipeline import make_pipeline"
      ],
      "execution_count": 1,
      "outputs": []
    },
    {
      "cell_type": "markdown",
      "metadata": {
        "id": "VzVEWyNy_4N-"
      },
      "source": [
        "# **Task-1 = Data Loading and Splitting**"
      ]
    },
    {
      "cell_type": "code",
      "metadata": {
        "id": "PmRymOsO7y1J"
      },
      "source": [
        "df = pd.read_csv(\"path.csv\")"
      ],
      "execution_count": 2,
      "outputs": []
    },
    {
      "cell_type": "code",
      "metadata": {
        "colab": {
          "base_uri": "https://localhost:8080/",
          "height": 224
        },
        "id": "vMUI0O3p8KXn",
        "outputId": "83b46f51-ba8d-414c-d451-5dab23f7749f"
      },
      "source": [
        "df.head()"
      ],
      "execution_count": 3,
      "outputs": [
        {
          "output_type": "execute_result",
          "data": {
            "text/html": [
              "<div>\n",
              "<style scoped>\n",
              "    .dataframe tbody tr th:only-of-type {\n",
              "        vertical-align: middle;\n",
              "    }\n",
              "\n",
              "    .dataframe tbody tr th {\n",
              "        vertical-align: top;\n",
              "    }\n",
              "\n",
              "    .dataframe thead th {\n",
              "        text-align: right;\n",
              "    }\n",
              "</style>\n",
              "<table border=\"1\" class=\"dataframe\">\n",
              "  <thead>\n",
              "    <tr style=\"text-align: right;\">\n",
              "      <th></th>\n",
              "      <th>Rooms</th>\n",
              "      <th>Type</th>\n",
              "      <th>Price</th>\n",
              "      <th>Method</th>\n",
              "      <th>SellerG</th>\n",
              "      <th>Distance</th>\n",
              "      <th>Postcode</th>\n",
              "      <th>Bathroom</th>\n",
              "      <th>Car</th>\n",
              "      <th>Landsize</th>\n",
              "      <th>BuildingArea</th>\n",
              "      <th>YearBuilt</th>\n",
              "      <th>CouncilArea</th>\n",
              "      <th>Longtitude</th>\n",
              "      <th>Regionname</th>\n",
              "      <th>Propertycount</th>\n",
              "    </tr>\n",
              "  </thead>\n",
              "  <tbody>\n",
              "    <tr>\n",
              "      <th>0</th>\n",
              "      <td>2</td>\n",
              "      <td>0</td>\n",
              "      <td>1035000</td>\n",
              "      <td>1</td>\n",
              "      <td>23</td>\n",
              "      <td>2.5</td>\n",
              "      <td>3067</td>\n",
              "      <td>1</td>\n",
              "      <td>0</td>\n",
              "      <td>156</td>\n",
              "      <td>79.0</td>\n",
              "      <td>1900</td>\n",
              "      <td>31</td>\n",
              "      <td>144.9934</td>\n",
              "      <td>2</td>\n",
              "      <td>4019</td>\n",
              "    </tr>\n",
              "    <tr>\n",
              "      <th>1</th>\n",
              "      <td>3</td>\n",
              "      <td>0</td>\n",
              "      <td>1465000</td>\n",
              "      <td>3</td>\n",
              "      <td>23</td>\n",
              "      <td>2.5</td>\n",
              "      <td>3067</td>\n",
              "      <td>2</td>\n",
              "      <td>0</td>\n",
              "      <td>134</td>\n",
              "      <td>150.0</td>\n",
              "      <td>1900</td>\n",
              "      <td>31</td>\n",
              "      <td>144.9944</td>\n",
              "      <td>2</td>\n",
              "      <td>4019</td>\n",
              "    </tr>\n",
              "    <tr>\n",
              "      <th>2</th>\n",
              "      <td>4</td>\n",
              "      <td>0</td>\n",
              "      <td>1600000</td>\n",
              "      <td>4</td>\n",
              "      <td>155</td>\n",
              "      <td>2.5</td>\n",
              "      <td>3067</td>\n",
              "      <td>1</td>\n",
              "      <td>2</td>\n",
              "      <td>120</td>\n",
              "      <td>142.0</td>\n",
              "      <td>2014</td>\n",
              "      <td>31</td>\n",
              "      <td>144.9941</td>\n",
              "      <td>2</td>\n",
              "      <td>4019</td>\n",
              "    </tr>\n",
              "    <tr>\n",
              "      <th>3</th>\n",
              "      <td>3</td>\n",
              "      <td>0</td>\n",
              "      <td>1876000</td>\n",
              "      <td>1</td>\n",
              "      <td>155</td>\n",
              "      <td>2.5</td>\n",
              "      <td>3067</td>\n",
              "      <td>2</td>\n",
              "      <td>0</td>\n",
              "      <td>245</td>\n",
              "      <td>210.0</td>\n",
              "      <td>1910</td>\n",
              "      <td>31</td>\n",
              "      <td>144.9993</td>\n",
              "      <td>2</td>\n",
              "      <td>4019</td>\n",
              "    </tr>\n",
              "    <tr>\n",
              "      <th>4</th>\n",
              "      <td>2</td>\n",
              "      <td>0</td>\n",
              "      <td>1636000</td>\n",
              "      <td>1</td>\n",
              "      <td>155</td>\n",
              "      <td>2.5</td>\n",
              "      <td>3067</td>\n",
              "      <td>1</td>\n",
              "      <td>2</td>\n",
              "      <td>256</td>\n",
              "      <td>107.0</td>\n",
              "      <td>1890</td>\n",
              "      <td>31</td>\n",
              "      <td>144.9954</td>\n",
              "      <td>2</td>\n",
              "      <td>4019</td>\n",
              "    </tr>\n",
              "  </tbody>\n",
              "</table>\n",
              "</div>"
            ],
            "text/plain": [
              "   Rooms  Type    Price  ...  Longtitude  Regionname  Propertycount\n",
              "0      2     0  1035000  ...    144.9934           2           4019\n",
              "1      3     0  1465000  ...    144.9944           2           4019\n",
              "2      4     0  1600000  ...    144.9941           2           4019\n",
              "3      3     0  1876000  ...    144.9993           2           4019\n",
              "4      2     0  1636000  ...    144.9954           2           4019\n",
              "\n",
              "[5 rows x 16 columns]"
            ]
          },
          "metadata": {
            "tags": []
          },
          "execution_count": 3
        }
      ]
    },
    {
      "cell_type": "code",
      "metadata": {
        "colab": {
          "base_uri": "https://localhost:8080/"
        },
        "id": "HJ50r7LK8MQA",
        "outputId": "e8d9750f-83ab-4cd0-85e4-2cc5a3785b13"
      },
      "source": [
        "df.shape"
      ],
      "execution_count": 4,
      "outputs": [
        {
          "output_type": "execute_result",
          "data": {
            "text/plain": [
              "(6830, 16)"
            ]
          },
          "metadata": {
            "tags": []
          },
          "execution_count": 4
        }
      ]
    },
    {
      "cell_type": "code",
      "metadata": {
        "colab": {
          "base_uri": "https://localhost:8080/"
        },
        "id": "9ZseT3e48RZF",
        "outputId": "49fee0f1-f4e6-45ff-8100-13860e489b81"
      },
      "source": [
        "df.size"
      ],
      "execution_count": 5,
      "outputs": [
        {
          "output_type": "execute_result",
          "data": {
            "text/plain": [
              "109280"
            ]
          },
          "metadata": {
            "tags": []
          },
          "execution_count": 5
        }
      ]
    },
    {
      "cell_type": "code",
      "metadata": {
        "colab": {
          "base_uri": "https://localhost:8080/",
          "height": 439
        },
        "id": "wsIodX0X8Sz7",
        "outputId": "3d94589f-6b7b-41a1-d602-0fa8a963255e"
      },
      "source": [
        "X = df.drop([\"Price\"],axis=1)\n",
        "X"
      ],
      "execution_count": 6,
      "outputs": [
        {
          "output_type": "execute_result",
          "data": {
            "text/html": [
              "<div>\n",
              "<style scoped>\n",
              "    .dataframe tbody tr th:only-of-type {\n",
              "        vertical-align: middle;\n",
              "    }\n",
              "\n",
              "    .dataframe tbody tr th {\n",
              "        vertical-align: top;\n",
              "    }\n",
              "\n",
              "    .dataframe thead th {\n",
              "        text-align: right;\n",
              "    }\n",
              "</style>\n",
              "<table border=\"1\" class=\"dataframe\">\n",
              "  <thead>\n",
              "    <tr style=\"text-align: right;\">\n",
              "      <th></th>\n",
              "      <th>Rooms</th>\n",
              "      <th>Type</th>\n",
              "      <th>Method</th>\n",
              "      <th>SellerG</th>\n",
              "      <th>Distance</th>\n",
              "      <th>Postcode</th>\n",
              "      <th>Bathroom</th>\n",
              "      <th>Car</th>\n",
              "      <th>Landsize</th>\n",
              "      <th>BuildingArea</th>\n",
              "      <th>YearBuilt</th>\n",
              "      <th>CouncilArea</th>\n",
              "      <th>Longtitude</th>\n",
              "      <th>Regionname</th>\n",
              "      <th>Propertycount</th>\n",
              "    </tr>\n",
              "  </thead>\n",
              "  <tbody>\n",
              "    <tr>\n",
              "      <th>0</th>\n",
              "      <td>2</td>\n",
              "      <td>0</td>\n",
              "      <td>1</td>\n",
              "      <td>23</td>\n",
              "      <td>2.5</td>\n",
              "      <td>3067</td>\n",
              "      <td>1</td>\n",
              "      <td>0</td>\n",
              "      <td>156</td>\n",
              "      <td>79.0</td>\n",
              "      <td>1900</td>\n",
              "      <td>31</td>\n",
              "      <td>144.99340</td>\n",
              "      <td>2</td>\n",
              "      <td>4019</td>\n",
              "    </tr>\n",
              "    <tr>\n",
              "      <th>1</th>\n",
              "      <td>3</td>\n",
              "      <td>0</td>\n",
              "      <td>3</td>\n",
              "      <td>23</td>\n",
              "      <td>2.5</td>\n",
              "      <td>3067</td>\n",
              "      <td>2</td>\n",
              "      <td>0</td>\n",
              "      <td>134</td>\n",
              "      <td>150.0</td>\n",
              "      <td>1900</td>\n",
              "      <td>31</td>\n",
              "      <td>144.99440</td>\n",
              "      <td>2</td>\n",
              "      <td>4019</td>\n",
              "    </tr>\n",
              "    <tr>\n",
              "      <th>2</th>\n",
              "      <td>4</td>\n",
              "      <td>0</td>\n",
              "      <td>4</td>\n",
              "      <td>155</td>\n",
              "      <td>2.5</td>\n",
              "      <td>3067</td>\n",
              "      <td>1</td>\n",
              "      <td>2</td>\n",
              "      <td>120</td>\n",
              "      <td>142.0</td>\n",
              "      <td>2014</td>\n",
              "      <td>31</td>\n",
              "      <td>144.99410</td>\n",
              "      <td>2</td>\n",
              "      <td>4019</td>\n",
              "    </tr>\n",
              "    <tr>\n",
              "      <th>3</th>\n",
              "      <td>3</td>\n",
              "      <td>0</td>\n",
              "      <td>1</td>\n",
              "      <td>155</td>\n",
              "      <td>2.5</td>\n",
              "      <td>3067</td>\n",
              "      <td>2</td>\n",
              "      <td>0</td>\n",
              "      <td>245</td>\n",
              "      <td>210.0</td>\n",
              "      <td>1910</td>\n",
              "      <td>31</td>\n",
              "      <td>144.99930</td>\n",
              "      <td>2</td>\n",
              "      <td>4019</td>\n",
              "    </tr>\n",
              "    <tr>\n",
              "      <th>4</th>\n",
              "      <td>2</td>\n",
              "      <td>0</td>\n",
              "      <td>1</td>\n",
              "      <td>155</td>\n",
              "      <td>2.5</td>\n",
              "      <td>3067</td>\n",
              "      <td>1</td>\n",
              "      <td>2</td>\n",
              "      <td>256</td>\n",
              "      <td>107.0</td>\n",
              "      <td>1890</td>\n",
              "      <td>31</td>\n",
              "      <td>144.99540</td>\n",
              "      <td>2</td>\n",
              "      <td>4019</td>\n",
              "    </tr>\n",
              "    <tr>\n",
              "      <th>...</th>\n",
              "      <td>...</td>\n",
              "      <td>...</td>\n",
              "      <td>...</td>\n",
              "      <td>...</td>\n",
              "      <td>...</td>\n",
              "      <td>...</td>\n",
              "      <td>...</td>\n",
              "      <td>...</td>\n",
              "      <td>...</td>\n",
              "      <td>...</td>\n",
              "      <td>...</td>\n",
              "      <td>...</td>\n",
              "      <td>...</td>\n",
              "      <td>...</td>\n",
              "      <td>...</td>\n",
              "    </tr>\n",
              "    <tr>\n",
              "      <th>6825</th>\n",
              "      <td>2</td>\n",
              "      <td>0</td>\n",
              "      <td>0</td>\n",
              "      <td>152</td>\n",
              "      <td>14.5</td>\n",
              "      <td>3087</td>\n",
              "      <td>1</td>\n",
              "      <td>1</td>\n",
              "      <td>210</td>\n",
              "      <td>79.0</td>\n",
              "      <td>2006</td>\n",
              "      <td>-1</td>\n",
              "      <td>145.07878</td>\n",
              "      <td>2</td>\n",
              "      <td>2329</td>\n",
              "    </tr>\n",
              "    <tr>\n",
              "      <th>6826</th>\n",
              "      <td>4</td>\n",
              "      <td>0</td>\n",
              "      <td>1</td>\n",
              "      <td>260</td>\n",
              "      <td>14.7</td>\n",
              "      <td>3030</td>\n",
              "      <td>2</td>\n",
              "      <td>1</td>\n",
              "      <td>662</td>\n",
              "      <td>172.0</td>\n",
              "      <td>1980</td>\n",
              "      <td>-1</td>\n",
              "      <td>144.64789</td>\n",
              "      <td>6</td>\n",
              "      <td>16166</td>\n",
              "    </tr>\n",
              "    <tr>\n",
              "      <th>6827</th>\n",
              "      <td>3</td>\n",
              "      <td>0</td>\n",
              "      <td>3</td>\n",
              "      <td>251</td>\n",
              "      <td>6.8</td>\n",
              "      <td>3016</td>\n",
              "      <td>2</td>\n",
              "      <td>2</td>\n",
              "      <td>333</td>\n",
              "      <td>133.0</td>\n",
              "      <td>1995</td>\n",
              "      <td>-1</td>\n",
              "      <td>144.87904</td>\n",
              "      <td>6</td>\n",
              "      <td>6380</td>\n",
              "    </tr>\n",
              "    <tr>\n",
              "      <th>6828</th>\n",
              "      <td>4</td>\n",
              "      <td>0</td>\n",
              "      <td>0</td>\n",
              "      <td>222</td>\n",
              "      <td>6.8</td>\n",
              "      <td>3016</td>\n",
              "      <td>1</td>\n",
              "      <td>5</td>\n",
              "      <td>866</td>\n",
              "      <td>157.0</td>\n",
              "      <td>1920</td>\n",
              "      <td>-1</td>\n",
              "      <td>144.89299</td>\n",
              "      <td>6</td>\n",
              "      <td>6380</td>\n",
              "    </tr>\n",
              "    <tr>\n",
              "      <th>6829</th>\n",
              "      <td>4</td>\n",
              "      <td>0</td>\n",
              "      <td>3</td>\n",
              "      <td>239</td>\n",
              "      <td>6.3</td>\n",
              "      <td>3013</td>\n",
              "      <td>1</td>\n",
              "      <td>1</td>\n",
              "      <td>362</td>\n",
              "      <td>112.0</td>\n",
              "      <td>1920</td>\n",
              "      <td>-1</td>\n",
              "      <td>144.88449</td>\n",
              "      <td>6</td>\n",
              "      <td>6543</td>\n",
              "    </tr>\n",
              "  </tbody>\n",
              "</table>\n",
              "<p>6830 rows × 15 columns</p>\n",
              "</div>"
            ],
            "text/plain": [
              "      Rooms  Type  Method  ...  Longtitude  Regionname  Propertycount\n",
              "0         2     0       1  ...   144.99340           2           4019\n",
              "1         3     0       3  ...   144.99440           2           4019\n",
              "2         4     0       4  ...   144.99410           2           4019\n",
              "3         3     0       1  ...   144.99930           2           4019\n",
              "4         2     0       1  ...   144.99540           2           4019\n",
              "...     ...   ...     ...  ...         ...         ...            ...\n",
              "6825      2     0       0  ...   145.07878           2           2329\n",
              "6826      4     0       1  ...   144.64789           6          16166\n",
              "6827      3     0       3  ...   144.87904           6           6380\n",
              "6828      4     0       0  ...   144.89299           6           6380\n",
              "6829      4     0       3  ...   144.88449           6           6543\n",
              "\n",
              "[6830 rows x 15 columns]"
            ]
          },
          "metadata": {
            "tags": []
          },
          "execution_count": 6
        }
      ]
    },
    {
      "cell_type": "code",
      "metadata": {
        "id": "grKp78cS9JKf"
      },
      "source": [
        "y = df[\"Price\"]"
      ],
      "execution_count": 7,
      "outputs": []
    },
    {
      "cell_type": "code",
      "metadata": {
        "colab": {
          "base_uri": "https://localhost:8080/"
        },
        "id": "cxL_IkZE9cqz",
        "outputId": "a4413288-ea28-4525-c185-b646174c9935"
      },
      "source": [
        "y"
      ],
      "execution_count": 8,
      "outputs": [
        {
          "output_type": "execute_result",
          "data": {
            "text/plain": [
              "0       1035000\n",
              "1       1465000\n",
              "2       1600000\n",
              "3       1876000\n",
              "4       1636000\n",
              "         ...   \n",
              "6825     650000\n",
              "6826     635000\n",
              "6827    1031000\n",
              "6828    2500000\n",
              "6829    1285000\n",
              "Name: Price, Length: 6830, dtype: int64"
            ]
          },
          "metadata": {
            "tags": []
          },
          "execution_count": 8
        }
      ]
    },
    {
      "cell_type": "code",
      "metadata": {
        "id": "cjwGTPkK9dpT"
      },
      "source": [
        "X_train,X_test,y_train,y_test = train_test_split(X,y,test_size=0.3,random_state = 6)"
      ],
      "execution_count": 9,
      "outputs": []
    },
    {
      "cell_type": "code",
      "metadata": {
        "colab": {
          "base_uri": "https://localhost:8080/",
          "height": 439
        },
        "id": "YHMH0qo59u1T",
        "outputId": "af89effc-1402-4dfb-9a04-b15522babf80"
      },
      "source": [
        "X_train"
      ],
      "execution_count": 10,
      "outputs": [
        {
          "output_type": "execute_result",
          "data": {
            "text/html": [
              "<div>\n",
              "<style scoped>\n",
              "    .dataframe tbody tr th:only-of-type {\n",
              "        vertical-align: middle;\n",
              "    }\n",
              "\n",
              "    .dataframe tbody tr th {\n",
              "        vertical-align: top;\n",
              "    }\n",
              "\n",
              "    .dataframe thead th {\n",
              "        text-align: right;\n",
              "    }\n",
              "</style>\n",
              "<table border=\"1\" class=\"dataframe\">\n",
              "  <thead>\n",
              "    <tr style=\"text-align: right;\">\n",
              "      <th></th>\n",
              "      <th>Rooms</th>\n",
              "      <th>Type</th>\n",
              "      <th>Method</th>\n",
              "      <th>SellerG</th>\n",
              "      <th>Distance</th>\n",
              "      <th>Postcode</th>\n",
              "      <th>Bathroom</th>\n",
              "      <th>Car</th>\n",
              "      <th>Landsize</th>\n",
              "      <th>BuildingArea</th>\n",
              "      <th>YearBuilt</th>\n",
              "      <th>CouncilArea</th>\n",
              "      <th>Longtitude</th>\n",
              "      <th>Regionname</th>\n",
              "      <th>Propertycount</th>\n",
              "    </tr>\n",
              "  </thead>\n",
              "  <tbody>\n",
              "    <tr>\n",
              "      <th>124</th>\n",
              "      <td>3</td>\n",
              "      <td>2</td>\n",
              "      <td>1</td>\n",
              "      <td>135</td>\n",
              "      <td>6.3</td>\n",
              "      <td>3143</td>\n",
              "      <td>2</td>\n",
              "      <td>2</td>\n",
              "      <td>0</td>\n",
              "      <td>100.0</td>\n",
              "      <td>1998</td>\n",
              "      <td>26</td>\n",
              "      <td>145.01600</td>\n",
              "      <td>5</td>\n",
              "      <td>4836</td>\n",
              "    </tr>\n",
              "    <tr>\n",
              "      <th>5905</th>\n",
              "      <td>2</td>\n",
              "      <td>0</td>\n",
              "      <td>1</td>\n",
              "      <td>155</td>\n",
              "      <td>2.0</td>\n",
              "      <td>3066</td>\n",
              "      <td>1</td>\n",
              "      <td>0</td>\n",
              "      <td>0</td>\n",
              "      <td>94.0</td>\n",
              "      <td>1890</td>\n",
              "      <td>31</td>\n",
              "      <td>144.98863</td>\n",
              "      <td>2</td>\n",
              "      <td>4553</td>\n",
              "    </tr>\n",
              "    <tr>\n",
              "      <th>5963</th>\n",
              "      <td>3</td>\n",
              "      <td>0</td>\n",
              "      <td>1</td>\n",
              "      <td>196</td>\n",
              "      <td>17.9</td>\n",
              "      <td>3082</td>\n",
              "      <td>2</td>\n",
              "      <td>2</td>\n",
              "      <td>602</td>\n",
              "      <td>129.0</td>\n",
              "      <td>1980</td>\n",
              "      <td>29</td>\n",
              "      <td>145.06912</td>\n",
              "      <td>2</td>\n",
              "      <td>10529</td>\n",
              "    </tr>\n",
              "    <tr>\n",
              "      <th>3521</th>\n",
              "      <td>4</td>\n",
              "      <td>0</td>\n",
              "      <td>1</td>\n",
              "      <td>251</td>\n",
              "      <td>8.0</td>\n",
              "      <td>3016</td>\n",
              "      <td>3</td>\n",
              "      <td>2</td>\n",
              "      <td>217</td>\n",
              "      <td>266.0</td>\n",
              "      <td>2003</td>\n",
              "      <td>10</td>\n",
              "      <td>144.87960</td>\n",
              "      <td>6</td>\n",
              "      <td>6380</td>\n",
              "    </tr>\n",
              "    <tr>\n",
              "      <th>3738</th>\n",
              "      <td>3</td>\n",
              "      <td>0</td>\n",
              "      <td>1</td>\n",
              "      <td>221</td>\n",
              "      <td>12.4</td>\n",
              "      <td>3060</td>\n",
              "      <td>1</td>\n",
              "      <td>2</td>\n",
              "      <td>604</td>\n",
              "      <td>190.0</td>\n",
              "      <td>1970</td>\n",
              "      <td>23</td>\n",
              "      <td>144.96860</td>\n",
              "      <td>2</td>\n",
              "      <td>5070</td>\n",
              "    </tr>\n",
              "    <tr>\n",
              "      <th>...</th>\n",
              "      <td>...</td>\n",
              "      <td>...</td>\n",
              "      <td>...</td>\n",
              "      <td>...</td>\n",
              "      <td>...</td>\n",
              "      <td>...</td>\n",
              "      <td>...</td>\n",
              "      <td>...</td>\n",
              "      <td>...</td>\n",
              "      <td>...</td>\n",
              "      <td>...</td>\n",
              "      <td>...</td>\n",
              "      <td>...</td>\n",
              "      <td>...</td>\n",
              "      <td>...</td>\n",
              "    </tr>\n",
              "    <tr>\n",
              "      <th>335</th>\n",
              "      <td>3</td>\n",
              "      <td>0</td>\n",
              "      <td>1</td>\n",
              "      <td>135</td>\n",
              "      <td>9.2</td>\n",
              "      <td>3104</td>\n",
              "      <td>1</td>\n",
              "      <td>2</td>\n",
              "      <td>888</td>\n",
              "      <td>137.0</td>\n",
              "      <td>1950</td>\n",
              "      <td>2</td>\n",
              "      <td>145.09490</td>\n",
              "      <td>5</td>\n",
              "      <td>7809</td>\n",
              "    </tr>\n",
              "    <tr>\n",
              "      <th>4714</th>\n",
              "      <td>3</td>\n",
              "      <td>2</td>\n",
              "      <td>1</td>\n",
              "      <td>255</td>\n",
              "      <td>10.1</td>\n",
              "      <td>3163</td>\n",
              "      <td>2</td>\n",
              "      <td>2</td>\n",
              "      <td>750</td>\n",
              "      <td>132.0</td>\n",
              "      <td>1984</td>\n",
              "      <td>8</td>\n",
              "      <td>145.04924</td>\n",
              "      <td>5</td>\n",
              "      <td>7822</td>\n",
              "    </tr>\n",
              "    <tr>\n",
              "      <th>2004</th>\n",
              "      <td>5</td>\n",
              "      <td>0</td>\n",
              "      <td>1</td>\n",
              "      <td>111</td>\n",
              "      <td>5.6</td>\n",
              "      <td>3101</td>\n",
              "      <td>2</td>\n",
              "      <td>1</td>\n",
              "      <td>531</td>\n",
              "      <td>1022.0</td>\n",
              "      <td>1890</td>\n",
              "      <td>2</td>\n",
              "      <td>145.04110</td>\n",
              "      <td>5</td>\n",
              "      <td>10331</td>\n",
              "    </tr>\n",
              "    <tr>\n",
              "      <th>227</th>\n",
              "      <td>4</td>\n",
              "      <td>0</td>\n",
              "      <td>1</td>\n",
              "      <td>106</td>\n",
              "      <td>11.0</td>\n",
              "      <td>3147</td>\n",
              "      <td>2</td>\n",
              "      <td>4</td>\n",
              "      <td>749</td>\n",
              "      <td>206.0</td>\n",
              "      <td>1950</td>\n",
              "      <td>2</td>\n",
              "      <td>145.07700</td>\n",
              "      <td>5</td>\n",
              "      <td>3052</td>\n",
              "    </tr>\n",
              "    <tr>\n",
              "      <th>2761</th>\n",
              "      <td>3</td>\n",
              "      <td>0</td>\n",
              "      <td>1</td>\n",
              "      <td>90</td>\n",
              "      <td>11.2</td>\n",
              "      <td>3073</td>\n",
              "      <td>2</td>\n",
              "      <td>4</td>\n",
              "      <td>466</td>\n",
              "      <td>467.0</td>\n",
              "      <td>1930</td>\n",
              "      <td>6</td>\n",
              "      <td>145.00040</td>\n",
              "      <td>2</td>\n",
              "      <td>21650</td>\n",
              "    </tr>\n",
              "  </tbody>\n",
              "</table>\n",
              "<p>4781 rows × 15 columns</p>\n",
              "</div>"
            ],
            "text/plain": [
              "      Rooms  Type  Method  ...  Longtitude  Regionname  Propertycount\n",
              "124       3     2       1  ...   145.01600           5           4836\n",
              "5905      2     0       1  ...   144.98863           2           4553\n",
              "5963      3     0       1  ...   145.06912           2          10529\n",
              "3521      4     0       1  ...   144.87960           6           6380\n",
              "3738      3     0       1  ...   144.96860           2           5070\n",
              "...     ...   ...     ...  ...         ...         ...            ...\n",
              "335       3     0       1  ...   145.09490           5           7809\n",
              "4714      3     2       1  ...   145.04924           5           7822\n",
              "2004      5     0       1  ...   145.04110           5          10331\n",
              "227       4     0       1  ...   145.07700           5           3052\n",
              "2761      3     0       1  ...   145.00040           2          21650\n",
              "\n",
              "[4781 rows x 15 columns]"
            ]
          },
          "metadata": {
            "tags": []
          },
          "execution_count": 10
        }
      ]
    },
    {
      "cell_type": "code",
      "metadata": {
        "colab": {
          "base_uri": "https://localhost:8080/",
          "height": 439
        },
        "id": "ZwRQeSEy93Vw",
        "outputId": "cd8ee296-a106-4530-f834-87c03ce96208"
      },
      "source": [
        "X_test"
      ],
      "execution_count": 11,
      "outputs": [
        {
          "output_type": "execute_result",
          "data": {
            "text/html": [
              "<div>\n",
              "<style scoped>\n",
              "    .dataframe tbody tr th:only-of-type {\n",
              "        vertical-align: middle;\n",
              "    }\n",
              "\n",
              "    .dataframe tbody tr th {\n",
              "        vertical-align: top;\n",
              "    }\n",
              "\n",
              "    .dataframe thead th {\n",
              "        text-align: right;\n",
              "    }\n",
              "</style>\n",
              "<table border=\"1\" class=\"dataframe\">\n",
              "  <thead>\n",
              "    <tr style=\"text-align: right;\">\n",
              "      <th></th>\n",
              "      <th>Rooms</th>\n",
              "      <th>Type</th>\n",
              "      <th>Method</th>\n",
              "      <th>SellerG</th>\n",
              "      <th>Distance</th>\n",
              "      <th>Postcode</th>\n",
              "      <th>Bathroom</th>\n",
              "      <th>Car</th>\n",
              "      <th>Landsize</th>\n",
              "      <th>BuildingArea</th>\n",
              "      <th>YearBuilt</th>\n",
              "      <th>CouncilArea</th>\n",
              "      <th>Longtitude</th>\n",
              "      <th>Regionname</th>\n",
              "      <th>Propertycount</th>\n",
              "    </tr>\n",
              "  </thead>\n",
              "  <tbody>\n",
              "    <tr>\n",
              "      <th>5067</th>\n",
              "      <td>4</td>\n",
              "      <td>0</td>\n",
              "      <td>1</td>\n",
              "      <td>32</td>\n",
              "      <td>27.0</td>\n",
              "      <td>3196</td>\n",
              "      <td>2</td>\n",
              "      <td>2</td>\n",
              "      <td>536</td>\n",
              "      <td>202.0</td>\n",
              "      <td>1985</td>\n",
              "      <td>12</td>\n",
              "      <td>145.13286</td>\n",
              "      <td>4</td>\n",
              "      <td>2076</td>\n",
              "    </tr>\n",
              "    <tr>\n",
              "      <th>3722</th>\n",
              "      <td>4</td>\n",
              "      <td>0</td>\n",
              "      <td>1</td>\n",
              "      <td>28</td>\n",
              "      <td>12.4</td>\n",
              "      <td>3060</td>\n",
              "      <td>2</td>\n",
              "      <td>2</td>\n",
              "      <td>567</td>\n",
              "      <td>116.0</td>\n",
              "      <td>1950</td>\n",
              "      <td>23</td>\n",
              "      <td>144.97030</td>\n",
              "      <td>2</td>\n",
              "      <td>5070</td>\n",
              "    </tr>\n",
              "    <tr>\n",
              "      <th>6820</th>\n",
              "      <td>5</td>\n",
              "      <td>0</td>\n",
              "      <td>1</td>\n",
              "      <td>16</td>\n",
              "      <td>12.4</td>\n",
              "      <td>3107</td>\n",
              "      <td>3</td>\n",
              "      <td>2</td>\n",
              "      <td>717</td>\n",
              "      <td>310.0</td>\n",
              "      <td>1963</td>\n",
              "      <td>-1</td>\n",
              "      <td>145.11320</td>\n",
              "      <td>0</td>\n",
              "      <td>5420</td>\n",
              "    </tr>\n",
              "    <tr>\n",
              "      <th>3103</th>\n",
              "      <td>2</td>\n",
              "      <td>2</td>\n",
              "      <td>1</td>\n",
              "      <td>196</td>\n",
              "      <td>3.3</td>\n",
              "      <td>3141</td>\n",
              "      <td>1</td>\n",
              "      <td>1</td>\n",
              "      <td>0</td>\n",
              "      <td>61.0</td>\n",
              "      <td>1965</td>\n",
              "      <td>26</td>\n",
              "      <td>144.98860</td>\n",
              "      <td>5</td>\n",
              "      <td>14887</td>\n",
              "    </tr>\n",
              "    <tr>\n",
              "      <th>2820</th>\n",
              "      <td>3</td>\n",
              "      <td>0</td>\n",
              "      <td>1</td>\n",
              "      <td>16</td>\n",
              "      <td>11.2</td>\n",
              "      <td>3073</td>\n",
              "      <td>2</td>\n",
              "      <td>1</td>\n",
              "      <td>618</td>\n",
              "      <td>149.0</td>\n",
              "      <td>1965</td>\n",
              "      <td>6</td>\n",
              "      <td>145.02120</td>\n",
              "      <td>2</td>\n",
              "      <td>21650</td>\n",
              "    </tr>\n",
              "    <tr>\n",
              "      <th>...</th>\n",
              "      <td>...</td>\n",
              "      <td>...</td>\n",
              "      <td>...</td>\n",
              "      <td>...</td>\n",
              "      <td>...</td>\n",
              "      <td>...</td>\n",
              "      <td>...</td>\n",
              "      <td>...</td>\n",
              "      <td>...</td>\n",
              "      <td>...</td>\n",
              "      <td>...</td>\n",
              "      <td>...</td>\n",
              "      <td>...</td>\n",
              "      <td>...</td>\n",
              "      <td>...</td>\n",
              "    </tr>\n",
              "    <tr>\n",
              "      <th>6339</th>\n",
              "      <td>3</td>\n",
              "      <td>0</td>\n",
              "      <td>1</td>\n",
              "      <td>161</td>\n",
              "      <td>17.2</td>\n",
              "      <td>3132</td>\n",
              "      <td>2</td>\n",
              "      <td>2</td>\n",
              "      <td>534</td>\n",
              "      <td>187.0</td>\n",
              "      <td>1970</td>\n",
              "      <td>-1</td>\n",
              "      <td>145.18975</td>\n",
              "      <td>0</td>\n",
              "      <td>6871</td>\n",
              "    </tr>\n",
              "    <tr>\n",
              "      <th>2687</th>\n",
              "      <td>3</td>\n",
              "      <td>0</td>\n",
              "      <td>1</td>\n",
              "      <td>260</td>\n",
              "      <td>8.8</td>\n",
              "      <td>3072</td>\n",
              "      <td>1</td>\n",
              "      <td>0</td>\n",
              "      <td>148</td>\n",
              "      <td>3.0</td>\n",
              "      <td>1950</td>\n",
              "      <td>6</td>\n",
              "      <td>145.00810</td>\n",
              "      <td>2</td>\n",
              "      <td>14577</td>\n",
              "    </tr>\n",
              "    <tr>\n",
              "      <th>2564</th>\n",
              "      <td>4</td>\n",
              "      <td>0</td>\n",
              "      <td>3</td>\n",
              "      <td>260</td>\n",
              "      <td>9.9</td>\n",
              "      <td>3044</td>\n",
              "      <td>2</td>\n",
              "      <td>2</td>\n",
              "      <td>250</td>\n",
              "      <td>194.0</td>\n",
              "      <td>1983</td>\n",
              "      <td>23</td>\n",
              "      <td>144.94610</td>\n",
              "      <td>2</td>\n",
              "      <td>7485</td>\n",
              "    </tr>\n",
              "    <tr>\n",
              "      <th>290</th>\n",
              "      <td>5</td>\n",
              "      <td>0</td>\n",
              "      <td>0</td>\n",
              "      <td>192</td>\n",
              "      <td>9.7</td>\n",
              "      <td>3103</td>\n",
              "      <td>3</td>\n",
              "      <td>2</td>\n",
              "      <td>715</td>\n",
              "      <td>420.0</td>\n",
              "      <td>2009</td>\n",
              "      <td>2</td>\n",
              "      <td>145.07680</td>\n",
              "      <td>5</td>\n",
              "      <td>5682</td>\n",
              "    </tr>\n",
              "    <tr>\n",
              "      <th>239</th>\n",
              "      <td>4</td>\n",
              "      <td>0</td>\n",
              "      <td>1</td>\n",
              "      <td>73</td>\n",
              "      <td>12.2</td>\n",
              "      <td>3147</td>\n",
              "      <td>2</td>\n",
              "      <td>2</td>\n",
              "      <td>621</td>\n",
              "      <td>203.0</td>\n",
              "      <td>2000</td>\n",
              "      <td>20</td>\n",
              "      <td>145.10230</td>\n",
              "      <td>5</td>\n",
              "      <td>2894</td>\n",
              "    </tr>\n",
              "  </tbody>\n",
              "</table>\n",
              "<p>2049 rows × 15 columns</p>\n",
              "</div>"
            ],
            "text/plain": [
              "      Rooms  Type  Method  ...  Longtitude  Regionname  Propertycount\n",
              "5067      4     0       1  ...   145.13286           4           2076\n",
              "3722      4     0       1  ...   144.97030           2           5070\n",
              "6820      5     0       1  ...   145.11320           0           5420\n",
              "3103      2     2       1  ...   144.98860           5          14887\n",
              "2820      3     0       1  ...   145.02120           2          21650\n",
              "...     ...   ...     ...  ...         ...         ...            ...\n",
              "6339      3     0       1  ...   145.18975           0           6871\n",
              "2687      3     0       1  ...   145.00810           2          14577\n",
              "2564      4     0       3  ...   144.94610           2           7485\n",
              "290       5     0       0  ...   145.07680           5           5682\n",
              "239       4     0       1  ...   145.10230           5           2894\n",
              "\n",
              "[2049 rows x 15 columns]"
            ]
          },
          "metadata": {
            "tags": []
          },
          "execution_count": 11
        }
      ]
    },
    {
      "cell_type": "code",
      "metadata": {
        "id": "7LyF8hcH97G9"
      },
      "source": [
        "corr = X_train.corr()"
      ],
      "execution_count": 12,
      "outputs": []
    },
    {
      "cell_type": "code",
      "metadata": {
        "colab": {
          "base_uri": "https://localhost:8080/",
          "height": 534
        },
        "id": "Y2jQBge6-d0E",
        "outputId": "3ea78a00-05e6-4e32-96e9-b58a26e0397b"
      },
      "source": [
        "corr"
      ],
      "execution_count": 13,
      "outputs": [
        {
          "output_type": "execute_result",
          "data": {
            "text/html": [
              "<div>\n",
              "<style scoped>\n",
              "    .dataframe tbody tr th:only-of-type {\n",
              "        vertical-align: middle;\n",
              "    }\n",
              "\n",
              "    .dataframe tbody tr th {\n",
              "        vertical-align: top;\n",
              "    }\n",
              "\n",
              "    .dataframe thead th {\n",
              "        text-align: right;\n",
              "    }\n",
              "</style>\n",
              "<table border=\"1\" class=\"dataframe\">\n",
              "  <thead>\n",
              "    <tr style=\"text-align: right;\">\n",
              "      <th></th>\n",
              "      <th>Rooms</th>\n",
              "      <th>Type</th>\n",
              "      <th>Method</th>\n",
              "      <th>SellerG</th>\n",
              "      <th>Distance</th>\n",
              "      <th>Postcode</th>\n",
              "      <th>Bathroom</th>\n",
              "      <th>Car</th>\n",
              "      <th>Landsize</th>\n",
              "      <th>BuildingArea</th>\n",
              "      <th>YearBuilt</th>\n",
              "      <th>CouncilArea</th>\n",
              "      <th>Longtitude</th>\n",
              "      <th>Regionname</th>\n",
              "      <th>Propertycount</th>\n",
              "    </tr>\n",
              "  </thead>\n",
              "  <tbody>\n",
              "    <tr>\n",
              "      <th>Rooms</th>\n",
              "      <td>1.000000</td>\n",
              "      <td>-0.590817</td>\n",
              "      <td>-0.053525</td>\n",
              "      <td>-0.029506</td>\n",
              "      <td>0.289699</td>\n",
              "      <td>0.050753</td>\n",
              "      <td>0.607276</td>\n",
              "      <td>0.420030</td>\n",
              "      <td>0.092030</td>\n",
              "      <td>0.595395</td>\n",
              "      <td>-0.056373</td>\n",
              "      <td>-0.207234</td>\n",
              "      <td>0.095944</td>\n",
              "      <td>-0.009092</td>\n",
              "      <td>-0.106854</td>\n",
              "    </tr>\n",
              "    <tr>\n",
              "      <th>Type</th>\n",
              "      <td>-0.590817</td>\n",
              "      <td>1.000000</td>\n",
              "      <td>0.088308</td>\n",
              "      <td>0.026955</td>\n",
              "      <td>-0.242188</td>\n",
              "      <td>0.018737</td>\n",
              "      <td>-0.276890</td>\n",
              "      <td>-0.278868</td>\n",
              "      <td>-0.043433</td>\n",
              "      <td>-0.386768</td>\n",
              "      <td>0.304479</td>\n",
              "      <td>0.159736</td>\n",
              "      <td>0.000434</td>\n",
              "      <td>0.055988</td>\n",
              "      <td>0.111803</td>\n",
              "    </tr>\n",
              "    <tr>\n",
              "      <th>Method</th>\n",
              "      <td>-0.053525</td>\n",
              "      <td>0.088308</td>\n",
              "      <td>1.000000</td>\n",
              "      <td>-0.008889</td>\n",
              "      <td>-0.064479</td>\n",
              "      <td>-0.034679</td>\n",
              "      <td>-0.013801</td>\n",
              "      <td>-0.019285</td>\n",
              "      <td>-0.021601</td>\n",
              "      <td>-0.048287</td>\n",
              "      <td>0.021274</td>\n",
              "      <td>0.018771</td>\n",
              "      <td>-0.059914</td>\n",
              "      <td>0.033184</td>\n",
              "      <td>-0.024244</td>\n",
              "    </tr>\n",
              "    <tr>\n",
              "      <th>SellerG</th>\n",
              "      <td>-0.029506</td>\n",
              "      <td>0.026955</td>\n",
              "      <td>-0.008889</td>\n",
              "      <td>1.000000</td>\n",
              "      <td>0.024476</td>\n",
              "      <td>-0.001913</td>\n",
              "      <td>-0.034939</td>\n",
              "      <td>-0.000271</td>\n",
              "      <td>-0.028470</td>\n",
              "      <td>-0.042596</td>\n",
              "      <td>-0.000680</td>\n",
              "      <td>-0.002784</td>\n",
              "      <td>-0.061029</td>\n",
              "      <td>0.023397</td>\n",
              "      <td>0.063498</td>\n",
              "    </tr>\n",
              "    <tr>\n",
              "      <th>Distance</th>\n",
              "      <td>0.289699</td>\n",
              "      <td>-0.242188</td>\n",
              "      <td>-0.064479</td>\n",
              "      <td>0.024476</td>\n",
              "      <td>1.000000</td>\n",
              "      <td>0.414110</td>\n",
              "      <td>0.114934</td>\n",
              "      <td>0.257264</td>\n",
              "      <td>0.063563</td>\n",
              "      <td>0.145823</td>\n",
              "      <td>0.252163</td>\n",
              "      <td>-0.280674</td>\n",
              "      <td>0.210853</td>\n",
              "      <td>-0.089077</td>\n",
              "      <td>-0.063805</td>\n",
              "    </tr>\n",
              "    <tr>\n",
              "      <th>Postcode</th>\n",
              "      <td>0.050753</td>\n",
              "      <td>0.018737</td>\n",
              "      <td>-0.034679</td>\n",
              "      <td>-0.001913</td>\n",
              "      <td>0.414110</td>\n",
              "      <td>1.000000</td>\n",
              "      <td>0.088003</td>\n",
              "      <td>0.024650</td>\n",
              "      <td>0.030973</td>\n",
              "      <td>0.062701</td>\n",
              "      <td>0.027168</td>\n",
              "      <td>-0.059066</td>\n",
              "      <td>0.423931</td>\n",
              "      <td>0.006935</td>\n",
              "      <td>0.058458</td>\n",
              "    </tr>\n",
              "    <tr>\n",
              "      <th>Bathroom</th>\n",
              "      <td>0.607276</td>\n",
              "      <td>-0.276890</td>\n",
              "      <td>-0.013801</td>\n",
              "      <td>-0.034939</td>\n",
              "      <td>0.114934</td>\n",
              "      <td>0.088003</td>\n",
              "      <td>1.000000</td>\n",
              "      <td>0.325872</td>\n",
              "      <td>0.080768</td>\n",
              "      <td>0.525465</td>\n",
              "      <td>0.162484</td>\n",
              "      <td>-0.102732</td>\n",
              "      <td>0.109001</td>\n",
              "      <td>0.037968</td>\n",
              "      <td>-0.058078</td>\n",
              "    </tr>\n",
              "    <tr>\n",
              "      <th>Car</th>\n",
              "      <td>0.420030</td>\n",
              "      <td>-0.278868</td>\n",
              "      <td>-0.019285</td>\n",
              "      <td>-0.000271</td>\n",
              "      <td>0.257264</td>\n",
              "      <td>0.024650</td>\n",
              "      <td>0.325872</td>\n",
              "      <td>1.000000</td>\n",
              "      <td>0.112280</td>\n",
              "      <td>0.318675</td>\n",
              "      <td>0.108676</td>\n",
              "      <td>-0.164842</td>\n",
              "      <td>0.048052</td>\n",
              "      <td>0.005941</td>\n",
              "      <td>-0.032157</td>\n",
              "    </tr>\n",
              "    <tr>\n",
              "      <th>Landsize</th>\n",
              "      <td>0.092030</td>\n",
              "      <td>-0.043433</td>\n",
              "      <td>-0.021601</td>\n",
              "      <td>-0.028470</td>\n",
              "      <td>0.063563</td>\n",
              "      <td>0.030973</td>\n",
              "      <td>0.080768</td>\n",
              "      <td>0.112280</td>\n",
              "      <td>1.000000</td>\n",
              "      <td>0.081878</td>\n",
              "      <td>0.032836</td>\n",
              "      <td>-0.049492</td>\n",
              "      <td>0.039890</td>\n",
              "      <td>-0.012608</td>\n",
              "      <td>-0.019397</td>\n",
              "    </tr>\n",
              "    <tr>\n",
              "      <th>BuildingArea</th>\n",
              "      <td>0.595395</td>\n",
              "      <td>-0.386768</td>\n",
              "      <td>-0.048287</td>\n",
              "      <td>-0.042596</td>\n",
              "      <td>0.145823</td>\n",
              "      <td>0.062701</td>\n",
              "      <td>0.525465</td>\n",
              "      <td>0.318675</td>\n",
              "      <td>0.081878</td>\n",
              "      <td>1.000000</td>\n",
              "      <td>0.014778</td>\n",
              "      <td>-0.165966</td>\n",
              "      <td>0.105596</td>\n",
              "      <td>0.033615</td>\n",
              "      <td>-0.071308</td>\n",
              "    </tr>\n",
              "    <tr>\n",
              "      <th>YearBuilt</th>\n",
              "      <td>-0.056373</td>\n",
              "      <td>0.304479</td>\n",
              "      <td>0.021274</td>\n",
              "      <td>-0.000680</td>\n",
              "      <td>0.252163</td>\n",
              "      <td>0.027168</td>\n",
              "      <td>0.162484</td>\n",
              "      <td>0.108676</td>\n",
              "      <td>0.032836</td>\n",
              "      <td>0.014778</td>\n",
              "      <td>1.000000</td>\n",
              "      <td>-0.065787</td>\n",
              "      <td>-0.009848</td>\n",
              "      <td>-0.014789</td>\n",
              "      <td>0.015524</td>\n",
              "    </tr>\n",
              "    <tr>\n",
              "      <th>CouncilArea</th>\n",
              "      <td>-0.207234</td>\n",
              "      <td>0.159736</td>\n",
              "      <td>0.018771</td>\n",
              "      <td>-0.002784</td>\n",
              "      <td>-0.280674</td>\n",
              "      <td>-0.059066</td>\n",
              "      <td>-0.102732</td>\n",
              "      <td>-0.164842</td>\n",
              "      <td>-0.049492</td>\n",
              "      <td>-0.165966</td>\n",
              "      <td>-0.065787</td>\n",
              "      <td>1.000000</td>\n",
              "      <td>-0.159771</td>\n",
              "      <td>-0.046359</td>\n",
              "      <td>0.017378</td>\n",
              "    </tr>\n",
              "    <tr>\n",
              "      <th>Longtitude</th>\n",
              "      <td>0.095944</td>\n",
              "      <td>0.000434</td>\n",
              "      <td>-0.059914</td>\n",
              "      <td>-0.061029</td>\n",
              "      <td>0.210853</td>\n",
              "      <td>0.423931</td>\n",
              "      <td>0.109001</td>\n",
              "      <td>0.048052</td>\n",
              "      <td>0.039890</td>\n",
              "      <td>0.105596</td>\n",
              "      <td>-0.009848</td>\n",
              "      <td>-0.159771</td>\n",
              "      <td>1.000000</td>\n",
              "      <td>-0.480664</td>\n",
              "      <td>0.045455</td>\n",
              "    </tr>\n",
              "    <tr>\n",
              "      <th>Regionname</th>\n",
              "      <td>-0.009092</td>\n",
              "      <td>0.055988</td>\n",
              "      <td>0.033184</td>\n",
              "      <td>0.023397</td>\n",
              "      <td>-0.089077</td>\n",
              "      <td>0.006935</td>\n",
              "      <td>0.037968</td>\n",
              "      <td>0.005941</td>\n",
              "      <td>-0.012608</td>\n",
              "      <td>0.033615</td>\n",
              "      <td>-0.014789</td>\n",
              "      <td>-0.046359</td>\n",
              "      <td>-0.480664</td>\n",
              "      <td>1.000000</td>\n",
              "      <td>-0.141699</td>\n",
              "    </tr>\n",
              "    <tr>\n",
              "      <th>Propertycount</th>\n",
              "      <td>-0.106854</td>\n",
              "      <td>0.111803</td>\n",
              "      <td>-0.024244</td>\n",
              "      <td>0.063498</td>\n",
              "      <td>-0.063805</td>\n",
              "      <td>0.058458</td>\n",
              "      <td>-0.058078</td>\n",
              "      <td>-0.032157</td>\n",
              "      <td>-0.019397</td>\n",
              "      <td>-0.071308</td>\n",
              "      <td>0.015524</td>\n",
              "      <td>0.017378</td>\n",
              "      <td>0.045455</td>\n",
              "      <td>-0.141699</td>\n",
              "      <td>1.000000</td>\n",
              "    </tr>\n",
              "  </tbody>\n",
              "</table>\n",
              "</div>"
            ],
            "text/plain": [
              "                  Rooms      Type  ...  Regionname  Propertycount\n",
              "Rooms          1.000000 -0.590817  ...   -0.009092      -0.106854\n",
              "Type          -0.590817  1.000000  ...    0.055988       0.111803\n",
              "Method        -0.053525  0.088308  ...    0.033184      -0.024244\n",
              "SellerG       -0.029506  0.026955  ...    0.023397       0.063498\n",
              "Distance       0.289699 -0.242188  ...   -0.089077      -0.063805\n",
              "Postcode       0.050753  0.018737  ...    0.006935       0.058458\n",
              "Bathroom       0.607276 -0.276890  ...    0.037968      -0.058078\n",
              "Car            0.420030 -0.278868  ...    0.005941      -0.032157\n",
              "Landsize       0.092030 -0.043433  ...   -0.012608      -0.019397\n",
              "BuildingArea   0.595395 -0.386768  ...    0.033615      -0.071308\n",
              "YearBuilt     -0.056373  0.304479  ...   -0.014789       0.015524\n",
              "CouncilArea   -0.207234  0.159736  ...   -0.046359       0.017378\n",
              "Longtitude     0.095944  0.000434  ...   -0.480664       0.045455\n",
              "Regionname    -0.009092  0.055988  ...    1.000000      -0.141699\n",
              "Propertycount -0.106854  0.111803  ...   -0.141699       1.000000\n",
              "\n",
              "[15 rows x 15 columns]"
            ]
          },
          "metadata": {
            "tags": []
          },
          "execution_count": 13
        }
      ]
    },
    {
      "cell_type": "markdown",
      "metadata": {
        "id": "c-dvDHCtABOA"
      },
      "source": [
        "# **Task-2 = Prediction Using Linear Regression**"
      ]
    },
    {
      "cell_type": "code",
      "metadata": {
        "id": "vROAsaoiAOae"
      },
      "source": [
        "regressor = LinearRegression()"
      ],
      "execution_count": 14,
      "outputs": []
    },
    {
      "cell_type": "code",
      "metadata": {
        "colab": {
          "base_uri": "https://localhost:8080/"
        },
        "id": "T248isBYF7-J",
        "outputId": "2f90f739-43d1-41ee-a4e0-ac662fecb326"
      },
      "source": [
        "regressor.fit(X_train,y_train)\n"
      ],
      "execution_count": 15,
      "outputs": [
        {
          "output_type": "execute_result",
          "data": {
            "text/plain": [
              "LinearRegression(copy_X=True, fit_intercept=True, n_jobs=None, normalize=False)"
            ]
          },
          "metadata": {
            "tags": []
          },
          "execution_count": 15
        }
      ]
    },
    {
      "cell_type": "code",
      "metadata": {
        "id": "540vGUJDGCiI"
      },
      "source": [
        "y_pred = regressor.predict(X_test)"
      ],
      "execution_count": 16,
      "outputs": []
    },
    {
      "cell_type": "code",
      "metadata": {
        "colab": {
          "base_uri": "https://localhost:8080/"
        },
        "id": "dVjURKRMGIf9",
        "outputId": "4cf09e30-a539-44e8-fd95-6b9b3896d312"
      },
      "source": [
        "r2 = regressor.score(X_test,y_test)\n",
        "r2"
      ],
      "execution_count": 17,
      "outputs": [
        {
          "output_type": "execute_result",
          "data": {
            "text/plain": [
              "0.6108759228743502"
            ]
          },
          "metadata": {
            "tags": []
          },
          "execution_count": 17
        }
      ]
    },
    {
      "cell_type": "markdown",
      "metadata": {
        "id": "IufFSfmRHVwu"
      },
      "source": [
        "# **Tasl-3 = Prediction Using Lasso**"
      ]
    },
    {
      "cell_type": "code",
      "metadata": {
        "id": "Kmd7rM-JbLT_"
      },
      "source": [
        "lasso = Lasso()"
      ],
      "execution_count": 18,
      "outputs": []
    },
    {
      "cell_type": "code",
      "metadata": {
        "colab": {
          "base_uri": "https://localhost:8080/"
        },
        "id": "zwUo455BHU1j",
        "outputId": "077db761-d412-4d0c-92ee-88f585ac6bb5"
      },
      "source": [
        "lasso.fit(X_train,y_train)"
      ],
      "execution_count": 19,
      "outputs": [
        {
          "output_type": "execute_result",
          "data": {
            "text/plain": [
              "Lasso(alpha=1.0, copy_X=True, fit_intercept=True, max_iter=1000,\n",
              "      normalize=False, positive=False, precompute=False, random_state=None,\n",
              "      selection='cyclic', tol=0.0001, warm_start=False)"
            ]
          },
          "metadata": {
            "tags": []
          },
          "execution_count": 19
        }
      ]
    },
    {
      "cell_type": "code",
      "metadata": {
        "id": "nQDFqgonHVDm"
      },
      "source": [
        "lasso_pred = lasso.predict(X_test)"
      ],
      "execution_count": 20,
      "outputs": []
    },
    {
      "cell_type": "code",
      "metadata": {
        "colab": {
          "base_uri": "https://localhost:8080/"
        },
        "id": "av5HfBgbcXQk",
        "outputId": "8681f0bb-a3fe-4b0f-8d89-e96b55bd9b7a"
      },
      "source": [
        "r2_lasso_1 = lasso.score(X_test,y_test)\n",
        "r2_lasso_1"
      ],
      "execution_count": 21,
      "outputs": [
        {
          "output_type": "execute_result",
          "data": {
            "text/plain": [
              "0.6108776228380532"
            ]
          },
          "metadata": {
            "tags": []
          },
          "execution_count": 21
        }
      ]
    },
    {
      "cell_type": "markdown",
      "metadata": {
        "id": "txABiTe6dvjL"
      },
      "source": [
        "# **task-4 = Prediction Using Ridge**"
      ]
    },
    {
      "cell_type": "code",
      "metadata": {
        "id": "EvTvyOo4dvDL"
      },
      "source": [
        "ridge = Ridge()"
      ],
      "execution_count": 22,
      "outputs": []
    },
    {
      "cell_type": "code",
      "metadata": {
        "colab": {
          "base_uri": "https://localhost:8080/"
        },
        "id": "LLUYfWw3elvN",
        "outputId": "1551a326-a31f-4ad7-b431-0af8ebd168e1"
      },
      "source": [
        "ridge.fit(X_train,y_train)"
      ],
      "execution_count": 23,
      "outputs": [
        {
          "output_type": "execute_result",
          "data": {
            "text/plain": [
              "Ridge(alpha=1.0, copy_X=True, fit_intercept=True, max_iter=None,\n",
              "      normalize=False, random_state=None, solver='auto', tol=0.001)"
            ]
          },
          "metadata": {
            "tags": []
          },
          "execution_count": 23
        }
      ]
    },
    {
      "cell_type": "code",
      "metadata": {
        "id": "n0MYZA1qernI"
      },
      "source": [
        "ridge_pred = ridge.predict(X_test)"
      ],
      "execution_count": 24,
      "outputs": []
    },
    {
      "cell_type": "code",
      "metadata": {
        "colab": {
          "base_uri": "https://localhost:8080/"
        },
        "id": "xAjAQ5K6eyF1",
        "outputId": "3d88e970-fd12-4e52-8d5f-a38cc503cfaf"
      },
      "source": [
        "r2_ridge = ridge.score(X_test,y_test)\n",
        "r2_ridge"
      ],
      "execution_count": 25,
      "outputs": [
        {
          "output_type": "execute_result",
          "data": {
            "text/plain": [
              "0.6112942316771465"
            ]
          },
          "metadata": {
            "tags": []
          },
          "execution_count": 25
        }
      ]
    },
    {
      "cell_type": "markdown",
      "metadata": {
        "id": "fGQ7p6Qye6-8"
      },
      "source": [
        "# **Task-5 = Prediction Using Cross Validation**"
      ]
    },
    {
      "cell_type": "code",
      "metadata": {
        "id": "ySC6d5fBfCI5"
      },
      "source": [
        "regressor = LinearRegression()"
      ],
      "execution_count": 26,
      "outputs": []
    },
    {
      "cell_type": "code",
      "metadata": {
        "colab": {
          "base_uri": "https://localhost:8080/"
        },
        "id": "buIBSXCmfC4h",
        "outputId": "5a2b0639-1f2d-4ed8-96b3-48f1496322cf"
      },
      "source": [
        "score = cross_val_score(regressor,X_train,y_train,scoring = 'r2',cv=10)\n",
        "score"
      ],
      "execution_count": 27,
      "outputs": [
        {
          "output_type": "execute_result",
          "data": {
            "text/plain": [
              "array([0.59261059, 0.64601294, 0.70295375, 0.70614706, 0.45202523,\n",
              "       0.60449834, 0.65860055, 0.66492627, 0.44047621, 0.63294729])"
            ]
          },
          "metadata": {
            "tags": []
          },
          "execution_count": 27
        }
      ]
    },
    {
      "cell_type": "code",
      "metadata": {
        "colab": {
          "base_uri": "https://localhost:8080/"
        },
        "id": "_0QuOpGdfC_k",
        "outputId": "1a7a6ea6-3ad4-4947-bee6-c4e6e42cd8e3"
      },
      "source": [
        "mean_score = np.mean(score)\n",
        "mean_score"
      ],
      "execution_count": 28,
      "outputs": [
        {
          "output_type": "execute_result",
          "data": {
            "text/plain": [
              "0.6101198231670789"
            ]
          },
          "metadata": {
            "tags": []
          },
          "execution_count": 28
        }
      ]
    },
    {
      "cell_type": "markdown",
      "metadata": {
        "id": "nS4JQB4Ngw2n"
      },
      "source": [
        "# **Task-6 = Prediction Using Polynomial Regressor**"
      ]
    },
    {
      "cell_type": "code",
      "metadata": {
        "id": "myuA8KoMg-IV"
      },
      "source": [
        "model = make_pipeline(PolynomialFeatures(2), LinearRegression())"
      ],
      "execution_count": 29,
      "outputs": []
    },
    {
      "cell_type": "code",
      "metadata": {
        "colab": {
          "base_uri": "https://localhost:8080/"
        },
        "id": "sw5xD4muhVKX",
        "outputId": "788f431f-927b-440f-9edc-3b78cd648dc5"
      },
      "source": [
        "model.fit(X_train,y_train)"
      ],
      "execution_count": 30,
      "outputs": [
        {
          "output_type": "execute_result",
          "data": {
            "text/plain": [
              "Pipeline(memory=None,\n",
              "         steps=[('polynomialfeatures',\n",
              "                 PolynomialFeatures(degree=2, include_bias=True,\n",
              "                                    interaction_only=False, order='C')),\n",
              "                ('linearregression',\n",
              "                 LinearRegression(copy_X=True, fit_intercept=True, n_jobs=None,\n",
              "                                  normalize=False))],\n",
              "         verbose=False)"
            ]
          },
          "metadata": {
            "tags": []
          },
          "execution_count": 30
        }
      ]
    },
    {
      "cell_type": "code",
      "metadata": {
        "id": "9oiTAdKFho0d"
      },
      "source": [
        "y_pred = model.predict(X_test)"
      ],
      "execution_count": 31,
      "outputs": []
    },
    {
      "cell_type": "code",
      "metadata": {
        "colab": {
          "base_uri": "https://localhost:8080/"
        },
        "id": "NHOekxLMh2u0",
        "outputId": "1a29279f-512b-4652-b229-6a9fb34b489d"
      },
      "source": [
        "r2_poly = model.score(X_test,y_test)\n",
        "r2_poly"
      ],
      "execution_count": 32,
      "outputs": [
        {
          "output_type": "execute_result",
          "data": {
            "text/plain": [
              "0.7137058454188571"
            ]
          },
          "metadata": {
            "tags": []
          },
          "execution_count": 32
        }
      ]
    },
    {
      "cell_type": "code",
      "metadata": {
        "colab": {
          "base_uri": "https://localhost:8080/"
        },
        "id": "8-8RSq4ch-7r",
        "outputId": "22e7eb66-4ba7-4eb6-c74d-e9956ab8caf4"
      },
      "source": [
        "r2_poly_1 = r2_score(y_pred,y_test)\n",
        "r2_poly_1"
      ],
      "execution_count": 33,
      "outputs": [
        {
          "output_type": "execute_result",
          "data": {
            "text/plain": [
              "0.6630997292827592"
            ]
          },
          "metadata": {
            "tags": []
          },
          "execution_count": 33
        }
      ]
    },
    {
      "cell_type": "code",
      "metadata": {
        "id": "ZUxsFemPioFN"
      },
      "source": [
        ""
      ],
      "execution_count": 33,
      "outputs": []
    }
  ]
}